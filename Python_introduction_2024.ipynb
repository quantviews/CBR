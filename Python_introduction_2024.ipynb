{
  "cells": [
    {
      "cell_type": "markdown",
      "metadata": {
        "id": "view-in-github",
        "colab_type": "text"
      },
      "source": [
        "<a href=\"https://colab.research.google.com/github/quantviews/CBR/blob/master/Python_introduction_2024.ipynb\" target=\"_parent\"><img src=\"https://colab.research.google.com/assets/colab-badge.svg\" alt=\"Open In Colab\"/></a>"
      ]
    },
    {
      "cell_type": "code",
      "execution_count": 1,
      "metadata": {
        "colab": {
          "base_uri": "https://localhost:8080/"
        },
        "id": "SbgRm4jaFVsA",
        "outputId": "1eeda1e2-e475-446c-ec86-15c444450ed5"
      },
      "outputs": [
        {
          "output_type": "stream",
          "name": "stdout",
          "text": [
            "Python 3.10.12\n"
          ]
        }
      ],
      "source": [
        "!python --version"
      ]
    },
    {
      "cell_type": "code",
      "execution_count": 2,
      "metadata": {
        "colab": {
          "base_uri": "https://localhost:8080/"
        },
        "id": "JOceXyt0JjtL",
        "outputId": "af8429e4-59dd-4aed-9838-0567beb89f81"
      },
      "outputs": [
        {
          "output_type": "stream",
          "name": "stdout",
          "text": [
            "this is our program!\n"
          ]
        }
      ],
      "source": [
        "# similar to \"Hello world!\"\" examples\n",
        "message = \"this is our program!\"\n",
        "print(message)"
      ]
    },
    {
      "cell_type": "markdown",
      "metadata": {
        "id": "u_CXLBSfFChh"
      },
      "source": [
        "Before programming:\n",
        "\n",
        "1. what is a program, how can it run (`python code.py`)\n",
        "2. **command line**\n",
        "3. filesystem (navigating and finding files)\n",
        "4. markdown (for example for text cells in Colab)\n"
      ]
    },
    {
      "cell_type": "markdown",
      "metadata": {
        "id": "7qtgj3t0LE_c"
      },
      "source": [
        "# Suggested reading:\n",
        "\n",
        "Python ecosystem:\n",
        "\n",
        "- [Developer survey](https://lp.jetbrains.com/python-developers-survey-2021/) - what are top 3 use areas for Python?\n",
        "\n",
        "- [Github projects by popularity](https://github.com/topics/python?o=desc&s=stars)\n",
        "\n",
        "Economics-related reading:\n",
        "\n",
        "  - [Scipy Lectures - First Steps](http://scipy-lectures.org/intro/language/first_steps.html) (*)\n",
        "  - [Quantecon Learning Python](https://python-programming.quantecon.org/python_essentials.html) (*)\n",
        "\n",
        "Good list of topics to cover:\n",
        "\n",
        "  - https://github.com/trekhleb/learn-python#table-of-contents (*)\n",
        "\n",
        "(\\*) core for this part of the course\n",
        "\n",
        "Official Python documentation:\n",
        "\n",
        "  - [tutorial](https://docs.python.org/3/tutorial/index.html)\n",
        "  - [glossary](https://docs.python.org/3/glossary.html)\n",
        "\n",
        "Advanced levels - developer track:\n",
        "\n",
        "- [StackOverfow](https://stackoverflow.com/questions/tagged/python):\n",
        "   (note 3000-5000 upvotes range), check out [MRE](https://stackoverflow.com/help/minimal-reproducible-example)\n",
        "\n"
      ]
    },
    {
      "cell_type": "markdown",
      "metadata": {
        "id": "e54pVWyNk2z_"
      },
      "source": [
        "# Values and expressions"
      ]
    },
    {
      "cell_type": "code",
      "execution_count": 3,
      "metadata": {
        "colab": {
          "base_uri": "https://localhost:8080/"
        },
        "id": "SrWfsMIKvGVf",
        "outputId": "d8cc5106-9c9a-46ac-cb9a-4fc12278e72a"
      },
      "outputs": [
        {
          "output_type": "stream",
          "name": "stdout",
          "text": [
            "67688.0\n"
          ]
        }
      ],
      "source": [
        "price = 676.88\n",
        "q = 100\n",
        "print(price * q)\n",
        "\n",
        "# What this calculation may signify?\n",
        "# What other values p and q might take?\n",
        "# Can you assume any restrictions on p and q?"
      ]
    },
    {
      "cell_type": "code",
      "execution_count": null,
      "metadata": {
        "id": "z2lvXBx91EC4",
        "colab": {
          "base_uri": "https://localhost:8080/"
        },
        "outputId": "bb620b29-6def-4850-bfaf-5bb969dfc07c"
      },
      "outputs": [
        {
          "output_type": "execute_result",
          "data": {
            "text/plain": [
              "False"
            ]
          },
          "metadata": {},
          "execution_count": 50
        }
      ],
      "source": [
        "# What could this check do?\n",
        "(price >= 720)"
      ]
    },
    {
      "cell_type": "code",
      "source": [
        "False"
      ],
      "metadata": {
        "colab": {
          "base_uri": "https://localhost:8080/"
        },
        "id": "R9pt20lXQWI9",
        "outputId": "678e68e4-efb0-4686-a809-53137b9e1992"
      },
      "execution_count": null,
      "outputs": [
        {
          "output_type": "execute_result",
          "data": {
            "text/plain": [
              "False"
            ]
          },
          "metadata": {},
          "execution_count": 4
        }
      ]
    },
    {
      "cell_type": "code",
      "execution_count": null,
      "metadata": {
        "colab": {
          "base_uri": "https://localhost:8080/",
          "height": 35
        },
        "id": "J4BGzY9oBOD0",
        "outputId": "82e680a1-ba40-4dc2-e429-876fa09b404a"
      },
      "outputs": [
        {
          "output_type": "execute_result",
          "data": {
            "text/plain": [
              "'ABC'"
            ],
            "application/vnd.google.colaboratory.intrinsic+json": {
              "type": "string"
            }
          },
          "metadata": {},
          "execution_count": 51
        }
      ],
      "source": [
        "a = \"ABC\"\n",
        "a"
      ]
    },
    {
      "cell_type": "code",
      "execution_count": null,
      "metadata": {
        "colab": {
          "base_uri": "https://localhost:8080/"
        },
        "id": "aKv9CUZ7maDa",
        "outputId": "4441b966-4950-4dd4-b4ff-e6a3448315e9"
      },
      "outputs": [
        {
          "output_type": "stream",
          "name": "stdout",
          "text": [
            "Course passed!\n"
          ]
        }
      ],
      "source": [
        "score = 77\n",
        "if score > 60:\n",
        "  print(\"Course passed!\")\n",
        "else:\n",
        "  print(\"Need retake\")"
      ]
    },
    {
      "cell_type": "code",
      "source": [
        "# =\n",
        "#  =="
      ],
      "metadata": {
        "id": "dbo-46Zofr3P"
      },
      "execution_count": null,
      "outputs": []
    },
    {
      "cell_type": "code",
      "source": [
        "x = 2             # assignment\n",
        "y = (x != \"A\")    # comparison\n",
        "(y is True)       # comparison"
      ],
      "metadata": {
        "colab": {
          "base_uri": "https://localhost:8080/"
        },
        "id": "JjNy3xstfrsI",
        "outputId": "0cc2947c-276c-4f05-cb1f-3c7e0cb1961f"
      },
      "execution_count": null,
      "outputs": [
        {
          "output_type": "execute_result",
          "data": {
            "text/plain": [
              "True"
            ]
          },
          "metadata": {},
          "execution_count": 53
        }
      ]
    },
    {
      "cell_type": "code",
      "source": [
        "# situation - what to do on branching?\n",
        "\n",
        "# name it? calculate_tax\n",
        "profit = 600\n",
        "if profit > 0:\n",
        "   tax = profit * .15\n",
        "else:\n",
        "   tax = 0\n",
        "\n",
        "# testing of the code\n",
        "# assert (tax == 2)"
      ],
      "metadata": {
        "id": "lraQY8C4R5Rl"
      },
      "execution_count": null,
      "outputs": []
    },
    {
      "cell_type": "code",
      "source": [
        "# here is our function for taxes:\n",
        "\n",
        "def calculate_tax(profit: float, tax_rate: float) -> float:\n",
        "  if profit > 0:\n",
        "     return profit * tax_rate\n",
        "  else:\n",
        "     return 0\n",
        "\n",
        "# test driven development - write a test BEFORE you write code - advanced\n",
        "t = calculate_tax(100, .2)\n",
        "t"
      ],
      "metadata": {
        "colab": {
          "base_uri": "https://localhost:8080/"
        },
        "id": "ASQRvcl9T1pi",
        "outputId": "294dd1fb-7ff3-4ab0-bb5e-cd6d9005d28e"
      },
      "execution_count": null,
      "outputs": [
        {
          "output_type": "execute_result",
          "data": {
            "text/plain": [
              "20.0"
            ]
          },
          "metadata": {},
          "execution_count": 55
        }
      ]
    },
    {
      "cell_type": "code",
      "source": [
        "def func():\n",
        "  pass"
      ],
      "metadata": {
        "id": "DJFxleRrZqwF"
      },
      "execution_count": null,
      "outputs": []
    },
    {
      "cell_type": "code",
      "source": [
        "abs(-2)"
      ],
      "metadata": {
        "colab": {
          "base_uri": "https://localhost:8080/"
        },
        "id": "NGRD61PzauP8",
        "outputId": "a9bb583b-d0a7-47e3-acf0-ac8dcec8e716"
      },
      "execution_count": null,
      "outputs": [
        {
          "output_type": "execute_result",
          "data": {
            "text/plain": [
              "2"
            ]
          },
          "metadata": {},
          "execution_count": 58
        }
      ]
    },
    {
      "cell_type": "code",
      "source": [
        "help(min)"
      ],
      "metadata": {
        "colab": {
          "base_uri": "https://localhost:8080/"
        },
        "id": "6ROQJn9JdhoU",
        "outputId": "95925cfa-008b-4e39-c247-ea721bdba549"
      },
      "execution_count": null,
      "outputs": [
        {
          "output_type": "stream",
          "name": "stdout",
          "text": [
            "Help on built-in function min in module builtins:\n",
            "\n",
            "min(...)\n",
            "    min(iterable, *[, default=obj, key=func]) -> value\n",
            "    min(arg1, arg2, *args, *[, key=func]) -> value\n",
            "    \n",
            "    With a single iterable argument, return its smallest item. The\n",
            "    default keyword-only argument specifies an object to return if\n",
            "    the provided iterable is empty.\n",
            "    With two or more arguments, return the smallest argument.\n",
            "\n"
          ]
        }
      ]
    },
    {
      "cell_type": "code",
      "execution_count": null,
      "metadata": {
        "id": "1sqnqhAGvzJZ"
      },
      "outputs": [],
      "source": [
        "pow?"
      ]
    },
    {
      "cell_type": "code",
      "execution_count": null,
      "metadata": {
        "colab": {
          "base_uri": "https://localhost:8080/"
        },
        "id": "9YTOl23HvngZ",
        "outputId": "85acc179-e1fe-4cd9-9ac8-2b0cc05367d4"
      },
      "outputs": [
        {
          "output_type": "stream",
          "name": "stdout",
          "text": [
            "Help on built-in function pow in module builtins:\n",
            "\n",
            "pow(base, exp, mod=None)\n",
            "    Equivalent to base**exp with 2 arguments or base**exp % mod with 3 arguments\n",
            "    \n",
            "    Some types, such as ints, are able to use a more efficient algorithm when\n",
            "    invoked using the three argument form.\n",
            "\n"
          ]
        }
      ],
      "source": [
        "help(pow)"
      ]
    },
    {
      "cell_type": "code",
      "source": [
        "2 ** 3"
      ],
      "metadata": {
        "colab": {
          "base_uri": "https://localhost:8080/"
        },
        "id": "AMqh906QdPzM",
        "outputId": "071dd861-f260-4277-dc31-a530b91e9e39"
      },
      "execution_count": null,
      "outputs": [
        {
          "output_type": "execute_result",
          "data": {
            "text/plain": [
              "8"
            ]
          },
          "metadata": {},
          "execution_count": 61
        }
      ]
    },
    {
      "cell_type": "code",
      "execution_count": null,
      "metadata": {
        "colab": {
          "base_uri": "https://localhost:8080/"
        },
        "id": "w4Lh-_0OCqLT",
        "outputId": "c51872d9-6ac7-4ac2-f3ca-5038286afe6a"
      },
      "outputs": [
        {
          "output_type": "execute_result",
          "data": {
            "text/plain": [
              "9"
            ]
          },
          "metadata": {},
          "execution_count": 63
        }
      ],
      "source": [
        "pow(3, 2)\n",
        "3 ** 2"
      ]
    },
    {
      "cell_type": "code",
      "execution_count": null,
      "metadata": {
        "colab": {
          "base_uri": "https://localhost:8080/"
        },
        "id": "ciI2aBYJzGwv",
        "outputId": "98aa23dd-30e3-4309-af74-33fcaafc8321"
      },
      "outputs": [
        {
          "output_type": "execute_result",
          "data": {
            "text/plain": [
              "0.8396192830323018"
            ]
          },
          "metadata": {},
          "execution_count": 14
        }
      ],
      "source": [
        "# calculation:\n",
        "r = .06\n",
        "x = 1 / pow(1 + r, 3)\n",
        "x"
      ]
    },
    {
      "cell_type": "code",
      "execution_count": null,
      "metadata": {
        "colab": {
          "base_uri": "https://localhost:8080/"
        },
        "id": "qrKpSdMdXvJc",
        "outputId": "552cafb9-b9f0-4882-d6b5-a81b47b07340"
      },
      "outputs": [
        {
          "output_type": "stream",
          "name": "stdout",
          "text": [
            "Marcel Salikhov\n"
          ]
        }
      ],
      "source": [
        "# strings\n",
        "instructor_name = \"Marcel\" + \" \" + \"Salikhov\"\n",
        "print(instructor_name)"
      ]
    },
    {
      "cell_type": "code",
      "execution_count": null,
      "metadata": {
        "id": "H7UoEuIAnkNW"
      },
      "outputs": [],
      "source": [
        "x = len(instructor_name) < 256"
      ]
    },
    {
      "cell_type": "code",
      "execution_count": null,
      "metadata": {
        "id": "lvEkJJG5aEMT"
      },
      "outputs": [],
      "source": [
        "xs = [\"MICEX\", \"NYSE\", \"NASDAQ\", \"Euronext\", \"LSE\", \"Tokyo\"]"
      ]
    },
    {
      "cell_type": "code",
      "execution_count": null,
      "metadata": {
        "id": "hvBz7xXQmQCg",
        "colab": {
          "base_uri": "https://localhost:8080/"
        },
        "outputId": "a4dc45cb-9714-4f13-d892-1f15e9c8a618"
      },
      "outputs": [
        {
          "output_type": "execute_result",
          "data": {
            "text/plain": [
              "['EURONEXT', 'LSE', 'MICEX', 'NASDAQ', 'NYSE', 'TOKYO']"
            ]
          },
          "metadata": {},
          "execution_count": 67
        }
      ],
      "source": [
        "sorted(x.upper() for x in xs)"
      ]
    },
    {
      "cell_type": "code",
      "source": [
        "2 == 2"
      ],
      "metadata": {
        "id": "2GLABcQ8fhBJ"
      },
      "execution_count": null,
      "outputs": []
    },
    {
      "cell_type": "markdown",
      "metadata": {
        "id": "UFpuNlJ_LP2G"
      },
      "source": [
        "Recap on terminology:\n",
        "\n",
        "- *value* - a number, a string or some other entity used for calculation\n",
        "- *expression* - is a combination of values, operators and function calls that will evaluate to a new value\n",
        "- variables are assigned to hold values, by using assignment operator `=`\n",
        "- variables can point data strucures likes lists and have access notation\n",
        "- there are comparison operators `==`, `!=`, `>`, `<` (see a [practice list here](https://github.com/trekhleb/learn-python))\n",
        "- `print()`, `help()`, `len()` and some other built-in functions are available"
      ]
    },
    {
      "cell_type": "markdown",
      "metadata": {
        "id": "nc4bDZ5rNjlM"
      },
      "source": [
        "# Variable assignment"
      ]
    },
    {
      "cell_type": "markdown",
      "metadata": {
        "id": "QTRfV-JPV1qO"
      },
      "source": [
        "Note: variable assignment is NOT math equation equality. An expression on the right gets assigned to a variable on the left. In other programming languages assignment operator may be `<-` (R) or `:=` (Pascal)."
      ]
    },
    {
      "cell_type": "code",
      "execution_count": null,
      "metadata": {
        "colab": {
          "base_uri": "https://localhost:8080/"
        },
        "id": "lul8FV3X5L8O",
        "outputId": "f1bc1347-d347-433d-ad2f-f35c09ecfda7"
      },
      "outputs": [
        {
          "output_type": "stream",
          "name": "stdout",
          "text": [
            "3\n"
          ]
        }
      ],
      "source": [
        "my_var = 1\n",
        "my_var = my_var + 2  # this is valid code\n",
        "print(my_var)"
      ]
    },
    {
      "cell_type": "code",
      "source": [
        "# i is counter\n",
        "i = 0\n",
        "# ...\n",
        "i = i + 1\n"
      ],
      "metadata": {
        "id": "maPXCZiYg7fb"
      },
      "execution_count": null,
      "outputs": []
    },
    {
      "cell_type": "code",
      "execution_count": null,
      "metadata": {
        "id": "J9GozO_YaNna"
      },
      "outputs": [],
      "source": [
        "# in Python type variable can be reassigned,\n",
        "# but as code style this is not encouraged\n",
        "z = 0\n",
        "z = True\n",
        "z = \"oh, no!\""
      ]
    },
    {
      "cell_type": "markdown",
      "metadata": {
        "id": "io3fdigLrUIo"
      },
      "source": [
        "Variable naming:\n",
        "\n",
        "- so far we give very short names to variables in excercises\n",
        "- longer names usually use underscore\n"
      ]
    },
    {
      "cell_type": "code",
      "source": [
        "y = g()"
      ],
      "metadata": {
        "id": "fLzwoIhhiqC1",
        "colab": {
          "base_uri": "https://localhost:8080/",
          "height": 177
        },
        "outputId": "ad380a93-511c-4932-a301-5ae7b7641d5f"
      },
      "execution_count": null,
      "outputs": [
        {
          "output_type": "error",
          "ename": "NameError",
          "evalue": "ignored",
          "traceback": [
            "\u001b[0;31m---------------------------------------------------------------------------\u001b[0m",
            "\u001b[0;31mNameError\u001b[0m                                 Traceback (most recent call last)",
            "\u001b[0;32m<ipython-input-72-1af731f3b28b>\u001b[0m in \u001b[0;36m<cell line: 1>\u001b[0;34m()\u001b[0m\n\u001b[0;32m----> 1\u001b[0;31m \u001b[0my\u001b[0m \u001b[0;34m=\u001b[0m \u001b[0mg\u001b[0m\u001b[0;34m(\u001b[0m\u001b[0;34m)\u001b[0m\u001b[0;34m\u001b[0m\u001b[0;34m\u001b[0m\u001b[0m\n\u001b[0m",
            "\u001b[0;31mNameError\u001b[0m: name 'g' is not defined"
          ]
        }
      ]
    },
    {
      "cell_type": "code",
      "source": [
        "y is None"
      ],
      "metadata": {
        "colab": {
          "base_uri": "https://localhost:8080/"
        },
        "id": "wUCHPAtyh7Kk",
        "outputId": "f8c68c54-deb3-4f0e-fa14-d04874d5296a"
      },
      "execution_count": null,
      "outputs": [
        {
          "output_type": "execute_result",
          "data": {
            "text/plain": [
              "False"
            ]
          },
          "metadata": {},
          "execution_count": 73
        }
      ]
    },
    {
      "cell_type": "code",
      "source": [
        "type(\"True\")"
      ],
      "metadata": {
        "colab": {
          "base_uri": "https://localhost:8080/"
        },
        "id": "hqExi4sMiKmS",
        "outputId": "f939d136-caf5-4bfd-b548-064e2ab180bf"
      },
      "execution_count": null,
      "outputs": [
        {
          "output_type": "execute_result",
          "data": {
            "text/plain": [
              "str"
            ]
          },
          "metadata": {},
          "execution_count": 74
        }
      ]
    },
    {
      "cell_type": "markdown",
      "metadata": {
        "id": "kI_dM_TG2d40"
      },
      "source": [
        "# Types\n",
        "\n",
        "Values have types. You can think of a type as a group of similar values. Example: all interger values are members of type 'int'.\n",
        "\n",
        "These types are provided out of the box:\n",
        "\n",
        "- `int`\n",
        "- `float`\n",
        "- `str`\n",
        "- `bool`\n",
        "- `None`\n",
        "\n",
        "Python allows you not to think of types at all - and it is good for start.\n",
        "\n",
        "- hard to reason about types before you explore your task well\n",
        "- not always you need 5-7 types of `integer`\n",
        "- type notation can grow very cumbersome\n",
        "\n",
        "But why bother about types?\n",
        "\n",
        "- better structure and stability of the programs\n",
        "- more guarantees, easier to build large programs\n",
        "- understanding error messages\n",
        "- better computer representation of data\n",
        "- programs usually runs faster\n",
        "- may have different operations on different types (eg \"multiple dispatch\" in Julia)\n",
        "- strong [theory about types](https://thinkingwithtypes.com/)\n",
        "\n",
        "Python is a dynamically typed language, but there are _type annotations_ that improve readibilty of the program and can be checked by external tools (eg mypy).\n",
        "\n",
        "Terminology:\n",
        "- static typing (Rust, nimlang, vlang, Haskell)\n",
        "- dynamic typing (Python, Ruby, Julia)\n",
        "\n",
        "Reading:\n",
        "- https://stackoverflow.com/questions/1517582/what-is-the-difference-between-statically-typed-and-dynamically-typed-languages\n",
        "\n",
        "Supplementary discussion (in Russian):\n",
        "- https://twitter.com/gaxeliy/status/1430785060756725760"
      ]
    },
    {
      "cell_type": "code",
      "execution_count": null,
      "metadata": {
        "colab": {
          "base_uri": "https://localhost:8080/"
        },
        "id": "RQQ3pQHK22-U",
        "outputId": "835c53f9-3ec2-4d2e-a0ee-3f2e98f40de8"
      },
      "outputs": [
        {
          "output_type": "execute_result",
          "data": {
            "text/plain": [
              "str"
            ]
          },
          "metadata": {},
          "execution_count": 75
        }
      ],
      "source": [
        "# Use function type() to find out the types of values\n",
        "type(\"abc\")"
      ]
    },
    {
      "cell_type": "code",
      "execution_count": null,
      "metadata": {
        "colab": {
          "base_uri": "https://localhost:8080/"
        },
        "id": "yqW-oyfc2596",
        "outputId": "03251ef0-b3b1-493a-e4a4-15c8939dedfa"
      },
      "outputs": [
        {
          "output_type": "execute_result",
          "data": {
            "text/plain": [
              "int"
            ]
          },
          "metadata": {},
          "execution_count": 76
        }
      ],
      "source": [
        "type(5)"
      ]
    },
    {
      "cell_type": "code",
      "execution_count": null,
      "metadata": {
        "colab": {
          "base_uri": "https://localhost:8080/"
        },
        "id": "4HmNbf_628Q9",
        "outputId": "851589f0-45bb-43cb-eba0-6dc31a2bfa0b"
      },
      "outputs": [
        {
          "output_type": "execute_result",
          "data": {
            "text/plain": [
              "float"
            ]
          },
          "metadata": {},
          "execution_count": 77
        }
      ],
      "source": [
        "type(5.0)"
      ]
    },
    {
      "cell_type": "code",
      "execution_count": null,
      "metadata": {
        "colab": {
          "base_uri": "https://localhost:8080/"
        },
        "id": "MCrNl6Fb3P6i",
        "outputId": "47286e61-aa22-4114-a12c-76eac81b2472"
      },
      "outputs": [
        {
          "output_type": "execute_result",
          "data": {
            "text/plain": [
              "bool"
            ]
          },
          "metadata": {},
          "execution_count": 78
        }
      ],
      "source": [
        "type(5 > 2)"
      ]
    },
    {
      "cell_type": "code",
      "execution_count": null,
      "metadata": {
        "colab": {
          "base_uri": "https://localhost:8080/"
        },
        "id": "RU542n8t6KFP",
        "outputId": "24abbad5-d6be-455f-bd02-bc204897ea12"
      },
      "outputs": [
        {
          "output_type": "execute_result",
          "data": {
            "text/plain": [
              "False"
            ]
          },
          "metadata": {},
          "execution_count": 80
        }
      ],
      "source": [
        "# To checking on type in code:\n",
        "x = 5.0\n",
        "isinstance(x, int)"
      ]
    },
    {
      "cell_type": "markdown",
      "metadata": {
        "id": "ZASe12HBblE0"
      },
      "source": [
        "Questions for a exam test:\n",
        "\n",
        "- what is the types of `<expression>`\n",
        "- how can you `<achieve some computations task>`\n",
        "- what is the meaning of `<a small computation>`\n",
        "- basic terminology\n",
        "\n",
        "Can also cover:\n",
        "- error messages"
      ]
    },
    {
      "cell_type": "code",
      "execution_count": null,
      "metadata": {
        "colab": {
          "base_uri": "https://localhost:8080/"
        },
        "id": "nXmGGlEKFXoR",
        "outputId": "9b64af1f-8514-426d-b4e8-ee66f27f7024"
      },
      "outputs": [
        {
          "output_type": "execute_result",
          "data": {
            "text/plain": [
              "float"
            ]
          },
          "metadata": {},
          "execution_count": 30
        }
      ],
      "source": [
        "type(-5.5)"
      ]
    },
    {
      "cell_type": "markdown",
      "metadata": {
        "id": "l7uvF3eXhyfY"
      },
      "source": [
        "# What extra types we need?\n",
        "\n",
        "Important build-in types:\n",
        "\n",
        "- integers `int`\n",
        "- real numbers `float`\n",
        "- strings `str`\n",
        "- boolean `bool` (just `True` or `False`)\n",
        "- \"nothing\" `None`\n",
        "\n",
        "What are we missing? Any other types needed? (Hint: something we may need use,\n",
        "but not well-described by types above).\n",
        "\n",
        "Let us make a list:\n",
        "\n",
        "- infinity (numpy np.inf)\n",
        "- complex\n",
        "- dates"
      ]
    },
    {
      "cell_type": "code",
      "execution_count": null,
      "metadata": {
        "colab": {
          "base_uri": "https://localhost:8080/",
          "height": 35
        },
        "id": "hys115eOGRuz",
        "outputId": "c35c7edb-b437-4a15-e58f-74f53d0b8cc6"
      },
      "outputs": [
        {
          "output_type": "execute_result",
          "data": {
            "text/plain": [
              "'2023-08-30'"
            ],
            "application/vnd.google.colaboratory.intrinsic+json": {
              "type": "string"
            }
          },
          "metadata": {},
          "execution_count": 81
        }
      ],
      "source": [
        "\"2023-08-30\""
      ]
    },
    {
      "cell_type": "code",
      "execution_count": null,
      "metadata": {
        "id": "CIdbk9odxp3j"
      },
      "outputs": [],
      "source": [
        "year = 2023\n",
        "month = 3\n",
        "day = 17\n",
        "# timedelta (?)"
      ]
    },
    {
      "cell_type": "code",
      "execution_count": null,
      "metadata": {
        "colab": {
          "base_uri": "https://localhost:8080/"
        },
        "id": "mtpC47fLgOx4",
        "outputId": "4d539379-b2f2-434f-bb36-ec2e69e09ff7"
      },
      "outputs": [
        {
          "output_type": "execute_result",
          "data": {
            "text/plain": [
              "True"
            ]
          },
          "metadata": {},
          "execution_count": 84
        }
      ],
      "source": [
        "#ISO format\n",
        "course_start = \"2023-03-17\"\n",
        "next_session = \"2023-03-22\"\n",
        "course_start < next_session"
      ]
    },
    {
      "cell_type": "code",
      "execution_count": null,
      "metadata": {
        "colab": {
          "base_uri": "https://localhost:8080/",
          "height": 35
        },
        "id": "Jnws0-ZDyq0x",
        "outputId": "b9fa40ce-ca57-466c-f603-3fec725c5f52"
      },
      "outputs": [
        {
          "output_type": "execute_result",
          "data": {
            "text/plain": [
              "'2023-03-17'"
            ],
            "application/vnd.google.colaboratory.intrinsic+json": {
              "type": "string"
            }
          },
          "metadata": {},
          "execution_count": 85
        }
      ],
      "source": [
        "\"2023-03-17\""
      ]
    },
    {
      "cell_type": "code",
      "execution_count": null,
      "metadata": {
        "colab": {
          "base_uri": "https://localhost:8080/"
        },
        "id": "aEFCvRDYVd54",
        "outputId": "88246b8d-2a04-40ab-83b4-2123c887d5e2"
      },
      "outputs": [
        {
          "output_type": "execute_result",
          "data": {
            "text/plain": [
              "datetime.timedelta(days=14)"
            ]
          },
          "metadata": {},
          "execution_count": 86
        }
      ],
      "source": [
        "from datetime import date\n",
        "a = date(2023, 2, 15)\n",
        "b = date(2023, 2, 1)\n",
        "a-b"
      ]
    },
    {
      "cell_type": "code",
      "execution_count": null,
      "metadata": {
        "colab": {
          "base_uri": "https://localhost:8080/"
        },
        "id": "3OmAB-vGhNs7",
        "outputId": "89694122-184d-4096-95be-dccb94178e88"
      },
      "outputs": [
        {
          "output_type": "stream",
          "name": "stdout",
          "text": [
            "2023-09-06\n"
          ]
        }
      ],
      "source": [
        "from datetime import datetime\n",
        "\n",
        "def today():\n",
        "   return datetime.today().date().isoformat()\n",
        "\n",
        "print(today())"
      ]
    },
    {
      "cell_type": "code",
      "execution_count": null,
      "metadata": {
        "colab": {
          "base_uri": "https://localhost:8080/",
          "height": 35
        },
        "id": "q0GqO_mScM6i",
        "outputId": "4c0eeee0-dd46-4c6c-9071-36ccb4a4c6fd"
      },
      "outputs": [
        {
          "output_type": "execute_result",
          "data": {
            "text/plain": [
              "'2023-09-06'"
            ],
            "application/vnd.google.colaboratory.intrinsic+json": {
              "type": "string"
            }
          },
          "metadata": {},
          "execution_count": 88
        }
      ],
      "source": [
        "today()"
      ]
    },
    {
      "cell_type": "code",
      "execution_count": null,
      "metadata": {
        "colab": {
          "base_uri": "https://localhost:8080/",
          "height": 36
        },
        "id": "_mxYmRmDGxlE",
        "outputId": "ad7c976e-bb8e-4e2e-e4a1-58538fd3242e"
      },
      "outputs": [
        {
          "output_type": "execute_result",
          "data": {
            "text/plain": [
              "'abcTrue'"
            ],
            "application/vnd.google.colaboratory.intrinsic+json": {
              "type": "string"
            }
          },
          "metadata": {},
          "execution_count": 43
        }
      ],
      "source": [
        "\"abc\" + \"True\""
      ]
    },
    {
      "cell_type": "markdown",
      "metadata": {
        "id": "QuMd3Gc-jftn"
      },
      "source": [
        "# Containers and iteration\n",
        "\n",
        "- lists\n",
        "- tuples\n",
        "- dictionaries\n",
        "- sets"
      ]
    },
    {
      "cell_type": "markdown",
      "metadata": {
        "id": "abyL-QGjFFnu"
      },
      "source": [
        "## Lists\n",
        "\n",
        "What do these numbers and strings may mean? Is it useful to group them together?"
      ]
    },
    {
      "cell_type": "code",
      "execution_count": null,
      "metadata": {
        "colab": {
          "base_uri": "https://localhost:8080/"
        },
        "id": "4CJ5gKAoDfmg",
        "outputId": "0618e5e0-dea5-429f-9892-6da3b2b10e3b"
      },
      "outputs": [
        {
          "output_type": "execute_result",
          "data": {
            "text/plain": [
              "['Enron', 'Worldcom', 'Lehman', 'Ford']"
            ]
          },
          "metadata": {},
          "execution_count": 89
        }
      ],
      "source": [
        "# https://bit.ly/3loSwG1\n",
        "companies = [\"Enron\", \"Worldcom\", \"Lehman\", \"Ford\"]\n",
        "companies"
      ]
    },
    {
      "cell_type": "code",
      "source": [
        "companies[0:-1]"
      ],
      "metadata": {
        "id": "O6amjzNbnIZM",
        "colab": {
          "base_uri": "https://localhost:8080/"
        },
        "outputId": "051214f7-fd66-454d-cab6-f7587727726e"
      },
      "execution_count": null,
      "outputs": [
        {
          "output_type": "execute_result",
          "data": {
            "text/plain": [
              "['Enron', 'Worldcom', 'Lehman']"
            ]
          },
          "metadata": {},
          "execution_count": 91
        }
      ]
    },
    {
      "cell_type": "code",
      "source": [
        "s = 'Worldcom'\n",
        "\"w\" + s[1:]\n"
      ],
      "metadata": {
        "id": "bh8WRyK8nl_c",
        "colab": {
          "base_uri": "https://localhost:8080/",
          "height": 36
        },
        "outputId": "0d6e65b6-d064-40e6-8fd7-39a3f32417a9"
      },
      "execution_count": null,
      "outputs": [
        {
          "output_type": "execute_result",
          "data": {
            "text/plain": [
              "'worldcom'"
            ],
            "application/vnd.google.colaboratory.intrinsic+json": {
              "type": "string"
            }
          },
          "metadata": {},
          "execution_count": 34
        }
      ]
    },
    {
      "cell_type": "code",
      "execution_count": null,
      "metadata": {
        "id": "7To24AFQHf_v",
        "colab": {
          "base_uri": "https://localhost:8080/"
        },
        "outputId": "6a08bf9a-7137-4bf3-ed36-0ee2f90ff8a8"
      },
      "outputs": [
        {
          "output_type": "execute_result",
          "data": {
            "text/plain": [
              "5"
            ]
          },
          "metadata": {},
          "execution_count": 92
        }
      ],
      "source": [
        "# python has zero-based index\n",
        "# companies[0]\n",
        "\n",
        "# sorting\n",
        "sorted(companies)\n",
        "\n",
        "# last company in the list\n",
        "sorted(companies)[-1]\n",
        "\n",
        "# slicing - and referceing - pandas\n",
        "companies[0:2]\n",
        "\n",
        "companies2 = [\"Obuv' Rossii\"] # Russian shoes\n",
        "len(companies + companies2)"
      ]
    },
    {
      "cell_type": "code",
      "source": [
        "companies[0:2]\n"
      ],
      "metadata": {
        "id": "QXeMgyNKB00I",
        "colab": {
          "base_uri": "https://localhost:8080/"
        },
        "outputId": "471ef747-3a1c-4df3-bc7a-17e10cdf93f4"
      },
      "execution_count": null,
      "outputs": [
        {
          "output_type": "execute_result",
          "data": {
            "text/plain": [
              "['Enron', 'Worldcom']"
            ]
          },
          "metadata": {},
          "execution_count": 93
        }
      ]
    },
    {
      "cell_type": "code",
      "source": [
        "companies + [\"Obuv' Rossii\"]"
      ],
      "metadata": {
        "id": "WKGXEaHwoPd5",
        "colab": {
          "base_uri": "https://localhost:8080/"
        },
        "outputId": "40e5aba3-3c2a-47df-f902-1eb5fec92d48"
      },
      "execution_count": null,
      "outputs": [
        {
          "output_type": "execute_result",
          "data": {
            "text/plain": [
              "['Enron', 'Worldcom', 'Lehman', 'Ford', \"Obuv' Rossii\"]"
            ]
          },
          "metadata": {},
          "execution_count": 94
        }
      ]
    },
    {
      "cell_type": "code",
      "execution_count": null,
      "metadata": {
        "colab": {
          "base_uri": "https://localhost:8080/"
        },
        "id": "tXfxDdEP-88b",
        "outputId": "72ac7db4-6a68-4a41-b9d9-d8344e8b3414"
      },
      "outputs": [
        {
          "output_type": "execute_result",
          "data": {
            "text/plain": [
              "[1.1892, 1.1969, 1.1933, 1.192, 1.1926]"
            ]
          },
          "metadata": {},
          "execution_count": 95
        }
      ],
      "source": [
        "quotes = [1.1892, 1.1969, 1.1933, 1.192, 1.1926]\n",
        "quotes"
      ]
    },
    {
      "cell_type": "code",
      "execution_count": null,
      "metadata": {
        "id": "KEYdfQ_rHuGI",
        "colab": {
          "base_uri": "https://localhost:8080/"
        },
        "outputId": "f1a35160-6bdb-4a5a-874d-5b0af8bf8ed2"
      },
      "outputs": [
        {
          "output_type": "execute_result",
          "data": {
            "text/plain": [
              "[4, 3, 2, 1, 0]"
            ]
          },
          "metadata": {},
          "execution_count": 96
        }
      ],
      "source": [
        "xs = [3, 2, 1]\n",
        "[4] + xs + [0]"
      ]
    },
    {
      "cell_type": "code",
      "source": [
        "xs = xs + [0]\n",
        "xs.append(0) # method that changes a variable INPLACE\n",
        "xs"
      ],
      "metadata": {
        "colab": {
          "base_uri": "https://localhost:8080/"
        },
        "id": "JDPae5DNox_i",
        "outputId": "f5ba0d20-cb1b-4fc1-dd82-6af5d126a2b1"
      },
      "execution_count": null,
      "outputs": [
        {
          "output_type": "execute_result",
          "data": {
            "text/plain": [
              "[3, 2, 1, 0, 0]"
            ]
          },
          "metadata": {},
          "execution_count": 41
        }
      ]
    },
    {
      "cell_type": "code",
      "source": [
        "# xs = xs + [4]"
      ],
      "metadata": {
        "id": "P4A3X12eqkNu"
      },
      "execution_count": null,
      "outputs": []
    },
    {
      "cell_type": "code",
      "source": [
        "xs[0] = -1 # mutable = we can change it\n",
        "xs"
      ],
      "metadata": {
        "colab": {
          "base_uri": "https://localhost:8080/"
        },
        "id": "xIVwcCgBpgUz",
        "outputId": "62422128-0aa4-4d1d-ed95-277be6d95649"
      },
      "execution_count": null,
      "outputs": [
        {
          "output_type": "execute_result",
          "data": {
            "text/plain": [
              "[-1, 2, 1]"
            ]
          },
          "metadata": {},
          "execution_count": 97
        }
      ]
    },
    {
      "cell_type": "markdown",
      "metadata": {
        "id": "T2EmyiaqFozS"
      },
      "source": [
        "Operations:\n",
        "\n",
        "- element by index\n",
        "- slice\n",
        "- concatenate\n",
        "- adding elements\n",
        "- iteration with `for`\n",
        "- list comprehension"
      ]
    },
    {
      "cell_type": "code",
      "execution_count": null,
      "metadata": {
        "colab": {
          "base_uri": "https://localhost:8080/"
        },
        "id": "oJFAKLzwgIVu",
        "outputId": "8ed7e0f9-b325-4943-9d6e-96262111552f"
      },
      "outputs": [
        {
          "output_type": "stream",
          "name": "stdout",
          "text": [
            "8\n",
            "33\n",
            "[-5, -2, 3, 4, 5, 6, 10, 12]\n"
          ]
        }
      ],
      "source": [
        "xs = [5, 10, -5, 4, 6, 12, 3, -2]\n",
        "print(len(xs))\n",
        "print(sum(xs))\n",
        "print(sorted(xs))"
      ]
    },
    {
      "cell_type": "code",
      "execution_count": null,
      "metadata": {
        "colab": {
          "base_uri": "https://localhost:8080/"
        },
        "id": "gNn-G0NMJScW",
        "outputId": "c19dde7d-2ad3-49f7-e287-c8a0f276d693"
      },
      "outputs": [
        {
          "output_type": "execute_result",
          "data": {
            "text/plain": [
              "4.125"
            ]
          },
          "metadata": {},
          "execution_count": 99
        }
      ],
      "source": [
        "sum(xs) / len(xs)"
      ]
    },
    {
      "cell_type": "code",
      "execution_count": null,
      "metadata": {
        "colab": {
          "base_uri": "https://localhost:8080/"
        },
        "id": "JDiJhcdPgE_Q",
        "outputId": "740fab57-944a-4958-89ba-281e2c56ecc7"
      },
      "outputs": [
        {
          "output_type": "execute_result",
          "data": {
            "text/plain": [
              "4.125"
            ]
          },
          "metadata": {},
          "execution_count": 100
        }
      ],
      "source": [
        "# writing a function\n",
        "\n",
        "def average(values):\n",
        "  # ...\n",
        "  return sum(values) / len(values)\n",
        "average(xs)"
      ]
    },
    {
      "cell_type": "code",
      "execution_count": null,
      "metadata": {
        "id": "ekykTYOJNk46",
        "colab": {
          "base_uri": "https://localhost:8080/"
        },
        "outputId": "d9da1301-fead-4c56-e00d-3a3015ec7db1"
      },
      "outputs": [
        {
          "output_type": "stream",
          "name": "stdout",
          "text": [
            "Enron is bankrupt\n",
            "Worldcom is bankrupt\n",
            "Lehman is bankrupt\n",
            "Ford is bankrupt\n"
          ]
        }
      ],
      "source": [
        "companies = [\"Enron\", \"Worldcom\", \"Lehman\", \"Ford\"]\n",
        "for company in companies:\n",
        "  print(company, \"is bankrupt\")\n",
        "# 1\n",
        "# 2\n",
        "# 4 ***\n",
        "# 8"
      ]
    },
    {
      "cell_type": "code",
      "execution_count": null,
      "metadata": {
        "id": "NqjUv66Z1EWr"
      },
      "outputs": [],
      "source": [
        "# how to fill up a list:\n",
        "ys = []\n",
        "ys.append(8) # inline change\n",
        "ys = ys + [8]"
      ]
    },
    {
      "cell_type": "code",
      "execution_count": null,
      "metadata": {
        "colab": {
          "base_uri": "https://localhost:8080/"
        },
        "id": "AoQ8RF6i34N1",
        "outputId": "9f944347-f546-4c86-d6fd-d8ce33b83ed7"
      },
      "outputs": [
        {
          "output_type": "stream",
          "name": "stdout",
          "text": [
            "[5, 10, -5, 4, 6, 12, 3, -2]\n",
            "[11, 21, -9, 9, 13, 25, 7, -3]\n"
          ]
        }
      ],
      "source": [
        "xs = [5, 10, -5, 4, 6, 12, 3, -2]\n",
        "ys = []\n",
        "for x in xs:\n",
        "  z = 2*x + 1\n",
        "  ys.append(z)\n",
        "  # ys = ys + [z]\n",
        "print(xs)\n",
        "print(ys)"
      ]
    },
    {
      "cell_type": "code",
      "execution_count": null,
      "metadata": {
        "id": "qjERFkrug6Ag",
        "colab": {
          "base_uri": "https://localhost:8080/"
        },
        "outputId": "89a89966-c56b-42cb-e932-3d224755c4cd"
      },
      "outputs": [
        {
          "output_type": "execute_result",
          "data": {
            "text/plain": [
              "array([11, 21, -9,  9, 13, 25,  7, -3])"
            ]
          },
          "metadata": {},
          "execution_count": 50
        }
      ],
      "source": [
        "# will not work in pure python (but we will make it with numpy later)\n",
        "from numpy import array\n",
        "ys = 2*array(xs) + 1\n",
        "ys\n",
        "#2*xs + 1"
      ]
    },
    {
      "cell_type": "markdown",
      "source": [
        "### List comprehensions\n",
        "\n",
        "Special feature in Python - allows to modify lists in a concise way - without writing loops explicitly."
      ],
      "metadata": {
        "id": "Pg87F86kYAIN"
      }
    },
    {
      "cell_type": "code",
      "source": [
        "xs = [1, 2, 3]\n",
        "ys = [(2*x + 1) for x in xs]\n",
        "ys"
      ],
      "metadata": {
        "colab": {
          "base_uri": "https://localhost:8080/"
        },
        "id": "oIJr-RepAQn4",
        "outputId": "f7e89a01-5f9e-4f0c-86f1-362a23a4b438"
      },
      "execution_count": null,
      "outputs": [
        {
          "output_type": "execute_result",
          "data": {
            "text/plain": [
              "[3, 5, 7]"
            ]
          },
          "metadata": {},
          "execution_count": 51
        }
      ]
    },
    {
      "cell_type": "code",
      "execution_count": null,
      "metadata": {
        "colab": {
          "base_uri": "https://localhost:8080/"
        },
        "id": "EduJACwM5QmT",
        "outputId": "1aa98c5b-8872-471d-dbf8-735436a5e7fd"
      },
      "outputs": [
        {
          "output_type": "stream",
          "name": "stdout",
          "text": [
            "[5, 10, -5, 4, 6, 12, 3, -2]\n",
            "[10, 6, 12]\n",
            "[10, 6, 12]\n"
          ]
        }
      ],
      "source": [
        "# accumulate everything above or equal to 6\n",
        "print(xs)\n",
        "\n",
        "# as list coprehension:\n",
        "a = [x for x in xs if (x >= 6)]\n",
        "print(a)\n",
        "\n",
        "# as loop:\n",
        "b = []\n",
        "for x in xs:\n",
        "  if x >= 6:\n",
        "    b.append(x)\n",
        "print(b)"
      ]
    },
    {
      "cell_type": "code",
      "execution_count": null,
      "metadata": {
        "colab": {
          "base_uri": "https://localhost:8080/"
        },
        "id": "dyIfQRzo6Io2",
        "outputId": "45540cb4-e53b-46d3-cb99-fb75ac5b7c51"
      },
      "outputs": [
        {
          "output_type": "execute_result",
          "data": {
            "text/plain": [
              "8"
            ]
          },
          "metadata": {},
          "execution_count": 105
        }
      ],
      "source": [
        "len(xs)"
      ]
    },
    {
      "cell_type": "code",
      "execution_count": null,
      "metadata": {
        "colab": {
          "base_uri": "https://localhost:8080/"
        },
        "id": "13-CTeM559Mj",
        "outputId": "76ea23a9-07c0-420f-b8db-ad17d0cd43a2"
      },
      "outputs": [
        {
          "output_type": "execute_result",
          "data": {
            "text/plain": [
              "('Apple',\n",
              " ['Apple', 'Yandex', 'IBM'],\n",
              " [\"Mc_Donald's\", 'Nornikel', 'Tesla', 'Enron'],\n",
              " 'Enron')"
            ]
          },
          "metadata": {},
          "execution_count": 107
        }
      ],
      "source": [
        "# slicing https://stackoverflow.com/questions/509211/understanding-slice-notation\n",
        "# xs[start:stop]  # items start through stop-1\n",
        "# xs[start:]      # items start through the rest of the array\n",
        "# xs[:stop]       # items from the beginning through stop-1\n",
        "# xs[:]           # a copy of the whole array\n",
        "\n",
        "\n",
        "# remember index is zero-based - makes a lot of confusion initially!\n",
        "xs = [\"Apple\", \"Yandex\", \"IBM\", \"Mc_Donald's\", \"Nornikel\", \"Tesla\", \"Enron\"]\n",
        "xs[0], xs[0:3], xs[3:], xs[-1]"
      ]
    },
    {
      "cell_type": "code",
      "execution_count": null,
      "metadata": {
        "colab": {
          "base_uri": "https://localhost:8080/"
        },
        "id": "NE8Ma5jEjX60",
        "outputId": "8e3e1167-e45b-4fee-9ecd-f180cc02f0bc"
      },
      "outputs": [
        {
          "output_type": "execute_result",
          "data": {
            "text/plain": [
              "['Apple', 'Yandex', 'IBM', 'McDonalds', 'Nornikel', 'Tesla', 'Enron']"
            ]
          },
          "metadata": {},
          "execution_count": 108
        }
      ],
      "source": [
        "# We can assign new value to list element\n",
        "xs[3] = 'McDonalds'\n",
        "xs"
      ]
    },
    {
      "cell_type": "code",
      "execution_count": null,
      "metadata": {
        "colab": {
          "base_uri": "https://localhost:8080/"
        },
        "id": "axCIRpPrPq2R",
        "outputId": "2d99e34b-2c40-4421-b7ed-a3de71903763"
      },
      "outputs": [
        {
          "output_type": "execute_result",
          "data": {
            "text/plain": [
              "[5, 10]"
            ]
          },
          "metadata": {},
          "execution_count": 109
        }
      ],
      "source": [
        "xs = [5, 10, 3, 6, 12, 3]\n",
        "xs[0:2]"
      ]
    },
    {
      "cell_type": "code",
      "execution_count": null,
      "metadata": {
        "id": "GmqN73kWGdLm",
        "colab": {
          "base_uri": "https://localhost:8080/"
        },
        "outputId": "e3af3238-a7b2-43c0-c8c5-25f60db3cc47"
      },
      "outputs": [
        {
          "output_type": "stream",
          "name": "stdout",
          "text": [
            "5\n",
            "10\n",
            "3\n",
            "7\n",
            "12\n",
            "3\n",
            "7\n",
            "0 5\n",
            "1 10\n",
            "2 3\n",
            "3 7\n",
            "4 12\n",
            "5 3\n",
            "6 7\n"
          ]
        },
        {
          "output_type": "execute_result",
          "data": {
            "text/plain": [
              "[5, 10, 3, 7, 12, 3, 7, 5, 10, 3, 7, 12, 3, 7]"
            ]
          },
          "metadata": {},
          "execution_count": 114
        }
      ],
      "source": [
        "import numpy as np\n",
        "# Practice (no grading):\n",
        "\n",
        "# make some list\n",
        "xs = [5, 10, 3, 6, 12, 3]\n",
        "\n",
        "# Try:\n",
        "xs[0]\n",
        "xs[3]\n",
        "# xs[200]\n",
        "xs[-1]\n",
        "xs[3] = xs[3] + 1\n",
        "xs[0:2]\n",
        "len(xs)\n",
        "sum(xs)\n",
        "# mean of numbers?\n",
        "xs + [7, 4]\n",
        "xs.append(7) #inline change!\n",
        "set(xs)\n",
        "for x in xs: print(x)\n",
        "[x for x in xs]\n",
        "# xs + 1\n",
        "[x for x in xs]\n",
        "[min(0, x) for x in xs]\n",
        "[x for x in xs if x >= 6]\n",
        "for (i, x) in enumerate(xs): print(i, x)\n",
        "(xs) * 2"
      ]
    },
    {
      "cell_type": "code",
      "source": [
        "xs = [5, 10, 3, 6, 12, 3]\n",
        "[x for x in xs if x >= 6]\n"
      ],
      "metadata": {
        "colab": {
          "base_uri": "https://localhost:8080/"
        },
        "id": "g7X9W8BRGK4F",
        "outputId": "b19cdbf0-e4c1-49e7-c241-5f01e9fe82a3"
      },
      "execution_count": null,
      "outputs": [
        {
          "output_type": "execute_result",
          "data": {
            "text/plain": [
              "[10, 6, 12]"
            ]
          },
          "metadata": {},
          "execution_count": 115
        }
      ]
    },
    {
      "cell_type": "markdown",
      "metadata": {
        "id": "nvwB3hjhFJrQ"
      },
      "source": [
        "## Tuples\n",
        "\n",
        "Consider tuple to be a small list:\n",
        "\n",
        "- same item references as lists\n",
        "- but immutable -  cannot change after creation\n",
        "- it's OK to contain values of different types"
      ]
    },
    {
      "cell_type": "code",
      "source": [
        "# what objects are best described by tuples?\n",
        "# example A\n",
        "(1799, 1837)"
      ],
      "metadata": {
        "colab": {
          "base_uri": "https://localhost:8080/"
        },
        "id": "VCEeqha6qX5-",
        "outputId": "d3abd0cb-b785-4176-b3e1-eb05334694a6"
      },
      "execution_count": null,
      "outputs": [
        {
          "output_type": "execute_result",
          "data": {
            "text/plain": [
              "(1799, 1837)"
            ]
          },
          "metadata": {},
          "execution_count": 56
        }
      ]
    },
    {
      "cell_type": "code",
      "source": [
        "# what is the object?\n",
        "# example B\n",
        "(2, \"б\")"
      ],
      "metadata": {
        "id": "eL-RSFPTqB24",
        "colab": {
          "base_uri": "https://localhost:8080/"
        },
        "outputId": "fcb7ce26-ce25-449d-c82c-14a76ae14c54"
      },
      "execution_count": null,
      "outputs": [
        {
          "output_type": "execute_result",
          "data": {
            "text/plain": [
              "(2, 'б')"
            ]
          },
          "metadata": {},
          "execution_count": 117
        }
      ]
    },
    {
      "cell_type": "code",
      "source": [
        "[(1, \"a\"), (1, \"б\"), (2, \"a\")]"
      ],
      "metadata": {
        "id": "c0D68fRgryBJ",
        "colab": {
          "base_uri": "https://localhost:8080/"
        },
        "outputId": "47ec068f-5062-405e-a120-ae2de9a6fc55"
      },
      "execution_count": null,
      "outputs": [
        {
          "output_type": "execute_result",
          "data": {
            "text/plain": [
              "[(1, 'a'), (1, 'б'), (2, 'a')]"
            ]
          },
          "metadata": {},
          "execution_count": 118
        }
      ]
    },
    {
      "cell_type": "code",
      "source": [
        "ys  = [1, 2, 3]\n",
        "ys[0] = -4\n",
        "ys"
      ],
      "metadata": {
        "id": "jvuUx6JOpyY6",
        "colab": {
          "base_uri": "https://localhost:8080/"
        },
        "outputId": "69e275b7-9df4-4c20-b979-d0271c1574d4"
      },
      "execution_count": null,
      "outputs": [
        {
          "output_type": "execute_result",
          "data": {
            "text/plain": [
              "[-4, 2, 3]"
            ]
          },
          "metadata": {},
          "execution_count": 119
        }
      ]
    },
    {
      "cell_type": "code",
      "execution_count": null,
      "metadata": {
        "id": "K_fFPnbrP3Eq",
        "colab": {
          "base_uri": "https://localhost:8080/"
        },
        "outputId": "9990ee0b-7db3-4afc-ebf4-3a50b1217f93"
      },
      "outputs": [
        {
          "output_type": "execute_result",
          "data": {
            "text/plain": [
              "['a', 'b', '_', 'z']"
            ]
          },
          "metadata": {},
          "execution_count": 120
        }
      ],
      "source": [
        "# list is mutable\n",
        "xs = [\"a\", \"b\", \"r\", \"z\"]\n",
        "xs[2] = \"_\"\n",
        "xs"
      ]
    },
    {
      "cell_type": "code",
      "execution_count": null,
      "metadata": {
        "colab": {
          "base_uri": "https://localhost:8080/",
          "height": 213
        },
        "id": "CUgH8q21QQHu",
        "outputId": "e309c51d-904f-4c95-aea4-7d392791ada5"
      },
      "outputs": [
        {
          "output_type": "error",
          "ename": "TypeError",
          "evalue": "ignored",
          "traceback": [
            "\u001b[0;31m---------------------------------------------------------------------------\u001b[0m",
            "\u001b[0;31mTypeError\u001b[0m                                 Traceback (most recent call last)",
            "\u001b[0;32m<ipython-input-121-e29763b540ac>\u001b[0m in \u001b[0;36m<cell line: 3>\u001b[0;34m()\u001b[0m\n\u001b[1;32m      1\u001b[0m \u001b[0;31m# tuple is immutable\u001b[0m\u001b[0;34m\u001b[0m\u001b[0;34m\u001b[0m\u001b[0m\n\u001b[1;32m      2\u001b[0m \u001b[0mys\u001b[0m \u001b[0;34m=\u001b[0m \u001b[0;34m(\u001b[0m\u001b[0;34m\"a\"\u001b[0m\u001b[0;34m,\u001b[0m \u001b[0;34m\"b\"\u001b[0m\u001b[0;34m,\u001b[0m \u001b[0;34m\"r\"\u001b[0m\u001b[0;34m,\u001b[0m \u001b[0;34m\"z\"\u001b[0m\u001b[0;34m)\u001b[0m\u001b[0;34m\u001b[0m\u001b[0;34m\u001b[0m\u001b[0m\n\u001b[0;32m----> 3\u001b[0;31m \u001b[0mys\u001b[0m\u001b[0;34m[\u001b[0m\u001b[0;36m2\u001b[0m\u001b[0;34m]\u001b[0m \u001b[0;34m=\u001b[0m \u001b[0;34m\"_\"\u001b[0m\u001b[0;34m\u001b[0m\u001b[0;34m\u001b[0m\u001b[0m\n\u001b[0m",
            "\u001b[0;31mTypeError\u001b[0m: 'tuple' object does not support item assignment"
          ]
        }
      ],
      "source": [
        "# tuple is immutable\n",
        "ys = (\"a\", \"b\", \"r\", \"z\")\n",
        "ys[2] = \"_\""
      ]
    },
    {
      "cell_type": "markdown",
      "metadata": {
        "id": "dKfziALTmPmY"
      },
      "source": [
        "What makes a good tuple (homework)?\n",
        "\n",
        "What objects need several values to describe them?\n",
        "\n",
        "Hints:\n",
        "- when you are in school\n",
        "- when you buy something\n",
        "- journeys\n",
        "- biographies\n",
        "- getting around\n",
        "- anything in finance?\n",
        "\n",
        "How would a tuple get modified? What functions are needed to work with these tuples?"
      ]
    },
    {
      "cell_type": "code",
      "execution_count": null,
      "metadata": {
        "colab": {
          "base_uri": "https://localhost:8080/"
        },
        "id": "QSYViTxVmyK7",
        "outputId": "c611895d-e919-4173-f776-c6751111a755"
      },
      "outputs": [
        {
          "output_type": "execute_result",
          "data": {
            "text/plain": [
              "1837"
            ]
          },
          "metadata": {},
          "execution_count": 62
        }
      ],
      "source": [
        "t = (1799, 1837)\n",
        "t[1]"
      ]
    },
    {
      "cell_type": "code",
      "execution_count": null,
      "metadata": {
        "id": "tqfkPBYynDmh",
        "colab": {
          "base_uri": "https://localhost:8080/",
          "height": 238
        },
        "outputId": "259f8a96-abfb-4c01-acf0-f8b587dbee0c"
      },
      "outputs": [
        {
          "output_type": "error",
          "ename": "TypeError",
          "evalue": "ignored",
          "traceback": [
            "\u001b[0;31m---------------------------------------------------------------------------\u001b[0m",
            "\u001b[0;31mTypeError\u001b[0m                                 Traceback (most recent call last)",
            "\u001b[0;32m<ipython-input-81-1a2b7127932a>\u001b[0m in \u001b[0;36m<module>\u001b[0;34m\u001b[0m\n\u001b[0;32m----> 1\u001b[0;31m \u001b[0mt\u001b[0m\u001b[0;34m[\u001b[0m\u001b[0;36m1\u001b[0m\u001b[0;34m]\u001b[0m \u001b[0;34m=\u001b[0m \u001b[0;36m1853\u001b[0m\u001b[0;34m\u001b[0m\u001b[0;34m\u001b[0m\u001b[0m\n\u001b[0m\u001b[1;32m      2\u001b[0m \u001b[0;31m# TypeError                                 Traceback (most recent call last)\u001b[0m\u001b[0;34m\u001b[0m\u001b[0;34m\u001b[0m\u001b[0;34m\u001b[0m\u001b[0m\n\u001b[1;32m      3\u001b[0m \u001b[0;31m#\u001b[0m\u001b[0;34m\u001b[0m\u001b[0;34m\u001b[0m\u001b[0;34m\u001b[0m\u001b[0m\n\u001b[1;32m      4\u001b[0m \u001b[0;31m# TypeError: 'tuple' object does not support item assignment\u001b[0m\u001b[0;34m\u001b[0m\u001b[0;34m\u001b[0m\u001b[0;34m\u001b[0m\u001b[0m\n",
            "\u001b[0;31mTypeError\u001b[0m: 'tuple' object does not support item assignment"
          ]
        }
      ],
      "source": [
        " t[1] = 1853\n",
        "# TypeError                                 Traceback (most recent call last)\n",
        "#\n",
        "# TypeError: 'tuple' object does not support item assignment\n"
      ]
    },
    {
      "cell_type": "code",
      "execution_count": null,
      "metadata": {
        "colab": {
          "base_uri": "https://localhost:8080/",
          "height": 35
        },
        "id": "5JnCWg0ZTOPm",
        "outputId": "a1cd5de7-803c-46ea-de5b-3a11d24f25ff"
      },
      "outputs": [
        {
          "output_type": "execute_result",
          "data": {
            "text/plain": [
              "'b'"
            ],
            "application/vnd.google.colaboratory.intrinsic+json": {
              "type": "string"
            }
          },
          "metadata": {},
          "execution_count": 122
        }
      ],
      "source": [
        "# glossary: unpacking\n",
        "grade, letter = (6, \"b\")\n",
        "grade\n",
        "letter"
      ]
    },
    {
      "cell_type": "code",
      "execution_count": null,
      "metadata": {
        "colab": {
          "base_uri": "https://localhost:8080/"
        },
        "id": "uoBjDCZGQ8_2",
        "outputId": "6beda72e-e92e-45dc-9007-f4b1bdebd0b7"
      },
      "outputs": [
        {
          "output_type": "execute_result",
          "data": {
            "text/plain": [
              "(12, 'a')"
            ]
          },
          "metadata": {},
          "execution_count": 123
        }
      ],
      "source": [
        "# school class\n",
        "def move_next(k):\n",
        "  grade, letter = k\n",
        "  return (grade + 1), letter\n",
        "\n",
        "# better:      **____\n",
        "# note better:\n",
        "\n",
        "klass = (6, \"b\")\n",
        "next_klass = move_next(klass)\n",
        "assert next_klass == (7, 'b')\n",
        "\n",
        "move_next(k=(11, \"a\"))"
      ]
    },
    {
      "cell_type": "code",
      "execution_count": null,
      "metadata": {
        "colab": {
          "base_uri": "https://localhost:8080/"
        },
        "id": "hrX4w8o2UDpI",
        "outputId": "0849e873-c76d-4c9a-94e8-7d757fa11dd8"
      },
      "outputs": [
        {
          "output_type": "execute_result",
          "data": {
            "text/plain": [
              "False"
            ]
          },
          "metadata": {},
          "execution_count": 124
        }
      ],
      "source": [
        "seat = (21, \"d\")\n",
        "flight = (\"MOW\", \"AMS\")\n",
        "\n",
        "today    = (15, 2, 2023)\n",
        "some_day = (1, 3, 2023)\n",
        "some_day > today"
      ]
    },
    {
      "cell_type": "code",
      "execution_count": null,
      "metadata": {
        "colab": {
          "base_uri": "https://localhost:8080/"
        },
        "id": "y9kNmyM4UmH0",
        "outputId": "143ce6ec-0440-4c32-93ca-d06dc0d0ba29"
      },
      "outputs": [
        {
          "output_type": "execute_result",
          "data": {
            "text/plain": [
              "False"
            ]
          },
          "metadata": {},
          "execution_count": 67
        }
      ],
      "source": [
        "some_day > today"
      ]
    },
    {
      "cell_type": "code",
      "execution_count": null,
      "metadata": {
        "id": "lzTdNLAC3KMG"
      },
      "outputs": [],
      "source": [
        "# https://www.bloomberg.com/quote/EURUSD:CUR\n",
        "eur = (\"EURUSD\", 1.0792)\n",
        "\n",
        "# https://finance.yahoo.com/quote/MSFT?p=MSFT&.tsrc=fin-srch\n",
        "msft = (\"MSFT\", 328.66)\n",
        "\n",
        "# https://www.moex.com/en/index/IMOEX\n",
        "rtsi = (\"RTSI\", 3265.48)"
      ]
    },
    {
      "cell_type": "code",
      "execution_count": null,
      "metadata": {
        "colab": {
          "base_uri": "https://localhost:8080/",
          "height": 35
        },
        "id": "WKm_CTzK7_P0",
        "outputId": "bdb3cd4d-2a9b-4d9d-ea82-1a7c6128330c"
      },
      "outputs": [
        {
          "output_type": "execute_result",
          "data": {
            "text/plain": [
              "'EURUSD'"
            ],
            "application/vnd.google.colaboratory.intrinsic+json": {
              "type": "string"
            }
          },
          "metadata": {},
          "execution_count": 127
        }
      ],
      "source": [
        "# list of tuples\n",
        "z = [(\"EURUSD\", 1.1904), (\"MSFT\", 237.71)]\n",
        "z[0][0]"
      ]
    },
    {
      "cell_type": "code",
      "execution_count": null,
      "metadata": {
        "colab": {
          "base_uri": "https://localhost:8080/"
        },
        "id": "0hQuTDYX8Haf",
        "outputId": "0f0d2136-ad12-406c-fe79-5df6617c229d"
      },
      "outputs": [
        {
          "output_type": "execute_result",
          "data": {
            "text/plain": [
              "True"
            ]
          },
          "metadata": {},
          "execution_count": 128
        }
      ],
      "source": [
        "x = z[1][1]\n",
        "x == 237.71"
      ]
    },
    {
      "cell_type": "code",
      "execution_count": null,
      "metadata": {
        "id": "XYLIfMzYK9hf"
      },
      "outputs": [],
      "source": [
        "# unpacking\n",
        "a = 5\n",
        "b = 2\n",
        "a, b = (5, 2)"
      ]
    },
    {
      "cell_type": "code",
      "execution_count": null,
      "metadata": {
        "colab": {
          "base_uri": "https://localhost:8080/"
        },
        "id": "jjcyy1XODZ6P",
        "outputId": "69b431e6-4eab-4d7f-b4ef-13ae9eda23bc"
      },
      "outputs": [
        {
          "output_type": "stream",
          "name": "stdout",
          "text": [
            "RTSI\n",
            "1537.99\n"
          ]
        }
      ],
      "source": [
        "r = (\"RTSI\", 1537.99)\n",
        "ticker, quote = r\n",
        "print(ticker)\n",
        "print(quote)"
      ]
    },
    {
      "cell_type": "markdown",
      "metadata": {
        "id": "Ab3XTfH8NUa8"
      },
      "source": [
        "## Dictionary"
      ]
    },
    {
      "cell_type": "markdown",
      "metadata": {
        "id": "bFVkfRgxodKV"
      },
      "source": [
        "A data structure that holds key-value pairs."
      ]
    },
    {
      "cell_type": "code",
      "execution_count": null,
      "metadata": {
        "id": "l_-1bO1pXE4r"
      },
      "outputs": [],
      "source": [
        "# \"MSFT\" -> 237.71\n",
        "# \"RTSI\" -> 1537.99\n",
        "# What is the value associated with a key?"
      ]
    },
    {
      "cell_type": "code",
      "source": [
        "d = {\"EURUSD\": 1.1904,\n",
        "     \"MSFT\": 295.00,\n",
        "     \"RTSI\": 1537.99}\n",
        "d"
      ],
      "metadata": {
        "colab": {
          "base_uri": "https://localhost:8080/"
        },
        "id": "zTjLD8bw8Gtb",
        "outputId": "94ecb7c1-fe74-43b5-b5c3-5aaae69226d5"
      },
      "execution_count": null,
      "outputs": [
        {
          "output_type": "execute_result",
          "data": {
            "text/plain": [
              "{'EURUSD': 1.1904, 'MSFT': 295.0, 'RTSI': 1537.99}"
            ]
          },
          "metadata": {},
          "execution_count": 131
        }
      ]
    },
    {
      "cell_type": "code",
      "source": [
        "d2 = dict([(\"EURUSD\", 1.1904), (\"MSFT\", 295.00), (\"RTSI\", 1537.99)])\n",
        "d2"
      ],
      "metadata": {
        "colab": {
          "base_uri": "https://localhost:8080/"
        },
        "id": "A_tl97hu8jTa",
        "outputId": "2dea2cf1-0a47-4290-c22d-00323151fe5a"
      },
      "execution_count": null,
      "outputs": [
        {
          "output_type": "execute_result",
          "data": {
            "text/plain": [
              "{'EURUSD': 1.1904, 'MSFT': 295.0, 'RTSI': 1537.99}"
            ]
          },
          "metadata": {},
          "execution_count": 132
        }
      ]
    },
    {
      "cell_type": "code",
      "source": [
        "d[\"EURUSD\"]"
      ],
      "metadata": {
        "colab": {
          "base_uri": "https://localhost:8080/"
        },
        "id": "gGkVp7gL8TE0",
        "outputId": "60bacca9-6c3c-482b-d737-198aea928512"
      },
      "execution_count": null,
      "outputs": [
        {
          "output_type": "execute_result",
          "data": {
            "text/plain": [
              "1.1904"
            ]
          },
          "metadata": {},
          "execution_count": 133
        }
      ]
    },
    {
      "cell_type": "markdown",
      "source": [
        "Dictionaries cannot have two items with the same key. Duplicate values will overwrite existing values"
      ],
      "metadata": {
        "id": "QbaWngmft4Fa"
      }
    },
    {
      "cell_type": "code",
      "source": [
        "d3 = dict([(\"EURUSD\", 1.1904), (\"MSFT\", 295.00), (\"RTSI\", 1537.99), (\"RTSI\", 2137.00)])\n",
        "d3"
      ],
      "metadata": {
        "colab": {
          "base_uri": "https://localhost:8080/"
        },
        "id": "oYWjVu3ituaI",
        "outputId": "0933c8f1-3aac-4303-b629-cde5f58cd7cc"
      },
      "execution_count": null,
      "outputs": [
        {
          "output_type": "execute_result",
          "data": {
            "text/plain": [
              "{'EURUSD': 1.1904, 'MSFT': 295.0, 'RTSI': 2137.0}"
            ]
          },
          "metadata": {},
          "execution_count": 135
        }
      ]
    },
    {
      "cell_type": "code",
      "execution_count": null,
      "metadata": {
        "colab": {
          "base_uri": "https://localhost:8080/"
        },
        "id": "ugaJcqCZXEv1",
        "outputId": "90c84b4a-dd62-45ed-93ef-9425ecdcd4a1"
      },
      "outputs": [
        {
          "output_type": "execute_result",
          "data": {
            "text/plain": [
              "237.71"
            ]
          },
          "metadata": {},
          "execution_count": 136
        }
      ],
      "source": [
        "stock_quotes = dict()\n",
        "stock_quotes[\"MSFT\"] = 237.71\n",
        "stock_quotes[\"MSFT\"]"
      ]
    },
    {
      "cell_type": "code",
      "execution_count": null,
      "metadata": {
        "colab": {
          "base_uri": "https://localhost:8080/"
        },
        "id": "ga8IlIZxXdF4",
        "outputId": "8576530d-cd74-4fa7-ef51-e66486ccfb1f"
      },
      "outputs": [
        {
          "output_type": "stream",
          "name": "stdout",
          "text": [
            "Ivan Ivanov\n"
          ]
        }
      ],
      "source": [
        "person = (\"Ivan\", \"Ivanov\")\n",
        "person = (\"Ivanov\", \"Ivan\")\n",
        "person_dict = {\"last\": \"Ivanov\", \"first\": \"Ivan\"}\n",
        "\n",
        "name = person_dict[\"first\"] + \" \"  + person_dict[\"last\"]\n",
        "print(name)"
      ]
    },
    {
      "cell_type": "code",
      "execution_count": null,
      "metadata": {
        "id": "fR1JCsWkYEgA"
      },
      "outputs": [],
      "source": [
        "book = {\"title\": \"Investment Science\",\n",
        "        \"author\": {\"family\": \"Luenberger\",\n",
        "                   \"given\": \"David\"},\n",
        "        \"year\": 1998,\n",
        "        \"publisher\": \"OUP\"\n",
        "        }"
      ]
    },
    {
      "cell_type": "code",
      "execution_count": null,
      "metadata": {
        "colab": {
          "base_uri": "https://localhost:8080/"
        },
        "id": "WsqbqzACYw4G",
        "outputId": "c3ed325d-45b0-4402-922f-ee445784a50a"
      },
      "outputs": [
        {
          "output_type": "execute_result",
          "data": {
            "text/plain": [
              "dict_keys(['title', 'author', 'year', 'publisher'])"
            ]
          },
          "metadata": {},
          "execution_count": 139
        }
      ],
      "source": [
        "book.keys()"
      ]
    },
    {
      "cell_type": "code",
      "execution_count": null,
      "metadata": {
        "id": "QII2aYgVY6tX",
        "colab": {
          "base_uri": "https://localhost:8080/"
        },
        "outputId": "4587ffe0-2e04-452f-ce39-72e9e3e33077"
      },
      "outputs": [
        {
          "output_type": "execute_result",
          "data": {
            "text/plain": [
              "1998"
            ]
          },
          "metadata": {},
          "execution_count": 140
        }
      ],
      "source": [
        "book[\"year\"]"
      ]
    },
    {
      "cell_type": "code",
      "execution_count": null,
      "metadata": {
        "id": "I7a3ymWSZBAx",
        "colab": {
          "base_uri": "https://localhost:8080/"
        },
        "outputId": "05ac79db-f461-489b-dcbf-2591d3be4f33"
      },
      "outputs": [
        {
          "output_type": "execute_result",
          "data": {
            "text/plain": [
              "1998"
            ]
          },
          "metadata": {},
          "execution_count": 141
        }
      ],
      "source": [
        "(\"Investment Science\", (\"Luenberger\", \"David\"), 1998, \"OUP\")[2]"
      ]
    },
    {
      "cell_type": "code",
      "execution_count": null,
      "metadata": {
        "id": "ZJQ1NGC1C7Jg",
        "colab": {
          "base_uri": "https://localhost:8080/"
        },
        "outputId": "949fca3c-43a0-43bc-d461-9b325cbe731f"
      },
      "outputs": [
        {
          "output_type": "execute_result",
          "data": {
            "text/plain": [
              "237.71"
            ]
          },
          "metadata": {},
          "execution_count": 85
        }
      ],
      "source": [
        "(\"MSFT\", 237.71)[1]"
      ]
    },
    {
      "cell_type": "code",
      "execution_count": null,
      "metadata": {
        "id": "p2O8orwnC9KX",
        "colab": {
          "base_uri": "https://localhost:8080/"
        },
        "outputId": "df804929-483e-4a30-8067-4ad39f8fcabe"
      },
      "outputs": [
        {
          "output_type": "execute_result",
          "data": {
            "text/plain": [
              "237.71"
            ]
          },
          "metadata": {},
          "execution_count": 86
        }
      ],
      "source": [
        "d = {\"MSFT\": 237.71, \"RTSI\": 1537.99}\n",
        "d[\"MSFT\"]"
      ]
    },
    {
      "cell_type": "code",
      "execution_count": null,
      "metadata": {
        "colab": {
          "base_uri": "https://localhost:8080/"
        },
        "id": "HLY9ogXTNTxI",
        "outputId": "2d153c4e-a3f3-4d73-cb64-62cee501ee4e"
      },
      "outputs": [
        {
          "output_type": "execute_result",
          "data": {
            "text/plain": [
              "{'MSFT': 237.71, 'TSLA': 676.88}"
            ]
          },
          "metadata": {},
          "execution_count": 87
        }
      ],
      "source": [
        "quote_list = [(\"MSFT\", 237.71), (\"TSLA\", 676.88)]\n",
        "quote_dict = dict(quote_list)\n",
        "quote_dict"
      ]
    },
    {
      "cell_type": "code",
      "execution_count": null,
      "metadata": {
        "colab": {
          "base_uri": "https://localhost:8080/"
        },
        "id": "kFe0HfekCfzm",
        "outputId": "463b0611-20ce-4086-f8a7-dd77db6d014c"
      },
      "outputs": [
        {
          "output_type": "execute_result",
          "data": {
            "text/plain": [
              "237.71"
            ]
          },
          "metadata": {},
          "execution_count": 88
        }
      ],
      "source": [
        "quote_dict[\"MSFT\"]"
      ]
    },
    {
      "cell_type": "code",
      "execution_count": null,
      "metadata": {
        "id": "Vx6Ccs8EYdI7"
      },
      "outputs": [],
      "source": [
        "another_dict = {'MSFT': 237.71, 'TSLA': 676.88}"
      ]
    },
    {
      "cell_type": "code",
      "execution_count": null,
      "metadata": {
        "id": "fakx8W_F_Ch9"
      },
      "outputs": [],
      "source": [
        "yet_another_dict = dict(MSFT=237.71, TSLA=676.88)"
      ]
    },
    {
      "cell_type": "code",
      "execution_count": null,
      "metadata": {
        "colab": {
          "base_uri": "https://localhost:8080/"
        },
        "id": "j6yFsNhMYiy9",
        "outputId": "71b156fa-0b68-4079-9c83-8eb01d471b7d"
      },
      "outputs": [
        {
          "output_type": "execute_result",
          "data": {
            "text/plain": [
              "True"
            ]
          },
          "metadata": {},
          "execution_count": 91
        }
      ],
      "source": [
        "quote_dict == another_dict == yet_another_dict"
      ]
    },
    {
      "cell_type": "code",
      "execution_count": null,
      "metadata": {
        "colab": {
          "base_uri": "https://localhost:8080/"
        },
        "id": "elKt9n0fC3KY",
        "outputId": "8a7e4bec-6550-4b12-e955-1764f6d975f1"
      },
      "outputs": [
        {
          "output_type": "execute_result",
          "data": {
            "text/plain": [
              "{'MSFT': 237.71, 'TSLA': 676.88, 'BTC': 55595.3}"
            ]
          },
          "metadata": {},
          "execution_count": 92
        }
      ],
      "source": [
        "quote_dict = dict()\n",
        "quote_dict[\"MSFT\"] = 237.71\n",
        "quote_dict[\"TSLA\"] = 676.88\n",
        "quote_dict[\"BTC\"] = 55595.30\n",
        "quote_dict"
      ]
    },
    {
      "cell_type": "code",
      "execution_count": null,
      "metadata": {
        "colab": {
          "base_uri": "https://localhost:8080/"
        },
        "id": "U421Ekf3Dxz4",
        "outputId": "c358e2a7-66d1-4390-bb17-6ea9d057fa8f"
      },
      "outputs": [
        {
          "output_type": "stream",
          "name": "stdout",
          "text": [
            "MSFT 237.71\n",
            "TSLA 676.88\n",
            "BTC 55595.3\n"
          ]
        }
      ],
      "source": [
        "for (key, value) in quote_dict.items():\n",
        "  print(key, value)"
      ]
    },
    {
      "cell_type": "code",
      "execution_count": null,
      "metadata": {
        "id": "K3IwpZ0aaytD"
      },
      "outputs": [],
      "source": [
        "# Try:\n",
        "quote_dict.keys()\n",
        "quote_dict.values()\n",
        "quote_dict.items()"
      ]
    },
    {
      "cell_type": "code",
      "execution_count": null,
      "metadata": {
        "colab": {
          "base_uri": "https://localhost:8080/"
        },
        "id": "54ys0x2jBU8w",
        "outputId": "a1de1758-d27a-44f6-8026-8ba6f48e272b"
      },
      "outputs": [
        {
          "output_type": "execute_result",
          "data": {
            "text/plain": [
              "{'b': 2}"
            ]
          },
          "metadata": {},
          "execution_count": 95
        }
      ],
      "source": [
        "x = dict(a=1, b=2)\n",
        "del x['a']\n",
        "x"
      ]
    },
    {
      "cell_type": "markdown",
      "metadata": {
        "id": "T1LePi4CYMpe"
      },
      "source": [
        "## Set\n",
        "\n",
        "What is set useful for?"
      ]
    },
    {
      "cell_type": "code",
      "execution_count": null,
      "metadata": {
        "colab": {
          "base_uri": "https://localhost:8080/"
        },
        "id": "7L4eZGE2op4W",
        "outputId": "fbec445c-5e8e-4eec-adac-91a1303cb161"
      },
      "outputs": [
        {
          "output_type": "execute_result",
          "data": {
            "text/plain": [
              "{2, 3, 5}"
            ]
          },
          "metadata": {},
          "execution_count": 142
        }
      ],
      "source": [
        "items = [3, 2, 2, 5, 5, 5, 5]\n",
        "set(items)"
      ]
    },
    {
      "cell_type": "code",
      "execution_count": null,
      "metadata": {
        "colab": {
          "base_uri": "https://localhost:8080/"
        },
        "id": "9-QZEZdpZ6cK",
        "outputId": "95b37003-292b-4339-8c8a-59ed265de820"
      },
      "outputs": [
        {
          "output_type": "execute_result",
          "data": {
            "text/plain": [
              "{'Dasha', 'Misha'}"
            ]
          },
          "metadata": {},
          "execution_count": 143
        }
      ],
      "source": [
        "names = [\"Misha\", \"Dasha\", \"Dasha\"]\n",
        "c = set(names)\n",
        "c"
      ]
    },
    {
      "cell_type": "code",
      "execution_count": null,
      "metadata": {
        "colab": {
          "base_uri": "https://localhost:8080/"
        },
        "id": "mzSrKi9xYOSS",
        "outputId": "fa4a4f06-9bbf-4f43-f2ca-26d4470571c7"
      },
      "outputs": [
        {
          "output_type": "stream",
          "name": "stdout",
          "text": [
            "False\n",
            "False\n",
            "True\n"
          ]
        }
      ],
      "source": [
        "# how to tell if names are unique?\n",
        "#len(b) == len(set(b))\n",
        "\n",
        "def is_unique(xs) -> bool:\n",
        "  return len(xs) == len(set(xs))\n",
        "\n",
        "print(is_unique(items))\n",
        "print(is_unique(names))\n",
        "print(is_unique([\"a\", \"b\"]))"
      ]
    },
    {
      "cell_type": "code",
      "execution_count": null,
      "metadata": {
        "colab": {
          "base_uri": "https://localhost:8080/"
        },
        "id": "K5b2CBVEExN7",
        "outputId": "f0384980-2ebd-49d8-af78-bbbc1e76ed8b"
      },
      "outputs": [
        {
          "output_type": "execute_result",
          "data": {
            "text/plain": [
              "{1, 2}"
            ]
          },
          "metadata": {},
          "execution_count": 145
        }
      ],
      "source": [
        "set([1,2,2,4,5,5,5,5]) - set([4,5,6])"
      ]
    },
    {
      "cell_type": "code",
      "execution_count": null,
      "metadata": {
        "colab": {
          "base_uri": "https://localhost:8080/"
        },
        "id": "y3gT0We-a2D7",
        "outputId": "fd2f6033-5caf-4ac4-aed2-6fe3c2ffbc38"
      },
      "outputs": [
        {
          "output_type": "execute_result",
          "data": {
            "text/plain": [
              "{1, 2, 4, 5}"
            ]
          },
          "metadata": {},
          "execution_count": 102
        }
      ],
      "source": [
        "set([1,2,2,4,5,5,5,5])"
      ]
    },
    {
      "cell_type": "code",
      "execution_count": null,
      "metadata": {
        "colab": {
          "base_uri": "https://localhost:8080/"
        },
        "id": "Iwr9hB3RasFv",
        "outputId": "55cef1cd-a73b-4c98-c4a2-5d4f502fdfa0"
      },
      "outputs": [
        {
          "output_type": "execute_result",
          "data": {
            "text/plain": [
              "{6}"
            ]
          },
          "metadata": {},
          "execution_count": 103
        }
      ],
      "source": [
        "set([4,5,6]) - set([1,2,2,4,5,5,5,5])"
      ]
    },
    {
      "cell_type": "markdown",
      "metadata": {
        "id": "WVO4VOzFnfv9"
      },
      "source": [
        "# Control flow"
      ]
    },
    {
      "cell_type": "markdown",
      "source": [
        "## Conditional statement - if/elif/else"
      ],
      "metadata": {
        "id": "vTWSmUlvBGiq"
      }
    },
    {
      "cell_type": "code",
      "execution_count": null,
      "metadata": {
        "id": "BP34yhUfMM51",
        "colab": {
          "base_uri": "https://localhost:8080/"
        },
        "outputId": "8a7b686d-91c5-4c7b-82d4-80b21b309d58"
      },
      "outputs": [
        {
          "output_type": "stream",
          "name": "stdout",
          "text": [
            "Current price is 110\n",
            "Undecided\n"
          ]
        }
      ],
      "source": [
        "from random import randint\n",
        "\n",
        "price = randint(105, 145)\n",
        "print(\"Current price is\",  price)\n",
        "# price = 90\n",
        "\n",
        "threshold1 = 120\n",
        "threshold2 = 100\n",
        "if price >= threshold1:\n",
        "  print(\"Must sell\")\n",
        "elif price>=threshold2:\n",
        "  print(\"Undecided\")\n",
        "else:\n",
        "  print(\"Hold\")"
      ]
    },
    {
      "cell_type": "code",
      "execution_count": null,
      "metadata": {
        "colab": {
          "base_uri": "https://localhost:8080/"
        },
        "id": "fLTPnyTg9yfz",
        "outputId": "779b0f19-c716-4428-aa55-d4c38d49a60f"
      },
      "outputs": [
        {
          "output_type": "stream",
          "name": "stdout",
          "text": [
            "Negative\n"
          ]
        }
      ],
      "source": [
        "a = 5\n",
        "flag = False\n",
        "if (a > 0) and flag:\n",
        "  print(\"Positive!\")\n",
        "else:\n",
        "  print(\"Negative\")"
      ]
    },
    {
      "cell_type": "markdown",
      "source": [
        "## Loop - for / range / enumerate"
      ],
      "metadata": {
        "id": "f8jdoaF3BS9a"
      }
    },
    {
      "cell_type": "code",
      "source": [
        "for x in [10, 8, 5, 12]:\n",
        "  # loop body\n",
        "  print(x)"
      ],
      "metadata": {
        "colab": {
          "base_uri": "https://localhost:8080/"
        },
        "id": "4Kn_mpFGB1Vo",
        "outputId": "5f89111a-0645-4c52-ded2-a887d3f6afde"
      },
      "execution_count": null,
      "outputs": [
        {
          "output_type": "stream",
          "name": "stdout",
          "text": [
            "10\n",
            "8\n",
            "5\n",
            "12\n"
          ]
        }
      ]
    },
    {
      "cell_type": "code",
      "execution_count": null,
      "metadata": {
        "colab": {
          "base_uri": "https://localhost:8080/"
        },
        "id": "ySbz_LAiSt_Y",
        "outputId": "d70d438b-f4f0-457f-ef2b-de8e5b38c643"
      },
      "outputs": [
        {
          "output_type": "stream",
          "name": "stdout",
          "text": [
            "0 Enron\n",
            "1 Worldcom\n",
            "2 Lehman\n",
            "3 Ford\n"
          ]
        }
      ],
      "source": [
        "companies = [\"Enron\", \"Worldcom\", \"Lehman\", \"Ford\"]\n",
        "for (i, company) in enumerate(companies):\n",
        "  print(i, company)"
      ]
    },
    {
      "cell_type": "code",
      "source": [
        "for i in enumerate(companies):\n",
        "  print(i)"
      ],
      "metadata": {
        "colab": {
          "base_uri": "https://localhost:8080/"
        },
        "id": "FjvP5j19u_74",
        "outputId": "541c8b9b-af78-45cd-e93b-f800e020b064"
      },
      "execution_count": null,
      "outputs": [
        {
          "output_type": "stream",
          "name": "stdout",
          "text": [
            "(0, 'Enron')\n",
            "(1, 'Worldcom')\n",
            "(2, 'Lehman')\n",
            "(3, 'Ford')\n"
          ]
        }
      ]
    },
    {
      "cell_type": "code",
      "execution_count": null,
      "metadata": {
        "colab": {
          "base_uri": "https://localhost:8080/"
        },
        "id": "882voOmjcSgA",
        "outputId": "49370261-e3e9-4044-aca3-fc9cd9546bb5"
      },
      "outputs": [
        {
          "output_type": "execute_result",
          "data": {
            "text/plain": [
              "[0, 1, 2]"
            ]
          },
          "metadata": {},
          "execution_count": 109
        }
      ],
      "source": [
        "list(range(3))"
      ]
    },
    {
      "cell_type": "code",
      "execution_count": null,
      "metadata": {
        "colab": {
          "base_uri": "https://localhost:8080/"
        },
        "id": "th-rESSNcJ5-",
        "outputId": "34833ed3-707f-4903-8af1-e8f93f19d544"
      },
      "outputs": [
        {
          "output_type": "stream",
          "name": "stdout",
          "text": [
            "0\n",
            "1\n",
            "2\n",
            "3\n",
            "4\n",
            "5\n",
            "6\n",
            "7\n",
            "8\n",
            "9\n"
          ]
        }
      ],
      "source": [
        "for i in range(10):\n",
        "  print(i)"
      ]
    },
    {
      "cell_type": "code",
      "source": [
        "eur = (\"EURUSD\", 1.1904)\n",
        "msft = (\"MSFT\", 295.00)\n",
        "rtsi = (\"RTSI\", 1537.99)\n",
        "quotes = [eur, msft, rtsi]\n",
        "quotes"
      ],
      "metadata": {
        "colab": {
          "base_uri": "https://localhost:8080/"
        },
        "id": "gbYQNKUeCYqE",
        "outputId": "94d76432-7c9a-4ea6-a1ec-83449ca8c2e8"
      },
      "execution_count": null,
      "outputs": [
        {
          "output_type": "execute_result",
          "data": {
            "text/plain": [
              "[('EURUSD', 1.1904), ('MSFT', 295.0), ('RTSI', 1537.99)]"
            ]
          },
          "metadata": {},
          "execution_count": 157
        }
      ]
    },
    {
      "cell_type": "code",
      "execution_count": null,
      "metadata": {
        "colab": {
          "base_uri": "https://localhost:8080/"
        },
        "id": "v-Y4JSIYMsmX",
        "outputId": "ef0ad93d-f422-4001-c47c-bd03cda53693"
      },
      "outputs": [
        {
          "output_type": "stream",
          "name": "stdout",
          "text": [
            "Ticker is EURUSD\n",
            "Value is 1.1904\n",
            "Ticker is MSFT\n",
            "Value is 295.0\n",
            "Ticker is RTSI\n",
            "Value is 1537.99\n"
          ]
        }
      ],
      "source": [
        "for q in quotes:\n",
        "  print(\"Ticker is\", q[0])\n",
        "  print(\"Value is\", q[1])\n"
      ]
    },
    {
      "cell_type": "code",
      "execution_count": null,
      "metadata": {
        "colab": {
          "base_uri": "https://localhost:8080/"
        },
        "id": "cBVK_Cz4c--U",
        "outputId": "7eed1b9c-36ae-46f1-ca7c-cae93b2c65d2"
      },
      "outputs": [
        {
          "output_type": "stream",
          "name": "stdout",
          "text": [
            "0 a\n",
            "1 b\n",
            "2 c\n",
            "3 d\n",
            "abcd\n"
          ]
        }
      ],
      "source": [
        "# let us recreate a string\n",
        "source = \"abcd\"\n",
        "res = \"\"\n",
        "for i, letter in enumerate(source):\n",
        "  print(i, letter)\n",
        "  res = res + letter\n",
        "print(res)\n",
        "\n",
        "# Q: given we know i - what modifucations can we do to a string?"
      ]
    },
    {
      "cell_type": "markdown",
      "source": [
        "## Loop - while\n",
        "\n"
      ],
      "metadata": {
        "id": "dnhHevl9Dp0A"
      }
    },
    {
      "cell_type": "code",
      "execution_count": null,
      "metadata": {
        "colab": {
          "base_uri": "https://localhost:8080/"
        },
        "id": "PeyksR2E-xpG",
        "outputId": "a9705171-0fd0-46c4-b3b8-d482722d6e6b"
      },
      "outputs": [
        {
          "output_type": "stream",
          "name": "stdout",
          "text": [
            "0\n",
            "1\n",
            "2\n",
            "3\n"
          ]
        }
      ],
      "source": [
        "a = 0\n",
        "while a < 4:\n",
        "  print(a)\n",
        "  a += 1"
      ]
    },
    {
      "cell_type": "code",
      "source": [
        "# unpacking\n",
        "t = (0, 1)\n",
        "a, b = t\n",
        "a = t[0]\n",
        "b = t[1]"
      ],
      "metadata": {
        "id": "POq-J9SRC4_l"
      },
      "execution_count": null,
      "outputs": []
    },
    {
      "cell_type": "code",
      "source": [
        "# Fibonacci sequence, another implementation\n",
        "# https://docs.python.org/3/tutorial/introduction.html#first-steps-towards-programming\n",
        "\n",
        "a, b = 0, 1        # unpacking a tuple\n",
        "while a < 10:\n",
        "  print(a)\n",
        "  a, b = b, a+b    # unpacking another tuple"
      ],
      "metadata": {
        "colab": {
          "base_uri": "https://localhost:8080/"
        },
        "id": "4OwQvo80DJuU",
        "outputId": "4b873c98-7973-4ca9-dbcd-3e904bc735ab"
      },
      "execution_count": null,
      "outputs": [
        {
          "output_type": "stream",
          "name": "stdout",
          "text": [
            "0\n",
            "1\n",
            "1\n",
            "2\n",
            "3\n",
            "5\n",
            "8\n"
          ]
        }
      ]
    },
    {
      "cell_type": "markdown",
      "source": [
        "\n",
        "- `while` can create infinite loops - for example server waiting for request\n",
        "- real code example with `while`: [cpython](https://github.com/python/cpython/blob/f4c03484da59049eb62a9bf7777b963e2267d187/Lib/distutils/command/register.py#L137-L156)"
      ],
      "metadata": {
        "id": "Da3P9Y9GDqGg"
      }
    },
    {
      "cell_type": "markdown",
      "metadata": {
        "id": "7v55ZaT_nqZP"
      },
      "source": [
        "# Functions\n",
        "\n",
        "- code with a specific responsibility - does one thing\n",
        "- has an input (arguments) or works without input (no arguments)\n",
        "- usually provides output (via `return`)"
      ]
    },
    {
      "cell_type": "code",
      "execution_count": null,
      "metadata": {
        "colab": {
          "base_uri": "https://localhost:8080/",
          "height": 35
        },
        "id": "4DAEQ3z1_ZBv",
        "outputId": "54980a60-ab5a-4113-ca1f-f6f37e02b1c5"
      },
      "outputs": [
        {
          "output_type": "execute_result",
          "data": {
            "text/plain": [
              "'2022-09-01'"
            ],
            "application/vnd.google.colaboratory.intrinsic+json": {
              "type": "string"
            }
          },
          "metadata": {},
          "execution_count": 160
        }
      ],
      "source": [
        "# no arguments\n",
        "def my_birthday():\n",
        "  return \"2022-09-01\"\n",
        "\n",
        "my_birthday()"
      ]
    },
    {
      "cell_type": "code",
      "execution_count": null,
      "metadata": {
        "id": "1ldMR7rSb0r1"
      },
      "outputs": [],
      "source": [
        "def inc(x):\n",
        "  return x + 1"
      ]
    },
    {
      "cell_type": "code",
      "execution_count": null,
      "metadata": {
        "colab": {
          "base_uri": "https://localhost:8080/"
        },
        "id": "JpsrCpGyICtc",
        "outputId": "0811eba4-b6c3-474d-8c2a-b023fefe87e6"
      },
      "outputs": [
        {
          "output_type": "execute_result",
          "data": {
            "text/plain": [
              "6"
            ]
          },
          "metadata": {},
          "execution_count": 115
        }
      ],
      "source": [
        "inc(5)"
      ]
    },
    {
      "cell_type": "code",
      "execution_count": null,
      "metadata": {
        "colab": {
          "base_uri": "https://localhost:8080/"
        },
        "id": "2VNexZkiS5_s",
        "outputId": "04c34c8e-cf09-41a1-925b-ef9e3b087585"
      },
      "outputs": [
        {
          "output_type": "execute_result",
          "data": {
            "text/plain": [
              "(6, 50)"
            ]
          },
          "metadata": {},
          "execution_count": 20
        }
      ],
      "source": [
        "def order(a, b):\n",
        "  if a <= b:\n",
        "    return (a, b)\n",
        "  else:\n",
        "    return (b, a)\n",
        "order(50, 6)"
      ]
    },
    {
      "cell_type": "code",
      "source": [
        "def double(x):\n",
        "  return x * 2\n",
        "\n",
        "double(4)"
      ],
      "metadata": {
        "colab": {
          "base_uri": "https://localhost:8080/"
        },
        "id": "mT0UxppCiqPT",
        "outputId": "b88aec9f-daa9-41d3-eadc-948258025b0c"
      },
      "execution_count": null,
      "outputs": [
        {
          "output_type": "execute_result",
          "data": {
            "text/plain": [
              "8"
            ]
          },
          "metadata": {},
          "execution_count": 21
        }
      ]
    },
    {
      "cell_type": "code",
      "source": [
        "double(x=\"4\")"
      ],
      "metadata": {
        "colab": {
          "base_uri": "https://localhost:8080/",
          "height": 36
        },
        "id": "qRqqu5v9jQFj",
        "outputId": "98804d72-9cfc-455c-888c-a371ea1680ad"
      },
      "execution_count": null,
      "outputs": [
        {
          "output_type": "execute_result",
          "data": {
            "text/plain": [
              "'44'"
            ],
            "application/vnd.google.colaboratory.intrinsic+json": {
              "type": "string"
            }
          },
          "metadata": {},
          "execution_count": 108
        }
      ]
    },
    {
      "cell_type": "markdown",
      "metadata": {
        "id": "ZmVz_cw_U3V_"
      },
      "source": [
        "Some functions are attached to objects as 'methods'."
      ]
    },
    {
      "cell_type": "code",
      "execution_count": null,
      "metadata": {
        "id": "4A1uZ2MXT1C3"
      },
      "outputs": [],
      "source": [
        "def startswith(string, expected_letter):\n",
        "  first_letter = string[0]\n",
        "  return first_letter == expected_letter"
      ]
    },
    {
      "cell_type": "code",
      "execution_count": null,
      "metadata": {
        "colab": {
          "base_uri": "https://localhost:8080/"
        },
        "id": "LzM1pmgQVWaN",
        "outputId": "cfb25103-0e8b-4392-c628-56b155eb10bd"
      },
      "outputs": [
        {
          "output_type": "execute_result",
          "data": {
            "text/plain": [
              "True"
            ]
          },
          "metadata": {},
          "execution_count": 110
        }
      ],
      "source": [
        "startswith(\"abc\", \"a\")"
      ]
    },
    {
      "cell_type": "code",
      "execution_count": null,
      "metadata": {
        "colab": {
          "base_uri": "https://localhost:8080/"
        },
        "id": "qKOmvAL2ndx9",
        "outputId": "0f81af8f-227a-49dc-8743-e1e32ae15129"
      },
      "outputs": [
        {
          "output_type": "execute_result",
          "data": {
            "text/plain": [
              "True"
            ]
          },
          "metadata": {},
          "execution_count": 111
        }
      ],
      "source": [
        "\"abc\".startswith(\"a\")"
      ]
    },
    {
      "cell_type": "code",
      "execution_count": null,
      "metadata": {
        "colab": {
          "base_uri": "https://localhost:8080/"
        },
        "id": "dfcRjDENI7mt",
        "outputId": "a6e8a7c2-02f3-419c-cf29-5ee20a6d49b6"
      },
      "outputs": [
        {
          "output_type": "execute_result",
          "data": {
            "text/plain": [
              "True"
            ]
          },
          "metadata": {},
          "execution_count": 112
        }
      ],
      "source": [
        "\"9\".isdecimal()"
      ]
    },
    {
      "cell_type": "code",
      "execution_count": null,
      "metadata": {
        "colab": {
          "base_uri": "https://localhost:8080/",
          "height": 36
        },
        "id": "WoWUcJF_qEKv",
        "outputId": "cb983270-33f9-42ad-8c7f-adcc817380e3"
      },
      "outputs": [
        {
          "output_type": "execute_result",
          "data": {
            "text/plain": [
              "'sheremetyevo'"
            ],
            "application/vnd.google.colaboratory.intrinsic+json": {
              "type": "string"
            }
          },
          "metadata": {},
          "execution_count": 113
        }
      ],
      "source": [
        "\"Sheremetyevo\".lower()"
      ]
    },
    {
      "cell_type": "code",
      "source": [
        "dir(\"abc\")"
      ],
      "metadata": {
        "colab": {
          "base_uri": "https://localhost:8080/"
        },
        "id": "TPdEE59QHPwm",
        "outputId": "e8212181-84d9-4fef-d24b-62737c38dd83"
      },
      "execution_count": null,
      "outputs": [
        {
          "output_type": "execute_result",
          "data": {
            "text/plain": [
              "['__add__',\n",
              " '__class__',\n",
              " '__contains__',\n",
              " '__delattr__',\n",
              " '__dir__',\n",
              " '__doc__',\n",
              " '__eq__',\n",
              " '__format__',\n",
              " '__ge__',\n",
              " '__getattribute__',\n",
              " '__getitem__',\n",
              " '__getnewargs__',\n",
              " '__gt__',\n",
              " '__hash__',\n",
              " '__init__',\n",
              " '__init_subclass__',\n",
              " '__iter__',\n",
              " '__le__',\n",
              " '__len__',\n",
              " '__lt__',\n",
              " '__mod__',\n",
              " '__mul__',\n",
              " '__ne__',\n",
              " '__new__',\n",
              " '__reduce__',\n",
              " '__reduce_ex__',\n",
              " '__repr__',\n",
              " '__rmod__',\n",
              " '__rmul__',\n",
              " '__setattr__',\n",
              " '__sizeof__',\n",
              " '__str__',\n",
              " '__subclasshook__',\n",
              " 'capitalize',\n",
              " 'casefold',\n",
              " 'center',\n",
              " 'count',\n",
              " 'encode',\n",
              " 'endswith',\n",
              " 'expandtabs',\n",
              " 'find',\n",
              " 'format',\n",
              " 'format_map',\n",
              " 'index',\n",
              " 'isalnum',\n",
              " 'isalpha',\n",
              " 'isascii',\n",
              " 'isdecimal',\n",
              " 'isdigit',\n",
              " 'isidentifier',\n",
              " 'islower',\n",
              " 'isnumeric',\n",
              " 'isprintable',\n",
              " 'isspace',\n",
              " 'istitle',\n",
              " 'isupper',\n",
              " 'join',\n",
              " 'ljust',\n",
              " 'lower',\n",
              " 'lstrip',\n",
              " 'maketrans',\n",
              " 'partition',\n",
              " 'replace',\n",
              " 'rfind',\n",
              " 'rindex',\n",
              " 'rjust',\n",
              " 'rpartition',\n",
              " 'rsplit',\n",
              " 'rstrip',\n",
              " 'split',\n",
              " 'splitlines',\n",
              " 'startswith',\n",
              " 'strip',\n",
              " 'swapcase',\n",
              " 'title',\n",
              " 'translate',\n",
              " 'upper',\n",
              " 'zfill']"
            ]
          },
          "metadata": {},
          "execution_count": 114
        }
      ]
    },
    {
      "cell_type": "code",
      "execution_count": null,
      "metadata": {
        "id": "ELtIvIIFynYF"
      },
      "outputs": [],
      "source": [
        "# Sometimes you want to write stub for a function\n",
        "# before you complete your code\n",
        "\n",
        "def new_function(x, y):\n",
        "  \"\"\"Here is what this function does\"\"\"\n",
        "  pass\n",
        "  #return 0\n",
        "  #raise NotImplementedError\n"
      ]
    },
    {
      "cell_type": "code",
      "execution_count": null,
      "metadata": {
        "colab": {
          "base_uri": "https://localhost:8080/"
        },
        "id": "848R03bWe7D3",
        "outputId": "9bc6647f-b0e0-4879-c0c3-1698c506e296"
      },
      "outputs": [
        {
          "output_type": "stream",
          "name": "stdout",
          "text": [
            "Help on function new_function in module __main__:\n",
            "\n",
            "new_function(x, y)\n",
            "    Here is what this function does\n",
            "\n"
          ]
        }
      ],
      "source": [
        "help(new_function)"
      ]
    },
    {
      "cell_type": "markdown",
      "metadata": {
        "id": "hfyBXgZzyuEF"
      },
      "source": [
        "More:\n",
        "\n",
        "- keyword arguments\n",
        "- docstings\n",
        "- naming\n",
        "- refactoring\n",
        "- pseudocode\n",
        "- lambda (nameless) functions"
      ]
    },
    {
      "cell_type": "markdown",
      "source": [
        "### Think of creating your own function (homework)\n",
        "\n",
        "A function encapsulates some code to be reused. This assignment is to write a small function that is useful for some operations or calculations.\n",
        "\n",
        "Checklist:\n",
        "\n",
        "- idea of calculation\n",
        "- function name\n",
        "- list of arguments and their type    \n",
        "- what does it return?\n",
        "- how to check (with assert)\n",
        "- simple, easy to implement\n",
        "- extra: What is a good doctring for this  function? What would a user need to know?\n",
        "\n",
        "If you are stuck:\n",
        "\n",
        "- modify some functions that inside this notebook\n",
        "- replicate some standard library funcitons\n",
        "- this of workflow or a business process\n",
        "- function that does something random\n",
        "- ... or does nothign\n",
        "\n",
        "If you are stuck with notation - write your answer in plain text.\n",
        "\n",
        "You do not have to write code for the function now, but good if you tried something and pointed what do you lack to get to next step."
      ],
      "metadata": {
        "id": "mxUIItoCxQKH"
      }
    },
    {
      "cell_type": "code",
      "source": [
        "# think of other funcitions:\n",
        "\n",
        "def absolute_value(x):\n",
        "  \"\"\"This is equivalent of abs().\"\"\" # will show in help\n",
        "  if x >= 0:\n",
        "    return x\n",
        "  else:\n",
        "    return -x\n"
      ],
      "metadata": {
        "id": "CFrazewUZG99"
      },
      "execution_count": null,
      "outputs": []
    },
    {
      "cell_type": "markdown",
      "metadata": {
        "id": "I9Lmz6k6aVtk"
      },
      "source": [
        "# Built-in Python functions and keywords"
      ]
    },
    {
      "cell_type": "markdown",
      "metadata": {
        "id": "zYqDm8Fqfj62"
      },
      "source": [
        "## Keywords"
      ]
    },
    {
      "cell_type": "code",
      "execution_count": null,
      "metadata": {
        "colab": {
          "base_uri": "https://localhost:8080/"
        },
        "id": "we9_RXS8fs5w",
        "outputId": "77afc513-a6ec-42ad-8703-aecbe0f7aa3e"
      },
      "outputs": [
        {
          "output_type": "stream",
          "name": "stdout",
          "text": [
            "False\n",
            "None\n",
            "True\n",
            "and\n",
            "as\n",
            "assert\n",
            "async\n",
            "await\n",
            "break\n",
            "class\n",
            "continue\n",
            "def\n",
            "del\n",
            "elif\n",
            "else\n",
            "except\n",
            "finally\n",
            "for\n",
            "from\n",
            "global\n",
            "if\n",
            "import\n",
            "in\n",
            "is\n",
            "lambda\n",
            "nonlocal\n",
            "not\n",
            "or\n",
            "pass\n",
            "raise\n",
            "return\n",
            "try\n",
            "while\n",
            "with\n",
            "yield\n"
          ]
        }
      ],
      "source": [
        "import keyword\n",
        "\n",
        "for kw in keyword.kwlist:\n",
        "  print(kw)"
      ]
    },
    {
      "cell_type": "code",
      "execution_count": null,
      "metadata": {
        "colab": {
          "base_uri": "https://localhost:8080/"
        },
        "id": "l-voW33ufrNJ",
        "outputId": "35394b6d-49b1-4892-cffa-adb8edb489ba"
      },
      "outputs": [
        {
          "output_type": "execute_result",
          "data": {
            "text/plain": [
              "('global', 'nonlocal')"
            ]
          },
          "metadata": {},
          "execution_count": 119
        }
      ],
      "source": [
        "# Will use:\n",
        "['False', 'True',   # boolean or logical values\n",
        " 'None',            # 'nothing', special value\n",
        " 'def',  'return'   # parts of function definition\n",
        " 'for',             # loops / cycles / iteration\n",
        " 'if', 'elif', 'else',   # choice, logic opertor\n",
        " 'and', 'or', 'not',     # logical opertions\n",
        " 'in',                   # membership\n",
        " 'import', 'from',  'as' # import/connect to a module\n",
        "]\n",
        "\n",
        "# Maybe use:\n",
        "'class', # create a new class\n",
        "'with',  # context manager\n",
        "'is', # equivalence to object\n",
        "'raise', # exceptions\n",
        "'assert', # raise exception if wrong\n",
        "'pass' # do nothing\n",
        "'del', # delete something\n",
        "\n",
        "# Not likely to use:\n",
        "\n",
        "'while', 'break', 'continue', # more loops\n",
        "'try', 'except', 'finally', # exception handling\n",
        "'lambda', # nameless function\n",
        "'async', 'await',  # async code\n",
        "'yield' # generator\n",
        "'global', 'nonlocal', # quite rare"
      ]
    },
    {
      "cell_type": "markdown",
      "metadata": {
        "id": "uK-_-E8dfnHW"
      },
      "source": [
        "## Built-in functions"
      ]
    },
    {
      "cell_type": "markdown",
      "source": [
        "Built-in fucntions: https://docs.python.org/3/library/functions.html"
      ],
      "metadata": {
        "id": "QqLGvvwfK0gy"
      }
    },
    {
      "cell_type": "markdown",
      "metadata": {
        "id": "u4_IAoqUgwFr"
      },
      "source": [
        "\n",
        "![изображение.png](data:image/png;base64,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)"
      ]
    },
    {
      "cell_type": "code",
      "source": [
        "str(2.5)"
      ],
      "metadata": {
        "colab": {
          "base_uri": "https://localhost:8080/",
          "height": 36
        },
        "id": "uxANxpRkEP5y",
        "outputId": "5bd44e50-b8a4-4b8a-9cbb-630fe2a9eda9"
      },
      "execution_count": null,
      "outputs": [
        {
          "output_type": "execute_result",
          "data": {
            "text/plain": [
              "'2.5'"
            ],
            "application/vnd.google.colaboratory.intrinsic+json": {
              "type": "string"
            }
          },
          "metadata": {},
          "execution_count": 120
        }
      ]
    },
    {
      "cell_type": "code",
      "source": [
        "# Some grouping\n",
        "# type constructors\n",
        "int()\n",
        "list()\n",
        "bool()\n",
        "float()\n",
        "set()\n",
        "dict()\n",
        "str()\n",
        "tuple()\n",
        "\n",
        "# string\n",
        "chr()\n",
        "ord()\n",
        "\n",
        "# numbers\n",
        "abs()\n",
        "round()\n",
        "pow()\n",
        "\n",
        "# works on iterable (e.g. list)\n",
        "all()\n",
        "any()\n",
        "len()\n",
        "max()\n",
        "min()\n",
        "reversed()\n",
        "sorted()\n",
        "sum()\n",
        "\n",
        "# create sequences()\n",
        "enumerate()\n",
        "range()\n",
        "zip()\n",
        "\n",
        "# functional programming\n",
        "map()\n",
        "filter()\n",
        "\n",
        "# learn about something\n",
        "dir()\n",
        "id()\n",
        "help()\n",
        "repr()\n",
        "\n",
        "# checking types\n",
        "isinstance()\n",
        "type()\n",
        "\n",
        "# communicate to outer world\n",
        "input()\n",
        "open()\n",
        "print()\n",
        "breakpoint()"
      ],
      "metadata": {
        "id": "7C_XniAHF27F",
        "colab": {
          "base_uri": "https://localhost:8080/",
          "height": 244
        },
        "outputId": "6e985cc9-e814-4bff-a129-b9d6bb0e54c6"
      },
      "execution_count": null,
      "outputs": [
        {
          "output_type": "error",
          "ename": "TypeError",
          "evalue": "ignored",
          "traceback": [
            "\u001b[0;31m---------------------------------------------------------------------------\u001b[0m",
            "\u001b[0;31mTypeError\u001b[0m                                 Traceback (most recent call last)",
            "\u001b[0;32m<ipython-input-121-f799ab514b23>\u001b[0m in \u001b[0;36m<module>\u001b[0;34m\u001b[0m\n\u001b[1;32m     11\u001b[0m \u001b[0;34m\u001b[0m\u001b[0m\n\u001b[1;32m     12\u001b[0m \u001b[0;31m# string\u001b[0m\u001b[0;34m\u001b[0m\u001b[0;34m\u001b[0m\u001b[0;34m\u001b[0m\u001b[0m\n\u001b[0;32m---> 13\u001b[0;31m \u001b[0mchr\u001b[0m\u001b[0;34m(\u001b[0m\u001b[0;34m)\u001b[0m\u001b[0;34m\u001b[0m\u001b[0;34m\u001b[0m\u001b[0m\n\u001b[0m\u001b[1;32m     14\u001b[0m \u001b[0mord\u001b[0m\u001b[0;34m(\u001b[0m\u001b[0;34m)\u001b[0m\u001b[0;34m\u001b[0m\u001b[0;34m\u001b[0m\u001b[0m\n\u001b[1;32m     15\u001b[0m \u001b[0;34m\u001b[0m\u001b[0m\n",
            "\u001b[0;31mTypeError\u001b[0m: chr() takes exactly one argument (0 given)"
          ]
        }
      ]
    },
    {
      "cell_type": "code",
      "source": [],
      "metadata": {
        "id": "tO7z-FExJhdW"
      },
      "execution_count": null,
      "outputs": []
    },
    {
      "cell_type": "code",
      "source": [
        "chr(ord(\"a\"))\n"
      ],
      "metadata": {
        "colab": {
          "base_uri": "https://localhost:8080/",
          "height": 36
        },
        "id": "itlw1i-uIu16",
        "outputId": "8581fae2-6c9c-4bea-d222-6e975a613b1e"
      },
      "execution_count": null,
      "outputs": [
        {
          "output_type": "execute_result",
          "data": {
            "text/plain": [
              "'a'"
            ],
            "application/vnd.google.colaboratory.intrinsic+json": {
              "type": "string"
            }
          },
          "metadata": {},
          "execution_count": 11
        }
      ]
    },
    {
      "cell_type": "markdown",
      "metadata": {
        "id": "Xqi4P39shIjt"
      },
      "source": [
        "https://docs.python.org/3/library/functions.html"
      ]
    },
    {
      "cell_type": "markdown",
      "metadata": {
        "id": "9U9YUMYghLiH"
      },
      "source": [
        "- Group 1. Familiar and intuitive, ok to use\n",
        "- Group 2. Maybe will use them\n",
        "- Group 3. Opaque or rare"
      ]
    },
    {
      "cell_type": "markdown",
      "source": [
        "## What if we see...\n",
        "\n",
        "- `()` - (round) parentheses\n",
        "- `[]` - (square) brackets\n",
        "- `{}` - curly braces\n",
        "\n",
        "Then it is:\n",
        "\n",
        "- a list `xs[5]`\n",
        "- dictionary `person[\"name\"]`\n",
        "- function call `g()`\n",
        "- delimiter expression `(1+1)*2`\n",
        "- set `{1, 2}`\n",
        "\n",
        "\n",
        "\n"
      ],
      "metadata": {
        "id": "iTIVux4BLfj7"
      }
    },
    {
      "cell_type": "code",
      "source": [],
      "metadata": {
        "id": "TNf097WMFP0U"
      },
      "execution_count": null,
      "outputs": []
    },
    {
      "cell_type": "markdown",
      "metadata": {
        "id": "Zjg26ESPQ9fV"
      },
      "source": [
        "# Practice tasks"
      ]
    },
    {
      "cell_type": "markdown",
      "metadata": {
        "id": "V3kwzXLETRyn"
      },
      "source": [
        "## Student list\n",
        "\n",
        "Imagine we wanted a unique identifers for students in out class.\n",
        "\n",
        "We want to take attendace by date.\n",
        "\n",
        "We also want to give students great grades by the end of the class.\n",
        "\n",
        "We need unique identifiers - should they be\n",
        "\n",
        "The records must be handled in English."
      ]
    },
    {
      "cell_type": "code",
      "execution_count": null,
      "metadata": {
        "id": "VMqdUTGU9C6p"
      },
      "outputs": [],
      "source": [
        "text = \"\"\"Андреева Анна Владимировна\n",
        "Ахунова Анастасия Владиславовна\n",
        "Байбурова Лана Камиловна\n",
        "Басенко Николай Алексеевич\n",
        "Володько Никита Дмитриевич\n",
        "Волоховский Глеб Всеволодович\n",
        "Грицук Олег Александрович\n",
        "Жаронкина Дарья Владимировна\n",
        "Жданова Мария Игоревна\n",
        "Жиляева Кристина Сергеевна\n",
        "Зайцева Арина Владиславовна\n",
        "Ильчук Алиса Игоревна\n",
        "Каневская Полина Александровна\n",
        "Карабаев Егор Евгеньевич\n",
        "Кацанова Дзерасса Анатольевна\n",
        "Клименко Максим Сергеевич\n",
        "Ливинцева Вероника Николаевна\n",
        "Литинская Наталия Александровна\n",
        "Локостов Артем Денисович\n",
        "Масюк Наталия Романовна\n",
        "Мошкина Полина Андреевна\n",
        "Нгуен Тхюи Зыонг -\n",
        "Орлов Демид Денисович\n",
        "Поломошнова Мария Артемовна\n",
        "Семенова Алина Павловна\n",
        "Сидельников Платон Павлович\n",
        "Симонова Екатерина Андреевна\n",
        "Степанова Екатерина Владимировна\n",
        "Тимофеев Александр Валерьевич\n",
        "Тимофеева Мария Сергеевна\n",
        "Фадеева Вероника Денисовна\n",
        "Фам Тху Чанг -\n",
        "Федорова Ольга Алексеевна\n",
        "Хожай Евгения Алексеевна\n",
        "Шальнов Михаил Николаевич\n",
        "Щербина Андрей Романович\n",
        "\"\"\""
      ]
    },
    {
      "cell_type": "code",
      "execution_count": null,
      "metadata": {
        "id": "cJzKFwv6SUE2"
      },
      "outputs": [],
      "source": [
        "# transliteration is mapping of one set letters to another\n",
        "RU_TO_LATIN_DICT = {\n",
        "    \"а\": \"a\",\n",
        "    \"б\": \"b\",\n",
        "    \"в\": \"v\",\n",
        "    \"г\": \"g\",\n",
        "    \"д\": \"d\",\n",
        "    \"е\": \"e\",\n",
        "    \"ё\": \"yo\",\n",
        "    \"ж\": \"j\",\n",
        "    \"з\": \"z\",\n",
        "    \"и\": \"i\",\n",
        "    \"й\": \"j\",\n",
        "    \"к\": \"k\",\n",
        "    \"л\": \"l\",\n",
        "    \"м\": \"m\",\n",
        "    \"н\": \"n\",\n",
        "    \"о\": \"o\",\n",
        "    \"п\": \"p\",\n",
        "    \"р\": \"r\",\n",
        "    \"с\": \"s\",\n",
        "    \"т\": \"t\",\n",
        "    \"у\": \"u\",\n",
        "    \"ф\": \"f\",\n",
        "    \"х\": \"h\", # do differently?\n",
        "    \"ц\": \"ts\",\n",
        "    \"ч\": \"ch\",\n",
        "    \"ш\": \"sh\",\n",
        "    \"щ\": \"sz\",\n",
        "    \"ъ\": \"''\",\n",
        "    \"ы\": \"y\",\n",
        "    \"ь\": \"'\",  # do differently?\n",
        "    \"э\": \"e\",\n",
        "    \"ю\": \"ju\",\n",
        "    \"я\": \"ya\",\n",
        "}\n",
        "\n",
        "def is_upper(letter):\n",
        "  return letter.upper() == letter\n",
        "\n",
        "\n",
        "def to_latin_one(ru_letter):\n",
        "  \"\"\"Convert one letter to latin\"\"\"\n",
        "  key = ru_letter.lower()\n",
        "  try:\n",
        "    new_letter = RU_TO_LATIN_DICT[key]\n",
        "  except KeyError:\n",
        "    new_letter = key\n",
        "  if is_upper(ru_letter):\n",
        "    new_letter = new_letter.capitalize()\n",
        "  return new_letter\n",
        "\n",
        "\n",
        "def to_latin(text):\n",
        "  \"\"\"Convert text to latin\"\"\"\n",
        "  res = \"\"\n",
        "  for t in text:\n",
        "    res += to_latin_one(t)\n",
        "  return res"
      ]
    },
    {
      "cell_type": "code",
      "execution_count": null,
      "metadata": {
        "colab": {
          "base_uri": "https://localhost:8080/",
          "height": 35
        },
        "id": "ICSipDLctl9O",
        "outputId": "b36f0d80-7160-4774-9e07-3b03b34e39c3"
      },
      "outputs": [
        {
          "output_type": "execute_result",
          "data": {
            "text/plain": [
              "\"Salihov Marsel'\""
            ],
            "application/vnd.google.colaboratory.intrinsic+json": {
              "type": "string"
            }
          },
          "metadata": {},
          "execution_count": 12
        }
      ],
      "source": [
        "to_latin(\"Салихов Марсель\")"
      ]
    },
    {
      "cell_type": "code",
      "execution_count": null,
      "metadata": {
        "colab": {
          "base_uri": "https://localhost:8080/"
        },
        "id": "p3ez7JwvQFnZ",
        "outputId": "e46a5025-29fb-4672-d417-5e2fd975095c"
      },
      "outputs": [
        {
          "output_type": "execute_result",
          "data": {
            "text/plain": [
              "[['Andreeva', 'Anna', 'Vladimirovna'],\n",
              " ['Ahunova', 'Anastasiya', 'Vladislavovna'],\n",
              " ['Bajburova', 'Lana', 'Kamilovna'],\n",
              " ['Basenko', 'Nikolaj', 'Alekseevich'],\n",
              " [\"Volod'ko\", 'Nikita', 'Dmitrievich'],\n",
              " ['Volohovskij', 'Gleb', 'Vsevolodovich'],\n",
              " ['Gritsuk', 'Oleg', 'Aleksandrovich'],\n",
              " ['Jaronkina', \"Dar'ya\", 'Vladimirovna'],\n",
              " ['Jdanova', 'Mariya', 'Igorevna'],\n",
              " ['Jilyaeva', 'Kristina', 'Sergeevna'],\n",
              " ['Zajtseva', 'Arina', 'Vladislavovna'],\n",
              " [\"Il'chuk\", 'Alisa', 'Igorevna'],\n",
              " ['Kanevskaya', 'Polina', 'Aleksandrovna'],\n",
              " ['Karabaev', 'Egor', \"Evgen'evich\"],\n",
              " ['Katsanova', 'Dzerassa', \"Anatol'evna\"],\n",
              " ['Klimenko', 'Maksim', 'Sergeevich'],\n",
              " ['Livintseva', 'Veronika', 'Nikolaevna'],\n",
              " ['Litinskaya', 'Nataliya', 'Aleksandrovna'],\n",
              " ['Lokostov', 'Artem', 'Denisovich'],\n",
              " ['Masjuk', 'Nataliya', 'Romanovna'],\n",
              " ['Moshkina', 'Polina', 'Andreevna'],\n",
              " ['Nguen', 'Thjui', 'Zyong', '-'],\n",
              " ['Orlov', 'Demid', 'Denisovich'],\n",
              " ['Polomoshnova', 'Mariya', 'Artemovna'],\n",
              " ['Semenova', 'Alina', 'Pavlovna'],\n",
              " [\"Sidel'nikov\", 'Platon', 'Pavlovich'],\n",
              " ['Simonova', 'Ekaterina', 'Andreevna'],\n",
              " ['Stepanova', 'Ekaterina', 'Vladimirovna'],\n",
              " ['Timofeev', 'Aleksandr', \"Valer'evich\"],\n",
              " ['Timofeeva', 'Mariya', 'Sergeevna'],\n",
              " ['Fadeeva', 'Veronika', 'Denisovna'],\n",
              " ['Fam', 'Thu', 'Chang', '-'],\n",
              " ['Fedorova', \"Ol'ga\", 'Alekseevna'],\n",
              " ['Hojaj', 'Evgeniya', 'Alekseevna'],\n",
              " [\"Shal'nov\", 'Mihail', 'Nikolaevich'],\n",
              " ['Szerbina', 'Andrej', 'Romanovich'],\n",
              " ['']]"
            ]
          },
          "metadata": {},
          "execution_count": 32
        }
      ],
      "source": [
        "# names_list is a list of 2 or 3 element lists\n",
        "names_list = [x.split(\" \") for x in to_latin(text).split(\"\\n\")]\n",
        "names_list"
      ]
    },
    {
      "cell_type": "code",
      "source": [
        "names_list[0]"
      ],
      "metadata": {
        "colab": {
          "base_uri": "https://localhost:8080/"
        },
        "id": "bXvRrwSRyyeh",
        "outputId": "b15cf250-ba9a-4da6-92e6-8726ffb2a590"
      },
      "execution_count": null,
      "outputs": [
        {
          "output_type": "execute_result",
          "data": {
            "text/plain": [
              "['Andreeva', 'Anna', 'Vladimirovna']"
            ]
          },
          "metadata": {},
          "execution_count": 29
        }
      ]
    },
    {
      "cell_type": "code",
      "source": [
        "[name[1] for name in names_list]"
      ],
      "metadata": {
        "colab": {
          "base_uri": "https://localhost:8080/",
          "height": 230
        },
        "id": "AuARhThswt4o",
        "outputId": "fb366c45-f352-4eb2-ad39-f6eaac529a0e"
      },
      "execution_count": null,
      "outputs": [
        {
          "output_type": "error",
          "ename": "IndexError",
          "evalue": "ignored",
          "traceback": [
            "\u001b[0;31m---------------------------------------------------------------------------\u001b[0m",
            "\u001b[0;31mIndexError\u001b[0m                                Traceback (most recent call last)",
            "\u001b[0;32m<ipython-input-31-b2b66393a016>\u001b[0m in \u001b[0;36m<cell line: 1>\u001b[0;34m()\u001b[0m\n\u001b[0;32m----> 1\u001b[0;31m \u001b[0;34m[\u001b[0m\u001b[0mname\u001b[0m\u001b[0;34m[\u001b[0m\u001b[0;36m1\u001b[0m\u001b[0;34m]\u001b[0m \u001b[0;32mfor\u001b[0m \u001b[0mname\u001b[0m \u001b[0;32min\u001b[0m \u001b[0mnames_list\u001b[0m\u001b[0;34m]\u001b[0m\u001b[0;34m\u001b[0m\u001b[0;34m\u001b[0m\u001b[0m\n\u001b[0m",
            "\u001b[0;32m<ipython-input-31-b2b66393a016>\u001b[0m in \u001b[0;36m<listcomp>\u001b[0;34m(.0)\u001b[0m\n\u001b[0;32m----> 1\u001b[0;31m \u001b[0;34m[\u001b[0m\u001b[0mname\u001b[0m\u001b[0;34m[\u001b[0m\u001b[0;36m1\u001b[0m\u001b[0;34m]\u001b[0m \u001b[0;32mfor\u001b[0m \u001b[0mname\u001b[0m \u001b[0;32min\u001b[0m \u001b[0mnames_list\u001b[0m\u001b[0;34m]\u001b[0m\u001b[0;34m\u001b[0m\u001b[0;34m\u001b[0m\u001b[0m\n\u001b[0m",
            "\u001b[0;31mIndexError\u001b[0m: list index out of range"
          ]
        }
      ]
    },
    {
      "cell_type": "code",
      "execution_count": null,
      "metadata": {
        "colab": {
          "base_uri": "https://localhost:8080/"
        },
        "id": "bEIC8HFKZZUf",
        "outputId": "207f2922-16d5-495d-ce6d-7ca99dbe7fdd"
      },
      "outputs": [
        {
          "output_type": "execute_result",
          "data": {
            "text/plain": [
              "True"
            ]
          },
          "metadata": {},
          "execution_count": 33
        }
      ],
      "source": [
        "# are last names unique?\n",
        "is_unique([name[0] for name in names_list])"
      ]
    },
    {
      "cell_type": "code",
      "execution_count": null,
      "metadata": {
        "colab": {
          "base_uri": "https://localhost:8080/"
        },
        "id": "144X0BycZsZ1",
        "outputId": "5c3997f6-f1ee-4255-a4fc-9d88ed1899ff"
      },
      "outputs": [
        {
          "output_type": "execute_result",
          "data": {
            "text/plain": [
              "True"
            ]
          },
          "metadata": {},
          "execution_count": 35
        }
      ],
      "source": [
        "# are first names unique?\n",
        "is_unique([name[0] for name in names_list])"
      ]
    },
    {
      "cell_type": "code",
      "execution_count": null,
      "metadata": {
        "id": "yhjVwGTRaGEu"
      },
      "outputs": [],
      "source": [
        "# which first names are repeated?\n",
        "first_names = [name[0] for name in names_list]"
      ]
    },
    {
      "cell_type": "code",
      "execution_count": null,
      "metadata": {
        "colab": {
          "base_uri": "https://localhost:8080/"
        },
        "id": "MPNuTaj4ZxFn",
        "outputId": "b3d23692-cbea-49bc-87ba-2ecacd3f2663"
      },
      "outputs": [
        {
          "output_type": "execute_result",
          "data": {
            "text/plain": [
              "{'Veronika': 2,\n",
              " 'Mariya': 2,\n",
              " 'Kseniya': 2,\n",
              " 'Artyom': 4,\n",
              " 'Gleb': 2,\n",
              " 'Anna': 2,\n",
              " \"Il'ya\": 2,\n",
              " 'Elizaveta': 2}"
            ]
          },
          "metadata": {},
          "execution_count": 120
        }
      ],
      "source": [
        "counter = {name: 0 for name in first_names}\n",
        "for name in first_names:\n",
        "  counter[name] += 1\n",
        "{k:v for k,v in counter.items() if v > 1}"
      ]
    },
    {
      "cell_type": "code",
      "execution_count": null,
      "metadata": {
        "colab": {
          "base_uri": "https://localhost:8080/"
        },
        "id": "vGuPKo-Ca1ef",
        "outputId": "9aa21f54-9b70-482e-c39d-4ae55be3ea3a"
      },
      "outputs": [
        {
          "output_type": "stream",
          "name": "stdout",
          "text": [
            "АП\n"
          ]
        }
      ],
      "source": [
        "def initials_2(name_tuple):\n",
        "  return name_tuple[1][0] + name_tuple[0][0]\n",
        "\n",
        "def initials_3(name_tuple):\n",
        "  return name_tuple[1][0] + name_tuple[0][0:2]\n",
        "\n",
        "print(initials_2(['Пушкин', 'Александр', 'Сергеевич']))\n"
      ]
    },
    {
      "cell_type": "code",
      "execution_count": null,
      "metadata": {
        "colab": {
          "base_uri": "https://localhost:8080/"
        },
        "id": "sKNA2OHzcJI4",
        "outputId": "0040439a-54cf-4296-c320-88b966ea2b68"
      },
      "outputs": [
        {
          "output_type": "execute_result",
          "data": {
            "text/plain": [
              "False"
            ]
          },
          "metadata": {},
          "execution_count": 39
        }
      ],
      "source": [
        "is_unique([initials_2(name) for name in names])"
      ]
    },
    {
      "cell_type": "code",
      "execution_count": null,
      "metadata": {
        "colab": {
          "base_uri": "https://localhost:8080/"
        },
        "id": "NY37St8Fcd9Y",
        "outputId": "6b9a1cb2-aafd-42a0-8d22-3ba5b93b70f5"
      },
      "outputs": [
        {
          "output_type": "execute_result",
          "data": {
            "text/plain": [
              "False"
            ]
          },
          "metadata": {},
          "execution_count": 40
        }
      ],
      "source": [
        "is_unique([initials_3(name) for name in names])"
      ]
    },
    {
      "cell_type": "code",
      "execution_count": null,
      "metadata": {
        "colab": {
          "base_uri": "https://localhost:8080/"
        },
        "id": "97nnQZ9QcgOq",
        "outputId": "2761cb18-4765-40c6-a45b-9aaedaaae900"
      },
      "outputs": [
        {
          "output_type": "execute_result",
          "data": {
            "text/plain": [
              "['Andreeva',\n",
              " 'Ahunova',\n",
              " 'Bajburova',\n",
              " 'Basenko',\n",
              " \"Volod'ko\",\n",
              " 'Volohovskij',\n",
              " 'Gritsuk',\n",
              " 'Jaronkina',\n",
              " 'Jdanova',\n",
              " 'Jilyaeva',\n",
              " 'Zajtseva',\n",
              " \"Il'chuk\",\n",
              " 'Kanevskaya',\n",
              " 'Karabaev',\n",
              " 'Katsanova',\n",
              " 'Klimenko',\n",
              " 'Livintseva',\n",
              " 'Litinskaya',\n",
              " 'Lokostov',\n",
              " 'Masjuk',\n",
              " 'Moshkina',\n",
              " 'Nguen',\n",
              " 'Orlov',\n",
              " 'Polomoshnova',\n",
              " 'Semenova',\n",
              " \"Sidel'nikov\",\n",
              " 'Simonova',\n",
              " 'Stepanova',\n",
              " 'Timofeev',\n",
              " 'Timofeeva',\n",
              " 'Fadeeva',\n",
              " 'Fam',\n",
              " 'Fedorova',\n",
              " 'Hojaj',\n",
              " \"Shal'nov\",\n",
              " 'Szerbina',\n",
              " '']"
            ]
          },
          "metadata": {},
          "execution_count": 41
        }
      ],
      "source": [
        "# But how should we reference people?\n",
        "# Probably by last name\n",
        "family_names = [name[0] for name in names_list]\n",
        "\n",
        "family_names"
      ]
    },
    {
      "cell_type": "code",
      "execution_count": null,
      "metadata": {
        "id": "gI8NrrCugu5W"
      },
      "outputs": [],
      "source": [
        "attended = {\n",
        "  \"2023-09-07\": ['Lokostov', 'Polomoshnova', 'Kanevskaya', 'Ahunova']\n",
        "}"
      ]
    },
    {
      "cell_type": "code",
      "execution_count": null,
      "metadata": {
        "colab": {
          "base_uri": "https://localhost:8080/"
        },
        "id": "Tf4Ht9MsjNat",
        "outputId": "749595eb-64a0-4015-8293-e56fc3ab3083"
      },
      "outputs": [
        {
          "output_type": "execute_result",
          "data": {
            "text/plain": [
              "{'Lokostov': 100, 'Polomoshnova': 100, 'Kanevskaya': 100, 'Ahunova': 100}"
            ]
          },
          "metadata": {},
          "execution_count": 43
        }
      ],
      "source": [
        "# great grades\n",
        "{name: 100 for name in attended[\"2023-09-07\"]}"
      ]
    },
    {
      "cell_type": "markdown",
      "source": [
        "## Toy blockchain\n",
        "\n",
        "https://colab.research.google.com/drive/1OLb19MIYDzJLsMQux7nL4v16aLO-bU71"
      ],
      "metadata": {
        "id": "NqHZbTMNdDfZ"
      }
    },
    {
      "cell_type": "markdown",
      "metadata": {
        "id": "ocgc8Wc7dFF8"
      },
      "source": [
        "## My stock portfolio"
      ]
    },
    {
      "cell_type": "markdown",
      "metadata": {
        "id": "i6uWwxFnd9DF"
      },
      "source": [
        "An investor has initial amount of  `start_cash` USD. She can buy and sell various assets. A snapshop of market prices is given.\n",
        "\n",
        "Provide a prototype for a system that will:\n",
        "\n",
        "- track composition of a portfolio\n",
        "- value of portfolio at market prices\n",
        "- make changes in portfolio\n",
        "\n"
      ]
    },
    {
      "cell_type": "markdown",
      "metadata": {
        "id": "IcsjOk_IdMQ_"
      },
      "source": [
        "## NPV of cashflows\n",
        "\n",
        "Using pure python calculate net present value of annual cashflows given a discount factor."
      ]
    },
    {
      "cell_type": "code",
      "execution_count": null,
      "metadata": {
        "colab": {
          "base_uri": "https://localhost:8080/"
        },
        "id": "suKAIMBXskOR",
        "outputId": "09a83f7e-2a6f-4db2-d196-cee19b3df2a7"
      },
      "outputs": [
        {
          "output_type": "execute_result",
          "data": {
            "text/plain": [
              "20"
            ]
          },
          "metadata": {},
          "execution_count": 127
        }
      ],
      "source": [
        "r = 0.12\n",
        "cashflows = [-100, 40, 40, 0, 40]\n",
        "\n",
        "#if npv(r, cashflows) > 0:\n",
        "#  print(\"I take it!\")\n",
        "\n",
        "sum(cashflows)"
      ]
    },
    {
      "cell_type": "code",
      "source": [
        "res = []\n",
        "res = res + [1]\n",
        "res.append(2)\n",
        "res.append(10)\n",
        "res"
      ],
      "metadata": {
        "colab": {
          "base_uri": "https://localhost:8080/"
        },
        "id": "XhpcCsqg-yBk",
        "outputId": "509bc792-4aa1-43f8-b03a-9b73f01e4382"
      },
      "execution_count": null,
      "outputs": [
        {
          "output_type": "execute_result",
          "data": {
            "text/plain": [
              "[1, 2, 10]"
            ]
          },
          "metadata": {},
          "execution_count": 154
        }
      ]
    },
    {
      "cell_type": "code",
      "execution_count": null,
      "metadata": {
        "colab": {
          "base_uri": "https://localhost:8080/"
        },
        "id": "eftNb0y2dgGM",
        "outputId": "90a05d6e-4129-42f4-f7fa-9600abfe4505"
      },
      "outputs": [
        {
          "output_type": "stream",
          "name": "stdout",
          "text": [
            "cf = -100 t = 0\n",
            "cf = 40 t = 1\n",
            "cf = 40 t = 2\n",
            "cf = 0 t = 3\n",
            "cf = 40 t = 4\n",
            "Pure sum is 20\n",
            "NPV at 12.0% is -6.9772\n"
          ]
        }
      ],
      "source": [
        "# Let's try first calculation:\n",
        "\n",
        "t = 0\n",
        "discounted = []\n",
        "for cf in cashflows:\n",
        "  print(\"cf =\", cf, \"t =\",  t)\n",
        "  discount_factor = 1 / (1 + r) ** t\n",
        "  x = cf * discount_factor\n",
        "  discounted.append(x)\n",
        "  t = t + 1\n",
        "npv = round(sum(discounted), 4)\n",
        "print(\"Pure sum is\", sum(cashflows))\n",
        "print(f\"NPV at {r*100}% is\", npv)"
      ]
    },
    {
      "cell_type": "code",
      "source": [
        "discounted"
      ],
      "metadata": {
        "colab": {
          "base_uri": "https://localhost:8080/"
        },
        "id": "-I1Dygj7-X8V",
        "outputId": "1d7886cf-3929-426e-de0b-9dc994867f6a"
      },
      "execution_count": null,
      "outputs": [
        {
          "output_type": "execute_result",
          "data": {
            "text/plain": [
              "[-100.0, 35.71428571428571, 31.887755102040813, 0.0, 25.420723136193246]"
            ]
          },
          "metadata": {},
          "execution_count": 130
        }
      ]
    },
    {
      "cell_type": "code",
      "execution_count": null,
      "metadata": {
        "id": "3Rb5i31x0gXK",
        "colab": {
          "base_uri": "https://localhost:8080/",
          "height": 203
        },
        "outputId": "21a78ba4-cc5a-4679-c322-91f36332e359"
      },
      "outputs": [
        {
          "output_type": "error",
          "ename": "AssertionError",
          "evalue": "ignored",
          "traceback": [
            "\u001b[0;31m---------------------------------------------------------------------------\u001b[0m",
            "\u001b[0;31mAssertionError\u001b[0m                            Traceback (most recent call last)",
            "\u001b[0;32m<ipython-input-135-77a74a04c79a>\u001b[0m in \u001b[0;36m<module>\u001b[0;34m\u001b[0m\n\u001b[1;32m      2\u001b[0m   \u001b[0;32mreturn\u001b[0m \u001b[0;36m1\u001b[0m \u001b[0;34m/\u001b[0m \u001b[0;34m(\u001b[0m\u001b[0;36m1\u001b[0m \u001b[0;34m+\u001b[0m \u001b[0mr\u001b[0m\u001b[0;34m)\u001b[0m \u001b[0;34m**\u001b[0m \u001b[0mt\u001b[0m\u001b[0;34m\u001b[0m\u001b[0;34m\u001b[0m\u001b[0m\n\u001b[1;32m      3\u001b[0m \u001b[0;34m\u001b[0m\u001b[0m\n\u001b[0;32m----> 4\u001b[0;31m \u001b[0;32massert\u001b[0m \u001b[0mdiscount_factor\u001b[0m\u001b[0;34m(\u001b[0m\u001b[0;36m0.25\u001b[0m\u001b[0;34m,\u001b[0m \u001b[0;36m2\u001b[0m\u001b[0;34m)\u001b[0m \u001b[0;34m==\u001b[0m  \u001b[0;36m1\u001b[0m \u001b[0;34m/\u001b[0m \u001b[0;34m(\u001b[0m\u001b[0;36m1.25\u001b[0m \u001b[0;34m**\u001b[0m \u001b[0;36m2\u001b[0m\u001b[0;34m)\u001b[0m \u001b[0;34m==\u001b[0m \u001b[0;36m0.32\u001b[0m\u001b[0;34m\u001b[0m\u001b[0;34m\u001b[0m\u001b[0m\n\u001b[0m",
            "\u001b[0;31mAssertionError\u001b[0m: "
          ]
        }
      ],
      "source": [
        "def discount_factor(r, t):\n",
        "  return 1 / (1 + r) ** t\n",
        "\n",
        "#assert discount_factor(0.25, 2) ==  1 / (1.25 ** 2) == 0.2"
      ]
    },
    {
      "cell_type": "code",
      "execution_count": null,
      "metadata": {
        "colab": {
          "base_uri": "https://localhost:8080/"
        },
        "id": "QHO8Jfao1I_m",
        "outputId": "3a4da414-247d-45ba-dad8-bf2826fda7ac"
      },
      "outputs": [
        {
          "output_type": "stream",
          "name": "stdout",
          "text": [
            "0 -100\n",
            "1 40\n",
            "2 40\n",
            "3 0\n",
            "4 40\n"
          ]
        }
      ],
      "source": [
        "# use enumerate and discount_factor\n",
        "res = []\n",
        "for (t, cf) in enumerate(cashflows):\n",
        "  print(t, cf)\n",
        "  x = cf * discount_factor(r, t)\n",
        "  res.append(x)\n",
        "\n",
        "assert round(sum(res), 4) == -6.9772"
      ]
    },
    {
      "cell_type": "code",
      "execution_count": null,
      "metadata": {
        "colab": {
          "base_uri": "https://localhost:8080/"
        },
        "id": "WoOenC5dzxDu",
        "outputId": "c782050a-8362-403a-b4cd-255b458c1d38"
      },
      "outputs": [
        {
          "output_type": "execute_result",
          "data": {
            "text/plain": [
              "[-100.0, 35.71428571428571, 31.887755102040813, 0.0, 25.420723136193246]"
            ]
          },
          "metadata": {},
          "execution_count": 138
        }
      ],
      "source": [
        "# use list comp\n",
        "res = [cf * discount_factor(r, t) for (t, cf) in enumerate(cashflows)]\n",
        "assert round(sum(res), 4) == -6.9772\n",
        "res\n"
      ]
    },
    {
      "cell_type": "code",
      "execution_count": null,
      "metadata": {
        "id": "OtbMfJxkLg6n"
      },
      "outputs": [],
      "source": [
        "def npv(r, cashflows):\n",
        "  return sum([cf * pow(1+r, -t) for (t, cf) in enumerate(cashflows)])\n",
        "\n",
        "assert round(npv(r, cashflows), 4) == -6.9772"
      ]
    },
    {
      "cell_type": "code",
      "execution_count": null,
      "metadata": {
        "id": "38-e672qrM_r",
        "colab": {
          "base_uri": "https://localhost:8080/"
        },
        "outputId": "c3de96ff-2ebd-4042-8c49-960692acde7b"
      },
      "outputs": [
        {
          "output_type": "execute_result",
          "data": {
            "text/plain": [
              "[-100.0, 35.71428571428571, 31.88775510204081, 0.0, 25.420723136193246]"
            ]
          },
          "metadata": {},
          "execution_count": 140
        }
      ],
      "source": [
        "# another version? cleaner\n",
        "\n",
        "def present_values(r, cashflows):\n",
        "  xs = []\n",
        "  for i, cf in enumerate(cashflows):\n",
        "    xs.append(cf * pow(1+r, -i))\n",
        "  return xs\n",
        "\n",
        "def npv_(r, cashflows):\n",
        "  return sum(present_values(r, cashflows))\n",
        "\n",
        "present_values(r, cashflows)"
      ]
    },
    {
      "cell_type": "markdown",
      "metadata": {
        "id": "pGT4ajl-P_O6"
      },
      "source": [
        "How to calculate IRR? We need to find a solution for equation `NPV(r=IRR, cashflows=cashflows) = 0`"
      ]
    },
    {
      "cell_type": "code",
      "execution_count": null,
      "metadata": {
        "colab": {
          "base_uri": "https://localhost:8080/"
        },
        "id": "1qILlxs4A7Uw",
        "outputId": "984798fe-a086-4753-85b9-e991727399fe"
      },
      "outputs": [
        {
          "output_type": "execute_result",
          "data": {
            "text/plain": [
              "-6.977236047480233"
            ]
          },
          "metadata": {},
          "execution_count": 142
        }
      ],
      "source": [
        "npv(r=.12, cashflows=[-100, 40, 40, 0, 40])"
      ]
    },
    {
      "cell_type": "code",
      "execution_count": null,
      "metadata": {
        "id": "89djcYcf2dEV"
      },
      "outputs": [],
      "source": [
        "from scipy.optimize import newton\n",
        "newton?"
      ]
    },
    {
      "cell_type": "code",
      "execution_count": null,
      "metadata": {
        "colab": {
          "base_uri": "https://localhost:8080/"
        },
        "id": "6oO3o0cAc4Zj",
        "outputId": "14428fdc-0e73-4c88-8b40-3a5cd1cf2eed"
      },
      "outputs": [
        {
          "output_type": "execute_result",
          "data": {
            "text/plain": [
              "-2.0"
            ]
          },
          "metadata": {},
          "execution_count": 147
        }
      ],
      "source": [
        "def f(x):\n",
        "  return x + 2\n",
        "\n",
        "# \"functions are first class\"\n",
        "newton(f, x0=1)"
      ]
    },
    {
      "cell_type": "code",
      "execution_count": null,
      "metadata": {
        "colab": {
          "base_uri": "https://localhost:8080/"
        },
        "id": "_bfwTpsUQe3V",
        "outputId": "abfda9ef-91e3-4df6-c68f-9f9495fbc28b"
      },
      "outputs": [
        {
          "output_type": "execute_result",
          "data": {
            "text/plain": [
              "0"
            ]
          },
          "metadata": {},
          "execution_count": 149
        }
      ],
      "source": [
        "f(-2)"
      ]
    },
    {
      "cell_type": "code",
      "execution_count": null,
      "metadata": {
        "colab": {
          "base_uri": "https://localhost:8080/"
        },
        "id": "Ls8P_xNz4kc6",
        "outputId": "287aaddd-6b76-4e8c-a39b-e7642584b7e8"
      },
      "outputs": [
        {
          "output_type": "execute_result",
          "data": {
            "text/plain": [
              "0.08356315112852986"
            ]
          },
          "metadata": {},
          "execution_count": 152
        }
      ],
      "source": [
        "from scipy.optimize import newton\n",
        "\n",
        "cashflows = [-100, 40, 40, 0, 40]\n",
        "def by_rate(r):\n",
        "  return npv(r, cashflows) #closure\n",
        "\n",
        "irr1 = newton(by_rate, x0=0.1)\n",
        "irr1"
      ]
    },
    {
      "cell_type": "code",
      "execution_count": null,
      "metadata": {
        "colab": {
          "base_uri": "https://localhost:8080/"
        },
        "id": "9kWULUN7Q4JC",
        "outputId": "07977357-8453-4702-fab1-fa8de83daf7f"
      },
      "outputs": [
        {
          "output_type": "execute_result",
          "data": {
            "text/plain": [
              "6.81268375046784e-11"
            ]
          },
          "metadata": {},
          "execution_count": 153
        }
      ],
      "source": [
        "npv(irr1, cashflows)\n",
        "# why not exactly zero?"
      ]
    },
    {
      "cell_type": "code",
      "execution_count": null,
      "metadata": {
        "colab": {
          "base_uri": "https://localhost:8080/"
        },
        "id": "gcecyqn85fk7",
        "outputId": "a13f248d-20f1-48f4-8fa2-dcc451f58aee"
      },
      "outputs": [
        {
          "output_type": "execute_result",
          "data": {
            "text/plain": [
              "0.08356315112852986"
            ]
          },
          "metadata": {},
          "execution_count": 154
        }
      ],
      "source": [
        "def irr0(cashflows):\n",
        "  def by_rate(r):\n",
        "    return npv(r, cashflows) # \"closure\" on cashflows\n",
        "  return newton(by_rate, x0=0.1)\n",
        "\n",
        "irr0(cashflows)"
      ]
    },
    {
      "cell_type": "code",
      "execution_count": null,
      "metadata": {
        "id": "5qFyu5FarBhY"
      },
      "outputs": [],
      "source": [
        "def irr(cashflows):\n",
        "  return newton(npv, x0=0.1, args=(cashflows,))"
      ]
    },
    {
      "cell_type": "code",
      "execution_count": null,
      "metadata": {
        "colab": {
          "base_uri": "https://localhost:8080/"
        },
        "id": "dKiymDOKQ0yw",
        "outputId": "63b2c871-168e-430b-f825-dcc2ac1e7dd6"
      },
      "outputs": [
        {
          "output_type": "execute_result",
          "data": {
            "text/plain": [
              "0.08356315112852986"
            ]
          },
          "metadata": {},
          "execution_count": 156
        }
      ],
      "source": [
        "cashflows = [-100, 40, 40, 0, 40]\n",
        "irr(cashflows)"
      ]
    },
    {
      "cell_type": "markdown",
      "metadata": {
        "id": "KqI2yeuWSRb0"
      },
      "source": [
        "What if we had fractions of year for our APR calculation?\n",
        "\n",
        "\n",
        "- Up-front fee: \\$20  \n",
        "- Interest (total): \\$20  \n",
        "- Amount: \\$ 200  \n",
        "- Term: 2 weeks  \n",
        "\n",
        "What is APR? Need to solve for `r`:\n",
        "\n",
        "```NPV(repayments, r) = NPV(drawdown, r)```\n",
        "\n",
        "20 + 220*(1+r)^(14/365) = 200"
      ]
    },
    {
      "cell_type": "code",
      "execution_count": null,
      "metadata": {
        "id": "RU7e757VSjgN"
      },
      "outputs": [],
      "source": [
        "def present_value2(days_and_cashflows, r):\n",
        "  for days, cf in days_and_cashflows:\n",
        "    yield cf * pow(1+r, -days/365)\n",
        "\n",
        "def npv2(r, days_and_cashflows):\n",
        "  return sum(present_value2(days_and_cashflows, r))\n",
        "\n",
        "def irr2(days_and_cashflows):\n",
        "  return newton(npv2, x0=0.1, args=(days_and_cashflows,))"
      ]
    },
    {
      "cell_type": "code",
      "execution_count": null,
      "metadata": {
        "colab": {
          "base_uri": "https://localhost:8080/"
        },
        "id": "iC3Jbdp-SQIN",
        "outputId": "2c86f866-fd03-4381-c098-62f17b3827dc"
      },
      "outputs": [
        {
          "output_type": "execute_result",
          "data": {
            "text/plain": [
              "18612.4"
            ]
          },
          "metadata": {},
          "execution_count": 158
        }
      ],
      "source": [
        "r = .10\n",
        "days_and_cashflows = [(0, -20), (0, 200), (14, -220)]\n",
        "round(irr2(days_and_cashflows)*100,1)"
      ]
    },
    {
      "cell_type": "code",
      "execution_count": null,
      "metadata": {
        "colab": {
          "base_uri": "https://localhost:8080/"
        },
        "id": "pH9lt3dH0uoo",
        "outputId": "9be382c1-550e-41fe-d484-63fda7635a0d"
      },
      "outputs": [
        {
          "output_type": "execute_result",
          "data": {
            "text/plain": [
              "-1.411312069876658e-06"
            ]
          },
          "metadata": {},
          "execution_count": 159
        }
      ],
      "source": [
        "npv2(186.124, days_and_cashflows)"
      ]
    },
    {
      "cell_type": "markdown",
      "metadata": {
        "id": "9nkM2bjtxAsd"
      },
      "source": [
        "## Accounting system\n",
        "\n",
        "Try define some data structures and fucntions that can mimic a simple double entry accounting system.\n",
        "\n"
      ]
    },
    {
      "cell_type": "code",
      "execution_count": null,
      "metadata": {
        "id": "7AwrYx_ogBBt"
      },
      "outputs": [],
      "source": [
        "assets = dict()\n",
        "equity = dict()\n",
        "liab = dict()"
      ]
    },
    {
      "cell_type": "markdown",
      "metadata": {
        "id": "LtxAuMZh_9uN"
      },
      "source": [
        "# Classes\n",
        "\n",
        "Classes allow binding together some data and behavior - functions, or methods that work on that data. Classes are templates for new objects, called 'instances' of a class.\n",
        "\n",
        "In some programming languages you cannot even write a program without classes (Java) or use them almost exclusively (C++). But some languages do not have classes at all (Julia, Haskell). Some favor using classes (Ruby). In Python you can do a lot of work before using them explicitly.\n",
        "\n",
        "Under the hood in Python everything is an object of some class, just by design.\n",
        "\n",
        "Note: writing your code with classes provides not guarantees it will be superior to code without classes. Code with classes sometimes can create more problems than it solves (more boilerplate, tight bundling, bad interfaces, etc.).\n",
        "\n",
        "Class and instances are part of object-oriented programming (OOP) approach.\n",
        "Arguably, in the past programmers were more excited about OOP than they seem so now.\n",
        "\n",
        "In everyday Python we need classes for new useful data structures like `pandas.DataFrame` and understanding why methods like ```\"abc\".upper()``` work.\n",
        "\n",
        "\n",
        "Glossary:\n",
        "\n",
        "- class\n",
        "- instance, object\n",
        "- constructor\n",
        "- attribute, property\n",
        "- method\n",
        "- object oriented programming (OOP)\n",
        "- encapsulation, inhertance, polimorphism\n",
        "\n",
        "To discuss:\n",
        "- composition vs inheritance\n",
        "\n",
        "\n",
        "Reading and watching:\n",
        "\n",
        "- https://python-programming.quantecon.org/oop_intro.html\n",
        "- https://peppel-g.github.io/course-material/lectures/python-object-oriented-programming/#lecture-material\n",
        "- https://www.youtube.com/watch?v=8yjkWGRlUmY"
      ]
    },
    {
      "cell_type": "markdown",
      "metadata": {
        "id": "124RPNhSNq-Z"
      },
      "source": [
        "## \"I have got a Point\""
      ]
    },
    {
      "cell_type": "code",
      "source": [
        "class Point:\n",
        "  pass"
      ],
      "metadata": {
        "id": "DZuA0m3lHclz"
      },
      "execution_count": null,
      "outputs": []
    },
    {
      "cell_type": "code",
      "source": [
        "p = Point()"
      ],
      "metadata": {
        "id": "H_32btKNHd8x"
      },
      "execution_count": null,
      "outputs": []
    },
    {
      "cell_type": "code",
      "source": [
        "type(p)"
      ],
      "metadata": {
        "colab": {
          "base_uri": "https://localhost:8080/"
        },
        "id": "1J3zEQpnHggf",
        "outputId": "adb8d743-64fb-4617-a8f8-b5c8df9bb0d1"
      },
      "execution_count": null,
      "outputs": [
        {
          "output_type": "execute_result",
          "data": {
            "text/plain": [
              "__main__.Point"
            ]
          },
          "metadata": {},
          "execution_count": 77
        }
      ]
    },
    {
      "cell_type": "code",
      "source": [
        "isinstance(p, Point)"
      ],
      "metadata": {
        "colab": {
          "base_uri": "https://localhost:8080/"
        },
        "id": "Cgn75fA6IJha",
        "outputId": "fdd5c5d7-88c9-4c1d-e0fb-c571c607ea7a"
      },
      "execution_count": null,
      "outputs": [
        {
          "output_type": "execute_result",
          "data": {
            "text/plain": [
              "False"
            ]
          },
          "metadata": {},
          "execution_count": 78
        }
      ]
    },
    {
      "cell_type": "code",
      "source": [
        "# class is a template for some object"
      ],
      "metadata": {
        "id": "yrQkLcMuH2qm"
      },
      "execution_count": null,
      "outputs": []
    },
    {
      "cell_type": "code",
      "source": [
        "class Point:\n",
        "  # This is class constructor - the code that runs when class instance is created.\n",
        "  def __init__(self, x, y):\n",
        "    self.x = x\n",
        "    self.y = y\n",
        "\n",
        "  def __repr__(self):\n",
        "    # Can be any string, but makes sense to have a constructor\n",
        "    # expression like Point(3,2)\n",
        "    return \"Point(\" + str(self.x) + \", \" + str(self.y) + \")\"\n",
        "\n",
        "  def from_center(self):\n",
        "    \"\"\"Return distance from (0, 0) to point *p*.\"\"\"\n",
        "    return (self.x ** 2 + self.y ** 2) ** .5\n",
        "\n",
        "# what functions or methods do we need to work on Point?\n",
        "p = Point(2, 3)\n",
        "p.from_center()"
      ],
      "metadata": {
        "colab": {
          "base_uri": "https://localhost:8080/"
        },
        "id": "fXWUqsp9ITDX",
        "outputId": "6d85f9f8-f12b-43c2-f535-f94074c188e5"
      },
      "execution_count": null,
      "outputs": [
        {
          "output_type": "execute_result",
          "data": {
            "text/plain": [
              "3.605551275463989"
            ]
          },
          "metadata": {},
          "execution_count": 89
        }
      ]
    },
    {
      "cell_type": "code",
      "source": [
        "Point(2, 3)"
      ],
      "metadata": {
        "colab": {
          "base_uri": "https://localhost:8080/"
        },
        "id": "AzlCpCG1I1jQ",
        "outputId": "143636c1-2d99-4f24-b333-3e57ae1c8486"
      },
      "execution_count": null,
      "outputs": [
        {
          "output_type": "execute_result",
          "data": {
            "text/plain": [
              "Point(2, 3)"
            ]
          },
          "metadata": {},
          "execution_count": 87
        }
      ]
    },
    {
      "cell_type": "code",
      "source": [],
      "metadata": {
        "id": "UOiYunm7IYw_"
      },
      "execution_count": null,
      "outputs": []
    },
    {
      "cell_type": "code",
      "execution_count": null,
      "metadata": {
        "colab": {
          "base_uri": "https://localhost:8080/"
        },
        "id": "m1DZG3d-G3bj",
        "outputId": "ab797352-77c5-4f9d-c77f-8850fd48dfe5"
      },
      "outputs": [
        {
          "output_type": "execute_result",
          "data": {
            "text/plain": [
              "(<__main__.Point at 0x7f091321dd50>, <__main__.Point at 0x7f091321d950>)"
            ]
          },
          "metadata": {},
          "execution_count": 75
        }
      ],
      "source": [
        "# minimal definition of a class\n",
        "class Point:\n",
        "  pass\n",
        "\n",
        "# p1 and p2 hold instances of class Point\n",
        "p1 = Point()\n",
        "p1.x = 2\n",
        "p1.y = 1\n",
        "\n",
        "p2 = Point()\n",
        "p2.x = 5\n",
        "p2.y = 3\n",
        "\n",
        "# not very nicely looking until we specify how to show a class\n",
        "# in a readable way\n",
        "p1, p2"
      ]
    },
    {
      "cell_type": "code",
      "source": [
        "(p1.x, p2.y)"
      ],
      "metadata": {
        "colab": {
          "base_uri": "https://localhost:8080/"
        },
        "id": "28jmd5AXHvnp",
        "outputId": "f0766e74-23d8-4516-b078-8a82258db61c"
      },
      "execution_count": null,
      "outputs": [
        {
          "output_type": "execute_result",
          "data": {
            "text/plain": [
              "(2, 3)"
            ]
          },
          "metadata": {},
          "execution_count": 76
        }
      ]
    },
    {
      "cell_type": "code",
      "source": [
        "# what does this expression mean?\n",
        "(p1.x ** 2 + p1.y ** 2) ** .5"
      ],
      "metadata": {
        "id": "sUa2XtjAPZ1B"
      },
      "execution_count": null,
      "outputs": []
    },
    {
      "cell_type": "code",
      "execution_count": null,
      "metadata": {
        "colab": {
          "base_uri": "https://localhost:8080/"
        },
        "id": "0JFGi5w9H4Fm",
        "outputId": "0a6fc8ea-511a-4f16-c5db-ee4f07e25f62"
      },
      "outputs": [
        {
          "data": {
            "text/plain": [
              "2.23606797749979"
            ]
          },
          "execution_count": 7,
          "metadata": {},
          "output_type": "execute_result"
        }
      ],
      "source": [
        "def from_center(p):\n",
        "   \"\"\"Return distance from (0, 0) to point *p*.\"\"\"\n",
        "   return (p.x ** 2 + p.y ** 2) ** .5\n",
        "\n",
        "from_center(p1)"
      ]
    },
    {
      "cell_type": "code",
      "execution_count": null,
      "metadata": {
        "id": "ZzoDysjfIpdr"
      },
      "outputs": [],
      "source": [
        "import math\n",
        "\n",
        "class Point:\n",
        "\n",
        "  # This is class constructor - the code that runs when class instance is created.\n",
        "  def __init__(self, x, y):\n",
        "    self.x = x\n",
        "    self.y = y\n",
        "\n",
        "  # We created a method - a function that works on class instance itself.\n",
        "  # This method is similar to function from_center() defined above\n",
        "  def from_center(self):\n",
        "    return (self.x ** 2 + self.y ** 2) ** .5\n",
        "\n",
        "  # Let's make method that can move a point\n",
        "  # provided a direction in degrees and a distance.\n",
        "  # Zero degrees point east, 90 degrees point north.\n",
        "  def move(self, degrees, distance):\n",
        "    rad = math.radians(degrees)\n",
        "    dx = distance * math.cos(rad)\n",
        "    self.x = self.x + dx\n",
        "    # shorter notation for y coordinate\n",
        "    self.y +=  distance * math.sin(rad)\n",
        "    # returning self allows chaining, see below\n",
        "    return self\n",
        "\n",
        "  def right(self, distance):\n",
        "    self.x += distance\n",
        "    return self\n",
        "\n",
        "  def left(self, distance):\n",
        "    return self.right(-distance)\n",
        "\n",
        "  def up(self):\n",
        "    # Excercise: make up() method\n",
        "    pass\n",
        "\n",
        "  def down(self):\n",
        "    # Excercise: make down() method\n",
        "    pass\n",
        "\n",
        "  # We need this hidden method to make == work.\n",
        "  def __eq__(self, p):\n",
        "    return (self.x == p.x) and (self.y == p.y)\n",
        "\n",
        "  # Without __repr__\n",
        "  def __repr__(self):\n",
        "    # Can be any string, but makes sense to have a constructor\n",
        "    # expression like Point(3,2)\n",
        "    return \"I am Point(\" + str(self.x) + \",\" + str(self.y) + \")\""
      ]
    },
    {
      "cell_type": "code",
      "execution_count": null,
      "metadata": {
        "colab": {
          "base_uri": "https://localhost:8080/"
        },
        "id": "CvcyH_ysL8AX",
        "outputId": "7187673e-b08a-4001-c68b-d990972e5fb2"
      },
      "outputs": [
        {
          "output_type": "execute_result",
          "data": {
            "text/plain": [
              "I am Point(2,1)"
            ]
          },
          "metadata": {},
          "execution_count": 21
        }
      ],
      "source": [
        "Point(2, 1)"
      ]
    },
    {
      "cell_type": "code",
      "execution_count": null,
      "metadata": {
        "colab": {
          "base_uri": "https://localhost:8080/"
        },
        "id": "f4IZ7_TcNKcf",
        "outputId": "74a8c7da-016d-4102-b92f-c8383a362ce3"
      },
      "outputs": [
        {
          "output_type": "execute_result",
          "data": {
            "text/plain": [
              "2.23606797749979"
            ]
          },
          "metadata": {},
          "execution_count": 22
        }
      ],
      "source": [
        "Point(2, 1).from_center()"
      ]
    },
    {
      "cell_type": "code",
      "execution_count": null,
      "metadata": {
        "colab": {
          "base_uri": "https://localhost:8080/"
        },
        "id": "D7ks3_MCL56w",
        "outputId": "527a3b3e-9167-4616-d438-b3bb58f9bb3d"
      },
      "outputs": [
        {
          "output_type": "execute_result",
          "data": {
            "text/plain": [
              "1.0"
            ]
          },
          "metadata": {},
          "execution_count": 23
        }
      ],
      "source": [
        "Point(0,0).left(6).right(5).from_center()"
      ]
    },
    {
      "cell_type": "code",
      "execution_count": null,
      "metadata": {
        "colab": {
          "base_uri": "https://localhost:8080/"
        },
        "id": "hTHlR5i9PJBG",
        "outputId": "fc0adcad-3d44-455d-89a3-2bb2240f72cb"
      },
      "outputs": [
        {
          "output_type": "execute_result",
          "data": {
            "text/plain": [
              "True"
            ]
          },
          "metadata": {},
          "execution_count": 24
        }
      ],
      "source": [
        "Point(3,3) == Point(3,3)"
      ]
    },
    {
      "cell_type": "code",
      "execution_count": null,
      "metadata": {
        "id": "aY92UCIKPooh"
      },
      "outputs": [],
      "source": [
        "assert Point(3, 0).left(3) == Point(0, 0)"
      ]
    },
    {
      "cell_type": "code",
      "execution_count": null,
      "metadata": {
        "id": "RBvxWN6wY7BA"
      },
      "outputs": [],
      "source": [
        "# Excercise: make a Circle class with Point as center and a radius\n",
        "# Add .area() method\n",
        "# Let's make area a property\n"
      ]
    },
    {
      "cell_type": "markdown",
      "metadata": {
        "id": "EHaQ5cWweQ7e"
      },
      "source": [
        "## Pets and animals"
      ]
    },
    {
      "cell_type": "code",
      "execution_count": null,
      "metadata": {
        "id": "8luKWarF_823"
      },
      "outputs": [],
      "source": [
        "class Pet:\n",
        "  def __init__(self, name):   # constructor\n",
        "    self.name = name          # attribute, property\n",
        "\n",
        "  def rename(self, new_name): # method for inline change\n",
        "    self.name = new_name\n",
        "    # return self             # what does returning self help to achieve?\n",
        "\n",
        "  def cheer(self):            # method that returns a string\n",
        "    return self.name + \", you are so good!\""
      ]
    },
    {
      "cell_type": "code",
      "execution_count": null,
      "metadata": {
        "colab": {
          "base_uri": "https://localhost:8080/",
          "height": 73
        },
        "id": "krX4t0I4A8ry",
        "outputId": "e66dbce8-cc81-48e6-c4b1-6f78484e5c88"
      },
      "outputs": [
        {
          "name": "stdout",
          "output_type": "stream",
          "text": [
            "Tobias\n",
            "Tobi\n"
          ]
        },
        {
          "data": {
            "application/vnd.google.colaboratory.intrinsic+json": {
              "type": "string"
            },
            "text/plain": [
              "'Tobi, you are so good!'"
            ]
          },
          "execution_count": 50,
          "metadata": {},
          "output_type": "execute_result"
        }
      ],
      "source": [
        "p = Pet(\"Tobias\")\n",
        "print(p.name)\n",
        "\n",
        "p.rename(\"Tobi\")\n",
        "print(p.name)\n",
        "p.cheer()"
      ]
    },
    {
      "cell_type": "code",
      "execution_count": null,
      "metadata": {
        "id": "J1ZtrMk6Bxle"
      },
      "outputs": [],
      "source": [
        "class Dog(Pet):\n",
        "   def __init__(self, name, year_born):  # constructor\n",
        "      self.name = name                   # attribute, property\n",
        "      self.year_born = year_born         # attribute, property"
      ]
    },
    {
      "cell_type": "code",
      "execution_count": null,
      "metadata": {
        "colab": {
          "base_uri": "https://localhost:8080/",
          "height": 36
        },
        "id": "R7quFKMMB6Yj",
        "outputId": "14f42889-d17e-44af-fd5d-16bf92dfb0db"
      },
      "outputs": [
        {
          "data": {
            "application/vnd.google.colaboratory.intrinsic+json": {
              "type": "string"
            },
            "text/plain": [
              "'Keika, you are so good!'"
            ]
          },
          "execution_count": 52,
          "metadata": {},
          "output_type": "execute_result"
        }
      ],
      "source": [
        "Dog(name=\"Keika\", year_born=2020).cheer()"
      ]
    },
    {
      "cell_type": "code",
      "execution_count": null,
      "metadata": {
        "colab": {
          "base_uri": "https://localhost:8080/",
          "height": 193
        },
        "id": "bXx4iVDwCcQI",
        "outputId": "11a3eb21-b3d9-49aa-9237-dda73f14dcf7"
      },
      "outputs": [
        {
          "ename": "AttributeError",
          "evalue": "ignored",
          "output_type": "error",
          "traceback": [
            "\u001b[0;31m---------------------------------------------------------------------------\u001b[0m",
            "\u001b[0;31mAttributeError\u001b[0m                            Traceback (most recent call last)",
            "\u001b[0;32m<ipython-input-53-37693903a3db>\u001b[0m in \u001b[0;36m<module>\u001b[0;34m()\u001b[0m\n\u001b[0;32m----> 1\u001b[0;31m \u001b[0mDog\u001b[0m\u001b[0;34m(\u001b[0m\u001b[0;34m\"Keika\"\u001b[0m\u001b[0;34m,\u001b[0m \u001b[0;36m2020\u001b[0m\u001b[0;34m)\u001b[0m\u001b[0;34m.\u001b[0m\u001b[0mrename\u001b[0m\u001b[0;34m(\u001b[0m\u001b[0;34m\"Kei\"\u001b[0m\u001b[0;34m)\u001b[0m\u001b[0;34m.\u001b[0m\u001b[0mcheer\u001b[0m\u001b[0;34m(\u001b[0m\u001b[0;34m)\u001b[0m\u001b[0;34m\u001b[0m\u001b[0;34m\u001b[0m\u001b[0m\n\u001b[0m\u001b[1;32m      2\u001b[0m \u001b[0;31m# How can I fix this?\u001b[0m\u001b[0;34m\u001b[0m\u001b[0;34m\u001b[0m\u001b[0;34m\u001b[0m\u001b[0m\n",
            "\u001b[0;31mAttributeError\u001b[0m: 'NoneType' object has no attribute 'cheer'"
          ]
        }
      ],
      "source": [
        "Dog(\"Keika\", 2020).rename(\"Kei\").cheer()\n",
        "# How can I fix this?"
      ]
    },
    {
      "cell_type": "code",
      "execution_count": null,
      "metadata": {
        "colab": {
          "base_uri": "https://localhost:8080/"
        },
        "id": "AA9cuhwm49Ky",
        "outputId": "2c8b90c1-0f17-4bcd-9b47-43afe9764300"
      },
      "outputs": [
        {
          "output_type": "execute_result",
          "data": {
            "text/plain": [
              "Animal(name='Baloo', born=1894)"
            ]
          },
          "metadata": {},
          "execution_count": 92
        }
      ],
      "source": [
        "# dataclasses help a lot by reducing amount of code we need to write for a class\n",
        "# - no __init___\n",
        "# __repr__\n",
        "\n",
        "from dataclasses import dataclass\n",
        "\n",
        "@dataclass\n",
        "class Animal:\n",
        "  name: str\n",
        "  born: int\n",
        "\n",
        "a = Animal(\"Baloo\", 1894)\n",
        "a"
      ]
    },
    {
      "cell_type": "markdown",
      "metadata": {
        "id": "ZZ_z-RR9evDM"
      },
      "source": [
        "## Company as a class"
      ]
    },
    {
      "cell_type": "code",
      "execution_count": null,
      "metadata": {
        "id": "n4VYL62gDDL5"
      },
      "outputs": [],
      "source": [
        "# How do I define a company?\n",
        "# What methods/functions can work on a company instance\n",
        "\n",
        "@dataclass\n",
        "class Company:\n",
        "  title: str\n",
        "  address: str\n",
        "  inn: int\n",
        "\n",
        "  def relocate(self, new_address):\n",
        "    self.address = new_address\n",
        "    return self"
      ]
    },
    {
      "cell_type": "code",
      "execution_count": null,
      "metadata": {
        "colab": {
          "base_uri": "https://localhost:8080/"
        },
        "id": "rtNH-mQdiLbM",
        "outputId": "05c1647e-8a40-4345-a83c-625cc8f96ea2"
      },
      "outputs": [
        {
          "output_type": "execute_result",
          "data": {
            "text/plain": [
              "Company(title='My Big Co', address='Mayakovskaya 30', inn=35476)"
            ]
          },
          "metadata": {},
          "execution_count": 96
        }
      ],
      "source": [
        "k = Company(\"My Big Co\", address=\"Tveskaya 1\",  inn=35476)\n",
        "k.relocate(\"Mayakovskaya 30\")\n",
        "k"
      ]
    },
    {
      "cell_type": "code",
      "execution_count": null,
      "metadata": {
        "colab": {
          "base_uri": "https://localhost:8080/"
        },
        "id": "9Rd7y55_e1G7",
        "outputId": "54311b59-6671-4b78-def2-83d0a90c1064"
      },
      "outputs": [
        {
          "output_type": "execute_result",
          "data": {
            "text/plain": [
              "{'address': 'Mayakovskaya 30', 'inn': 35476, 'title': 'My Big Co'}"
            ]
          },
          "metadata": {},
          "execution_count": 97
        }
      ],
      "source": [
        "# very useful for serialisation\n",
        "k.__dict__"
      ]
    },
    {
      "cell_type": "code",
      "source": [
        "dir(Company)"
      ],
      "metadata": {
        "colab": {
          "base_uri": "https://localhost:8080/"
        },
        "id": "lCgZ9nWxLZW1",
        "outputId": "53a43c87-eaa7-4f93-cd5d-57e09bd1779c"
      },
      "execution_count": null,
      "outputs": [
        {
          "output_type": "execute_result",
          "data": {
            "text/plain": [
              "['__annotations__',\n",
              " '__class__',\n",
              " '__dataclass_fields__',\n",
              " '__dataclass_params__',\n",
              " '__delattr__',\n",
              " '__dict__',\n",
              " '__dir__',\n",
              " '__doc__',\n",
              " '__eq__',\n",
              " '__format__',\n",
              " '__ge__',\n",
              " '__getattribute__',\n",
              " '__gt__',\n",
              " '__hash__',\n",
              " '__init__',\n",
              " '__init_subclass__',\n",
              " '__le__',\n",
              " '__lt__',\n",
              " '__module__',\n",
              " '__ne__',\n",
              " '__new__',\n",
              " '__reduce__',\n",
              " '__reduce_ex__',\n",
              " '__repr__',\n",
              " '__setattr__',\n",
              " '__sizeof__',\n",
              " '__str__',\n",
              " '__subclasshook__',\n",
              " '__weakref__',\n",
              " 'relocate']"
            ]
          },
          "metadata": {},
          "execution_count": 98
        }
      ]
    },
    {
      "cell_type": "markdown",
      "metadata": {
        "id": "QOKurq0Te_EW"
      },
      "source": [
        "## dir() to find out about methods"
      ]
    },
    {
      "cell_type": "code",
      "execution_count": null,
      "metadata": {
        "colab": {
          "base_uri": "https://localhost:8080/"
        },
        "id": "8XyZnKTDGOLN",
        "outputId": "9fdc75f3-307d-4912-940c-4e8a7d4f04eb"
      },
      "outputs": [
        {
          "data": {
            "text/plain": [
              "['__class__',\n",
              " '__delattr__',\n",
              " '__dict__',\n",
              " '__dir__',\n",
              " '__doc__',\n",
              " '__eq__',\n",
              " '__format__',\n",
              " '__ge__',\n",
              " '__getattribute__',\n",
              " '__gt__',\n",
              " '__hash__',\n",
              " '__init__',\n",
              " '__init_subclass__',\n",
              " '__le__',\n",
              " '__lt__',\n",
              " '__module__',\n",
              " '__ne__',\n",
              " '__new__',\n",
              " '__reduce__',\n",
              " '__reduce_ex__',\n",
              " '__repr__',\n",
              " '__setattr__',\n",
              " '__sizeof__',\n",
              " '__str__',\n",
              " '__subclasshook__',\n",
              " '__weakref__',\n",
              " 'cheer',\n",
              " 'rename']"
            ]
          },
          "execution_count": 114,
          "metadata": {},
          "output_type": "execute_result"
        }
      ],
      "source": [
        "dir(Pet)"
      ]
    },
    {
      "cell_type": "code",
      "execution_count": null,
      "metadata": {
        "colab": {
          "base_uri": "https://localhost:8080/",
          "height": 36
        },
        "id": "5QhoYmLYkeIq",
        "outputId": "f80a3154-0b7f-4d6e-ff9a-5535ef6dbcd6"
      },
      "outputs": [
        {
          "data": {
            "application/vnd.google.colaboratory.intrinsic+json": {
              "type": "string"
            },
            "text/plain": [
              "'ABC'"
            ]
          },
          "execution_count": 219,
          "metadata": {},
          "output_type": "execute_result"
        }
      ],
      "source": [
        "\"abc\".upper()"
      ]
    },
    {
      "cell_type": "code",
      "source": [
        "xs = []\n",
        "xs.append(\"a\")\n",
        "xs"
      ],
      "metadata": {
        "colab": {
          "base_uri": "https://localhost:8080/"
        },
        "id": "A15Gfng7Lt5N",
        "outputId": "8d43d435-8c8d-4c5a-ae1b-cc0f1c667a17"
      },
      "execution_count": null,
      "outputs": [
        {
          "output_type": "execute_result",
          "data": {
            "text/plain": [
              "['a']"
            ]
          },
          "metadata": {},
          "execution_count": 100
        }
      ]
    },
    {
      "cell_type": "code",
      "execution_count": null,
      "metadata": {
        "colab": {
          "base_uri": "https://localhost:8080/"
        },
        "id": "FaigMIsIllJr",
        "outputId": "e4261bbe-749f-49e0-a557-9605f900c67b"
      },
      "outputs": [
        {
          "data": {
            "text/plain": [
              "['__add__',\n",
              " '__class__',\n",
              " '__contains__',\n",
              " '__delattr__',\n",
              " '__dir__',\n",
              " '__doc__',\n",
              " '__eq__',\n",
              " '__format__',\n",
              " '__ge__',\n",
              " '__getattribute__',\n",
              " '__getitem__',\n",
              " '__getnewargs__',\n",
              " '__gt__',\n",
              " '__hash__',\n",
              " '__init__',\n",
              " '__init_subclass__',\n",
              " '__iter__',\n",
              " '__le__',\n",
              " '__len__',\n",
              " '__lt__',\n",
              " '__mod__',\n",
              " '__mul__',\n",
              " '__ne__',\n",
              " '__new__',\n",
              " '__reduce__',\n",
              " '__reduce_ex__',\n",
              " '__repr__',\n",
              " '__rmod__',\n",
              " '__rmul__',\n",
              " '__setattr__',\n",
              " '__sizeof__',\n",
              " '__str__',\n",
              " '__subclasshook__',\n",
              " 'capitalize',\n",
              " 'casefold',\n",
              " 'center',\n",
              " 'count',\n",
              " 'encode',\n",
              " 'endswith',\n",
              " 'expandtabs',\n",
              " 'find',\n",
              " 'format',\n",
              " 'format_map',\n",
              " 'index',\n",
              " 'isalnum',\n",
              " 'isalpha',\n",
              " 'isascii',\n",
              " 'isdecimal',\n",
              " 'isdigit',\n",
              " 'isidentifier',\n",
              " 'islower',\n",
              " 'isnumeric',\n",
              " 'isprintable',\n",
              " 'isspace',\n",
              " 'istitle',\n",
              " 'isupper',\n",
              " 'join',\n",
              " 'ljust',\n",
              " 'lower',\n",
              " 'lstrip',\n",
              " 'maketrans',\n",
              " 'partition',\n",
              " 'replace',\n",
              " 'rfind',\n",
              " 'rindex',\n",
              " 'rjust',\n",
              " 'rpartition',\n",
              " 'rsplit',\n",
              " 'rstrip',\n",
              " 'split',\n",
              " 'splitlines',\n",
              " 'startswith',\n",
              " 'strip',\n",
              " 'swapcase',\n",
              " 'title',\n",
              " 'translate',\n",
              " 'upper',\n",
              " 'zfill']"
            ]
          },
          "execution_count": 115,
          "metadata": {},
          "output_type": "execute_result"
        }
      ],
      "source": [
        "dir(\"abc\")"
      ]
    },
    {
      "cell_type": "code",
      "execution_count": null,
      "metadata": {
        "colab": {
          "base_uri": "https://localhost:8080/",
          "height": 36
        },
        "id": "ImQdtuQIGf8g",
        "outputId": "586b5b0c-3467-4e79-9d64-3afbfa9e095e"
      },
      "outputs": [
        {
          "data": {
            "application/vnd.google.colaboratory.intrinsic+json": {
              "type": "string"
            },
            "text/plain": [
              "'ABC ABC'"
            ]
          },
          "execution_count": 119,
          "metadata": {},
          "output_type": "execute_result"
        }
      ],
      "source": [
        "\"   ABC ABC     \".strip()"
      ]
    },
    {
      "cell_type": "markdown",
      "source": [
        "## Everything in Python is an instance of some class\n",
        "\n",
        "... even though we do not have to bother too much about it."
      ],
      "metadata": {
        "id": "gTwO1gO3OR51"
      }
    },
    {
      "cell_type": "code",
      "source": [
        "import pandas\n",
        "\n",
        "pandas.DataFrame?"
      ],
      "metadata": {
        "id": "Lg7Dw6RnOH7k"
      },
      "execution_count": null,
      "outputs": []
    },
    {
      "cell_type": "markdown",
      "source": [
        "# Exceptions"
      ],
      "metadata": {
        "id": "dyPODUHKdBsg"
      }
    },
    {
      "cell_type": "code",
      "source": [
        "#Error? Exceptions\n",
        "\n",
        "#a[ # SyntaxError:\n",
        "#'abc\"\n",
        "# 1/0 DivisionbyZero\n",
        "# \"abc\"[0] = \"A\" TypeError\n",
        "\n",
        "#raise NotImplementedError(\"The program was forced to stop...\")\n",
        "\n",
        "def div(a, b):\n",
        "  if isinstance(a, float) and isinstance(a, float) and b !=0:\n",
        "    return a / b\n",
        "  else:\n",
        "    raise ValueError(\"args not valid\")\n",
        "div(5.0, 0)"
      ],
      "metadata": {
        "id": "pxqRvbwgdBUW"
      },
      "execution_count": null,
      "outputs": []
    },
    {
      "cell_type": "markdown",
      "source": [
        "# Script, modules, packages"
      ],
      "metadata": {
        "id": "cGBT5DxKaVS2"
      }
    },
    {
      "cell_type": "markdown",
      "source": [
        "Module and package are more technical terms for Python:\n",
        "\n",
        "- module is just a file with python code\n",
        "- package is \"transportable\" group of modules that an be downlaoded and installed on your system\n",
        "\n",
        "Script refers to some code that is not structured to functions or classes and simply runs line by line. Scripts are fine to automate some tasks on your computer.\n",
        "Popular book: https://automatetheboringstuff.com/2e/\n",
        "\n",
        "\n"
      ],
      "metadata": {
        "id": "C2YufKiaac5M"
      }
    },
    {
      "cell_type": "markdown",
      "source": [
        "- built-in `len()`\n",
        "- standard library math  - no installation\n",
        "- import from a file we wrote (`fact.py`)\n",
        "- import from a package - needs to be installed\n"
      ],
      "metadata": {
        "id": "XBDn-qb3qJEG"
      }
    },
    {
      "cell_type": "code",
      "source": [
        "import math\n",
        "\n",
        "PI = math.pi\n",
        "math.sin(PI) #nearly zero"
      ],
      "metadata": {
        "colab": {
          "base_uri": "https://localhost:8080/"
        },
        "id": "zkJqFpECcCBO",
        "outputId": "1e3e95f6-2f52-4fe3-dbda-55b0f7481abd"
      },
      "execution_count": null,
      "outputs": [
        {
          "output_type": "execute_result",
          "data": {
            "text/plain": [
              "1.2246467991473532e-16"
            ]
          },
          "metadata": {},
          "execution_count": 166
        }
      ]
    },
    {
      "cell_type": "code",
      "source": [
        "!pip install cowsay"
      ],
      "metadata": {
        "colab": {
          "base_uri": "https://localhost:8080/"
        },
        "id": "rSl9PQUfbVjg",
        "outputId": "4674c0a9-4de8-4513-f2cc-0dc8afaad3d0"
      },
      "execution_count": null,
      "outputs": [
        {
          "output_type": "stream",
          "name": "stdout",
          "text": [
            "Looking in indexes: https://pypi.org/simple, https://us-python.pkg.dev/colab-wheels/public/simple/\n",
            "Collecting cowsay\n",
            "  Downloading cowsay-5.0.tar.gz (25 kB)\n",
            "Building wheels for collected packages: cowsay\n",
            "  Building wheel for cowsay (setup.py) ... \u001b[?25l\u001b[?25hdone\n",
            "  Created wheel for cowsay: filename=cowsay-5.0-py2.py3-none-any.whl size=25725 sha256=661f50e7d094053c506681ebcf53af7662ef7bce7f3150d40b789b8aa3be05d3\n",
            "  Stored in directory: /root/.cache/pip/wheels/ec/64/04/df66e4b3e5afa8fc293c3c5fae0269a55b80f381d833010aeb\n",
            "Successfully built cowsay\n",
            "Installing collected packages: cowsay\n",
            "Successfully installed cowsay-5.0\n"
          ]
        }
      ]
    },
    {
      "cell_type": "code",
      "source": [
        "from cowsay import cow\n",
        "cow('Hello World! It`s me')"
      ],
      "metadata": {
        "colab": {
          "base_uri": "https://localhost:8080/"
        },
        "id": "cqPh95HJb1k2",
        "outputId": "e7a94dba-202c-41cd-f43c-3798ad61a72f"
      },
      "execution_count": null,
      "outputs": [
        {
          "output_type": "stream",
          "name": "stdout",
          "text": [
            "  ____________________\n",
            "| Hello World! It`s me |\n",
            "  ====================\n",
            "                    \\\n",
            "                     \\\n",
            "                       ^__^\n",
            "                       (oo)\\_______\n",
            "                       (__)\\       )\\/\\\n",
            "                           ||----w |\n",
            "                           ||     ||\n"
          ]
        }
      ]
    },
    {
      "cell_type": "code",
      "source": [
        "from cowsay import get_output_string\n",
        "\n",
        "dino = get_output_string('trex', \"Hello, I'm a dino\")\n",
        "assert (\"Hello, I'm a dino\" in dino)\n",
        "\n",
        "print(dino)"
      ],
      "metadata": {
        "colab": {
          "base_uri": "https://localhost:8080/"
        },
        "id": "6JnQ9jG0bgjO",
        "outputId": "b134acab-2a85-4c09-f713-799821111dec"
      },
      "execution_count": null,
      "outputs": [
        {
          "output_type": "stream",
          "name": "stdout",
          "text": [
            "  _________________\n",
            "| Hello, I'm a dino |\n",
            "  =================\n",
            "                        \\\n",
            "                         \\\n",
            "                          \\\n",
            "                           \\\n",
            "                              .-=-==--==--.\n",
            "                        ..-==\"  ,'o`)      `.\n",
            "                      ,'         `\"'         \\\n",
            "                     :  (                     `.__...._\n",
            "                     |                  )    /         `-=-.\n",
            "                     :       ,vv.-._   /    /               `---==-._\n",
            "                      \\/\\/\\/VV ^ d88`;'    /                         `.\n",
            "                          ``  ^/d88P!'    /             ,              `._\n",
            "                             ^/    !'   ,.      ,      /                  \"-,,__,,--'\"\"\"\"-.\n",
            "                            ^/    !'  ,'  \\ . .(      (         _           )  ) ) ) ))_,-.\\\n",
            "                           ^(__ ,!',\"'   ;:+.:%:a.     \\:.. . ,'          )  )  ) ) ,\"'    '\n",
            "                           ',,,'','     /o:::\":%:%a.    \\:.:.:         .    )  ) _,'\n",
            "                            \"\"\"'       ;':::'' `+%%%a._  \\%:%|         ;.). _,-\"\"\n",
            "                                   ,-='_.-'      ``:%::)  )%:|        /:._,\"\n",
            "                                  (/(/\"           ,\" ,'_,'%%%:       (_,'\n",
            "                                                 (  (//(`.___;        \\\n",
            "                                                  \\     \\    `         `\n",
            "                                                   `.    `.   `.        :\n",
            "                                                     \\. . .\\    : . . . :\n",
            "                                                      \\. . .:    `.. . .:\n",
            "                                                       `..:.:\\     \\:...\\\n",
            "                                                        ;:.:.;      ::...:\n",
            "                                                        ):%::       :::::;\n",
            "                                                    __,::%:(        :::::\n",
            "                                                 ,;:%%%%%%%:        ;:%::\n",
            "                                                   ;,--\"\"-.`\\  ,=--':%:%:\\\n",
            "                                                  /\"       \"| /-\".:%%%%%%%\\\n",
            "                                                                  ;,-\"'`)%%)\n",
            "                                                                 /\"      \"|\n"
          ]
        }
      ]
    },
    {
      "cell_type": "markdown",
      "source": [
        "# Reading and writing files\n",
        "\n"
      ],
      "metadata": {
        "id": "EbdQTO3EaqYU"
      }
    },
    {
      "cell_type": "code",
      "source": [
        "# https://docs.python.org/3/tutorial/inputoutput.html#reading-and-writing-files\n",
        "\n",
        "with open(\"dino.txt\", \"w\") as f: #context manager\n",
        "  f.write(dino)"
      ],
      "metadata": {
        "id": "xeZdE4G3cTcE"
      },
      "execution_count": null,
      "outputs": []
    },
    {
      "cell_type": "code",
      "source": [
        "f = open(\"dino.txt\")\n",
        "content = f.read()\n",
        "f.close()\n",
        "print(content[:500])\n",
        "assert content == dino # big victory for us!\n",
        "\n",
        "# Q: change code above to 'with' construct"
      ],
      "metadata": {
        "colab": {
          "base_uri": "https://localhost:8080/"
        },
        "id": "GPq4fGpjc1S0",
        "outputId": "156172d3-9055-4732-fccb-bafa00bbaa8f"
      },
      "execution_count": null,
      "outputs": [
        {
          "output_type": "stream",
          "name": "stdout",
          "text": [
            "  _________________\n",
            "| Hello, I'm a dino |\n",
            "  =================\n",
            "                        \\\n",
            "                         \\\n",
            "                          \\\n",
            "                           \\\n",
            "                              .-=-==--==--.\n",
            "                        ..-==\"  ,'o`)      `.\n",
            "                      ,'         `\"'         \\\n",
            "                     :  (                     `.__...._\n",
            "                     |                  )    /         `-=-.\n",
            "                     :       ,vv.-._   /    /               `---==-._\n",
            "    \n"
          ]
        }
      ]
    },
    {
      "cell_type": "code",
      "source": [
        "from pathlib import Path\n",
        "\n",
        "p = Path(\"dino2.txt\")\n",
        "p.write_text(dino)\n",
        "content2 = p.read_text()\n",
        "assert content2 == dino\n",
        "\n",
        "# Q: sorten the code\n",
        "\n",
        "# Things that can go wrong:\n",
        "# - encoding (utf-8, cp1251,...)\n",
        "# - end of lines (\"\\n\", \"\\r\\n\")\n",
        "# - paths (where is my file?)\n",
        "# - modes - 'a'"
      ],
      "metadata": {
        "id": "T02lhlGDcfto"
      },
      "execution_count": null,
      "outputs": []
    },
    {
      "cell_type": "code",
      "source": [
        "print(\"abc\\nabc\")"
      ],
      "metadata": {
        "colab": {
          "base_uri": "https://localhost:8080/"
        },
        "id": "n50n5Qn1tAt7",
        "outputId": "60d6c5da-0546-4123-c617-ab891ef6df1f"
      },
      "execution_count": null,
      "outputs": [
        {
          "output_type": "stream",
          "name": "stdout",
          "text": [
            "abc\n",
            "abc\n"
          ]
        }
      ]
    },
    {
      "cell_type": "markdown",
      "metadata": {
        "id": "YqrU6rXxBq5g"
      },
      "source": [
        "# Numeric computation\n",
        "\n",
        "Numpy: https://numpy.org/devdocs/user/absolute_beginners.html\n",
        "\n",
        "Scipy: https://docs.scipy.org/doc/scipy/reference/\n",
        "\n",
        "\n"
      ]
    },
    {
      "cell_type": "code",
      "execution_count": null,
      "metadata": {
        "colab": {
          "base_uri": "https://localhost:8080/",
          "height": 171
        },
        "id": "O28PB7iAmTXO",
        "outputId": "490fc8fa-75af-4350-9f49-a25c60fd3a23"
      },
      "outputs": [
        {
          "output_type": "error",
          "ename": "TypeError",
          "evalue": "ignored",
          "traceback": [
            "\u001b[0;31m---------------------------------------------------------------------------\u001b[0m",
            "\u001b[0;31mTypeError\u001b[0m                                 Traceback (most recent call last)",
            "\u001b[0;32m<ipython-input-176-f87fad572782>\u001b[0m in \u001b[0;36m<module>\u001b[0;34m\u001b[0m\n\u001b[0;32m----> 1\u001b[0;31m \u001b[0;34m[\u001b[0m\u001b[0;36m1\u001b[0m\u001b[0;34m,\u001b[0m \u001b[0;36m2\u001b[0m\u001b[0;34m,\u001b[0m \u001b[0;36m3\u001b[0m\u001b[0;34m]\u001b[0m \u001b[0;34m+\u001b[0m \u001b[0;36m1\u001b[0m\u001b[0;34m\u001b[0m\u001b[0;34m\u001b[0m\u001b[0m\n\u001b[0m",
            "\u001b[0;31mTypeError\u001b[0m: can only concatenate list (not \"int\") to list"
          ]
        }
      ],
      "source": [
        "[1, 2, 3] + 1"
      ]
    },
    {
      "cell_type": "code",
      "execution_count": null,
      "metadata": {
        "colab": {
          "base_uri": "https://localhost:8080/"
        },
        "id": "C0rB3MLeD3_k",
        "outputId": "fab8755b-92f9-4865-aeaf-fb06f0e5e242"
      },
      "outputs": [
        {
          "output_type": "execute_result",
          "data": {
            "text/plain": [
              "array([2, 3, 4])"
            ]
          },
          "metadata": {},
          "execution_count": 177
        }
      ],
      "source": [
        "import numpy as np\n",
        "\n",
        "np.array([1,2,3]) + 1"
      ]
    },
    {
      "cell_type": "code",
      "execution_count": null,
      "metadata": {
        "colab": {
          "base_uri": "https://localhost:8080/"
        },
        "id": "qq8h3RhDBt2w",
        "outputId": "9d6042f2-8ae0-4ff2-8f9e-b21e301af4ed"
      },
      "outputs": [
        {
          "output_type": "stream",
          "name": "stdout",
          "text": [
            "[[1 2 3]\n",
            " [4 5 6]]\n"
          ]
        }
      ],
      "source": [
        "import numpy as np\n",
        "\n",
        "a = np.array([[1, 2, 3], [4, 5, 6]])\n",
        "print(a)"
      ]
    },
    {
      "cell_type": "code",
      "source": [
        "a[0][2]"
      ],
      "metadata": {
        "colab": {
          "base_uri": "https://localhost:8080/"
        },
        "id": "CUQ1BaZIt1Pe",
        "outputId": "2d0eb311-8607-469c-9799-69be5ca9e17e"
      },
      "execution_count": null,
      "outputs": [
        {
          "output_type": "execute_result",
          "data": {
            "text/plain": [
              "3"
            ]
          },
          "metadata": {},
          "execution_count": 179
        }
      ]
    },
    {
      "cell_type": "code",
      "execution_count": null,
      "metadata": {
        "colab": {
          "base_uri": "https://localhost:8080/"
        },
        "id": "3Dt_4O_kCS0u",
        "outputId": "f32ab8ad-bd3d-4614-d311-eeaa89282bee"
      },
      "outputs": [
        {
          "output_type": "execute_result",
          "data": {
            "text/plain": [
              "array([[ 9, 12, 15],\n",
              "       [18, 21, 24]])"
            ]
          },
          "metadata": {},
          "execution_count": 180
        }
      ],
      "source": [
        "3 * (a + 2)"
      ]
    },
    {
      "cell_type": "code",
      "execution_count": null,
      "metadata": {
        "colab": {
          "base_uri": "https://localhost:8080/"
        },
        "id": "DWTJmqZlCW5o",
        "outputId": "340fcc41-0483-4167-fd5a-7ef737588f8e"
      },
      "outputs": [
        {
          "output_type": "execute_result",
          "data": {
            "text/plain": [
              "numpy.ndarray"
            ]
          },
          "metadata": {},
          "execution_count": 181
        }
      ],
      "source": [
        "type(a)"
      ]
    },
    {
      "cell_type": "code",
      "execution_count": null,
      "metadata": {
        "id": "pJmVYABDJSVG"
      },
      "outputs": [],
      "source": [
        "# https://github.com/numpy/numpy-financial/blob/master/numpy_financial/_financial.py#L863\n",
        "np.npv?"
      ]
    },
    {
      "cell_type": "code",
      "execution_count": null,
      "metadata": {
        "colab": {
          "base_uri": "https://localhost:8080/"
        },
        "id": "EEy5T3boP8o7",
        "outputId": "e50f7008-8322-4a36-c566-8b27ab1b1e39"
      },
      "outputs": [
        {
          "output_type": "execute_result",
          "data": {
            "text/plain": [
              "-6.977236047480233"
            ]
          },
          "metadata": {},
          "execution_count": 186
        }
      ],
      "source": [
        "cashflows = [-100, 40, 40, 0, 40]\n",
        "r = 0.12\n",
        "d = 1 / (1+r)\n",
        "N = len(cashflows)\n",
        "sum(cashflows * (d ** np.arange(N))) # same result as above, great!"
      ]
    },
    {
      "cell_type": "code",
      "execution_count": null,
      "metadata": {
        "colab": {
          "base_uri": "https://localhost:8080/"
        },
        "id": "zQ6NOe-MESZV",
        "outputId": "bd06f79e-e58b-4cc6-bf4a-60696bd7ef8b"
      },
      "outputs": [
        {
          "output_type": "execute_result",
          "data": {
            "text/plain": [
              "-6.977236047480233"
            ]
          },
          "metadata": {},
          "execution_count": 187
        }
      ],
      "source": [
        "sum(cashflows * (d ** np.arange(N)))"
      ]
    },
    {
      "cell_type": "code",
      "execution_count": null,
      "metadata": {
        "colab": {
          "base_uri": "https://localhost:8080/",
          "height": 392
        },
        "id": "32HE3uhJQOyi",
        "outputId": "2830e6ed-f9d7-49e0-af63-86b8a30b86ce"
      },
      "outputs": [
        {
          "output_type": "stream",
          "name": "stderr",
          "text": [
            "/usr/local/lib/python3.7/dist-packages/ipykernel_launcher.py:1: DeprecationWarning: In accordance with NEP 32, the function npv was removed from NumPy version 1.20.  A replacement for this function is available in the numpy_financial library: https://pypi.org/project/numpy-financial\n",
            "  \"\"\"Entry point for launching an IPython kernel.\n"
          ]
        },
        {
          "output_type": "error",
          "ename": "RuntimeError",
          "evalue": "ignored",
          "traceback": [
            "\u001b[0;31m---------------------------------------------------------------------------\u001b[0m",
            "\u001b[0;31mRuntimeError\u001b[0m                              Traceback (most recent call last)",
            "\u001b[0;32m<ipython-input-188-6b9c7de27f33>\u001b[0m in \u001b[0;36m<module>\u001b[0;34m\u001b[0m\n\u001b[0;32m----> 1\u001b[0;31m \u001b[0mnp\u001b[0m\u001b[0;34m.\u001b[0m\u001b[0mnpv\u001b[0m\u001b[0;34m(\u001b[0m\u001b[0mr\u001b[0m\u001b[0;34m,\u001b[0m \u001b[0mcf\u001b[0m\u001b[0;34m)\u001b[0m\u001b[0;34m\u001b[0m\u001b[0;34m\u001b[0m\u001b[0m\n\u001b[0m",
            "\u001b[0;32m/usr/local/lib/python3.7/dist-packages/numpy/__init__.py\u001b[0m in \u001b[0;36m_expired\u001b[0;34m(*args, **kwds)\u001b[0m\n\u001b[1;32m    285\u001b[0m \u001b[0;34m\u001b[0m\u001b[0m\n\u001b[1;32m    286\u001b[0m                 \u001b[0;32mdef\u001b[0m \u001b[0m_expired\u001b[0m\u001b[0;34m(\u001b[0m\u001b[0;34m*\u001b[0m\u001b[0margs\u001b[0m\u001b[0;34m,\u001b[0m \u001b[0;34m**\u001b[0m\u001b[0mkwds\u001b[0m\u001b[0;34m)\u001b[0m\u001b[0;34m:\u001b[0m\u001b[0;34m\u001b[0m\u001b[0;34m\u001b[0m\u001b[0m\n\u001b[0;32m--> 287\u001b[0;31m                     \u001b[0;32mraise\u001b[0m \u001b[0mRuntimeError\u001b[0m\u001b[0;34m(\u001b[0m\u001b[0mmsg\u001b[0m\u001b[0;34m)\u001b[0m\u001b[0;34m\u001b[0m\u001b[0;34m\u001b[0m\u001b[0m\n\u001b[0m\u001b[1;32m    288\u001b[0m \u001b[0;34m\u001b[0m\u001b[0m\n\u001b[1;32m    289\u001b[0m                 \u001b[0;32mreturn\u001b[0m \u001b[0m_expired\u001b[0m\u001b[0;34m\u001b[0m\u001b[0;34m\u001b[0m\u001b[0m\n",
            "\u001b[0;31mRuntimeError\u001b[0m: In accordance with NEP 32, the function npv was removed from NumPy version 1.20.  A replacement for this function is available in the numpy_financial library: https://pypi.org/project/numpy-financial"
          ]
        }
      ],
      "source": [
        "np.npv(r, cf)"
      ]
    },
    {
      "cell_type": "code",
      "source": [
        "message = \"\"\"\n",
        "I want this message to be stored on\n",
        "\"\"\"\n",
        "\n",
        "with open(\"\")"
      ],
      "metadata": {
        "id": "mVuq2XUAauRu",
        "colab": {
          "base_uri": "https://localhost:8080/",
          "height": 135
        },
        "outputId": "087f8035-23e4-47dc-f25f-e680df510a65"
      },
      "execution_count": null,
      "outputs": [
        {
          "output_type": "error",
          "ename": "SyntaxError",
          "evalue": "ignored",
          "traceback": [
            "\u001b[0;36m  File \u001b[0;32m\"<ipython-input-189-085ad613e544>\"\u001b[0;36m, line \u001b[0;32m5\u001b[0m\n\u001b[0;31m    with open(\"\")\u001b[0m\n\u001b[0m                 ^\u001b[0m\n\u001b[0;31mSyntaxError\u001b[0m\u001b[0;31m:\u001b[0m invalid syntax\n"
          ]
        }
      ]
    },
    {
      "cell_type": "markdown",
      "metadata": {
        "id": "CEzSh-fiTA3f"
      },
      "source": [
        "# Misc excercises\n",
        "\n",
        "- Train carriage vs home number - which type suits best?\n",
        "\n",
        "- x[1] - what data structure can be referred this way?\n",
        "\n",
        "- Check the length of text in variable t may fit a tweet\n",
        "\n",
        "- Write a function that retruns the smaller of its two arguments\n",
        "\n",
        "- Write a function that produces initials - for example EP\n",
        "\n",
        "- Calculate discount factor for rate r for d days.\n"
      ]
    },
    {
      "cell_type": "markdown",
      "source": [],
      "metadata": {
        "id": "QjekbNnHnOWo"
      }
    },
    {
      "cell_type": "code",
      "execution_count": null,
      "metadata": {
        "id": "uclP7HwQa9HB"
      },
      "outputs": [],
      "source": [
        "# int 1...16\n",
        "# 7a\n",
        "(7, \"a\")\n",
        "\"7a\"\n",
        "\"5/6\""
      ]
    },
    {
      "cell_type": "code",
      "execution_count": null,
      "metadata": {
        "id": "vlcs0OhXbuTF"
      },
      "outputs": [],
      "source": [
        "# x[1] - what data structure can be referred this way?\n",
        "# ..."
      ]
    },
    {
      "cell_type": "code",
      "execution_count": null,
      "metadata": {
        "colab": {
          "base_uri": "https://localhost:8080/",
          "height": 36
        },
        "id": "5P7icu9Acv0-",
        "outputId": "c4f9bc97-0b67-4dee-f74b-01e127fd2ed4"
      },
      "outputs": [
        {
          "data": {
            "application/vnd.google.colaboratory.intrinsic+json": {
              "type": "string"
            },
            "text/plain": [
              "'Moscow'"
            ]
          },
          "execution_count": 27,
          "metadata": {},
          "output_type": "execute_result"
        }
      ],
      "source": [
        "y = {1: \"Moscow\", 3: \"9 Parkovaya\"}\n",
        "y[1]"
      ]
    },
    {
      "cell_type": "code",
      "execution_count": null,
      "metadata": {
        "colab": {
          "base_uri": "https://localhost:8080/",
          "height": 36
        },
        "id": "uDxEvkeSbwB4",
        "outputId": "eb5a24bc-d04e-4a9a-a25c-4da98a88816c"
      },
      "outputs": [
        {
          "data": {
            "application/vnd.google.colaboratory.intrinsic+json": {
              "type": "string"
            },
            "text/plain": [
              "'value'"
            ]
          },
          "execution_count": 28,
          "metadata": {},
          "output_type": "execute_result"
        }
      ],
      "source": [
        "# ...\n",
        "x = \"Python\"\n",
        "x = [10, 20, 30]\n",
        "x = (7, \"a\")\n",
        "x = {1: \"value\"}\n",
        "x[1]"
      ]
    },
    {
      "cell_type": "code",
      "source": [],
      "metadata": {
        "id": "NZMg9E8Cymny"
      },
      "execution_count": null,
      "outputs": []
    },
    {
      "cell_type": "code",
      "execution_count": null,
      "metadata": {
        "id": "WECEt9d5dda1"
      },
      "outputs": [],
      "source": [
        "# Check the length of text in variable t may fit a tweet\n",
        "\n",
        "t = (\"a\" * 256) + \"https://colab.research.google.com/drive/1r4HPvUduBSmFW_v6lZpbAEjoNg2Z4Vch#scrollTo=WECEt9d5dda1\"\n",
        "len(t) <= 256\n",
        "\n",
        "# \"border case\"\n",
        "\n",
        "\n",
        "if (\"http\" in t):\n",
        "  pass # empty placeholder\n",
        "elif (\"@\" in t):\n",
        "  pass\n",
        "else:\n",
        "  len(t) <= 256"
      ]
    },
    {
      "cell_type": "code",
      "execution_count": null,
      "metadata": {
        "id": "DGMopM8jgPHw"
      },
      "outputs": [],
      "source": [
        "# Write a function that returns the smaller of its two arguments\n",
        "\n",
        "def smaller(a, b):\n",
        "  if a <= b:\n",
        "    return a\n",
        "  else:\n",
        "    return b\n",
        "\n",
        "assert (smaller(1, 2) == 1)\n",
        "assert (smaller(1, 1) == 1)"
      ]
    },
    {
      "cell_type": "code",
      "execution_count": null,
      "metadata": {
        "id": "_HhKj5XYg_SE"
      },
      "outputs": [],
      "source": [
        "# 95 -> A - unusual  - later.\n",
        "def grade_to_letter(g):\n",
        "   if g > 90:\n",
        "     return \"A\"\n",
        "   elif g > 80:\n",
        "     return \"B\"\n",
        "\n",
        "grade_to_letter(70)"
      ]
    },
    {
      "cell_type": "markdown",
      "source": [
        "# Creating your own function (homework - no grading )\n",
        "\n",
        "A function encapsulates some code to be reused. This assignment is to write one or several small functions in Python that are useful for some operations or calculations.\n",
        "\n",
        "Must have:\n",
        "\n",
        "- [ ] idea of calculation explained as comment\n",
        "- [ ] distinctive function name that complies with Python conventions\n",
        "- [ ] any sources for code that are used are cited (other tutorials, StackOverflow, Github, etc.)\n",
        "\n",
        "Extra:\n",
        "\n",
        "- [ ] type annotated for arguments   \n",
        "- [ ] docstring\n",
        "- [ ] how to check function behaviour (with `assert`)\n",
        "\n",
        "Expectation - ideally:\n",
        "\n",
        "- you demonstrated usage of several data types\n",
        "- you demonstated usage of control stuctures (if, loops)\n",
        "- functions are not trivial (eg `mean()` is not sufficient)\n",
        "- code up to 15-20 lines\n",
        "- relates to finance / economics\n",
        "\n",
        "If you are stuck:\n",
        "\n",
        "- discuss your idea in class\n",
        "- modify some functions that inside Python intoduction notebook\n",
        "- replicate or alternate some standard library functions\n",
        "- think of some workflow or a business process in finance or operations - what calculations can be needed\n",
        "- function that does something random\n"
      ],
      "metadata": {
        "id": "4LPaKoc5nPOe"
      }
    }
  ],
  "metadata": {
    "colab": {
      "provenance": [],
      "toc_visible": true,
      "include_colab_link": true
    },
    "kernelspec": {
      "display_name": "Python 3",
      "name": "python3"
    }
  },
  "nbformat": 4,
  "nbformat_minor": 0
}